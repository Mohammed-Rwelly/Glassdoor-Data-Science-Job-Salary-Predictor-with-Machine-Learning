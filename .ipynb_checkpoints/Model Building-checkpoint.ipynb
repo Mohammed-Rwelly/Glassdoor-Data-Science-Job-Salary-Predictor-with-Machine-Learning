{
 "cells": [
  {
   "cell_type": "markdown",
   "id": "20a3666f",
   "metadata": {},
   "source": [
    "#### I will use a couple of differnt models to predict the excepted salary of differnt positions that we scrapped from glassdoor"
   ]
  },
  {
   "cell_type": "code",
   "execution_count": 1,
   "id": "fb5fa2e3",
   "metadata": {},
   "outputs": [],
   "source": [
    "import pandas as pd\n",
    "import numpy as np\n",
    "import matplotlib.pyplot as plt"
   ]
  },
  {
   "cell_type": "markdown",
   "id": "d00fc661",
   "metadata": {},
   "source": [
    "#### Read the data after data cleaning and Explority data anlayst "
   ]
  },
  {
   "cell_type": "code",
   "execution_count": 2,
   "id": "2f03a724",
   "metadata": {},
   "outputs": [],
   "source": [
    "data= pd.read_csv('data_after_cleaning.csv')"
   ]
  },
  {
   "cell_type": "markdown",
   "id": "48b8b3c1",
   "metadata": {},
   "source": [
    "#### Let's how many rows and columns we have"
   ]
  },
  {
   "cell_type": "code",
   "execution_count": 3,
   "id": "1b473fd3",
   "metadata": {},
   "outputs": [
    {
     "data": {
      "text/plain": [
       "(863, 43)"
      ]
     },
     "execution_count": 3,
     "metadata": {},
     "output_type": "execute_result"
    }
   ],
   "source": [
    "data.shape"
   ]
  },
  {
   "cell_type": "markdown",
   "id": "2b0210db",
   "metadata": {},
   "source": [
    "#### Next when we're building one of these models and we have categorical data we need to make what is known as dummy variable for each column like type of categorical variable so let's say we have our job simplified for data scientist data engineer machine learning engineer each of those need their own specific column we make a column for each of these and there's a one in the column if they have that attribute so if you're a data scientist the data scientist would have a one in it , and so that you know greatly increases the number of columns in our data frame"
   ]
  },
  {
   "cell_type": "code",
   "execution_count": 4,
   "id": "571ae58f",
   "metadata": {},
   "outputs": [
    {
     "data": {
      "text/plain": [
       "Index(['JobId', 'Source', 'CollectedDate', 'JobTitle', 'CompanyName',\n",
       "       'RatingNumber', 'PostedDate', 'Posted_Date_N', 'Salary', 'jobURL',\n",
       "       'fullJobDescribtion', 'Size', 'Type_Of_Ownership', 'Sector', 'Founded',\n",
       "       'Industry', 'Revenue', 'hourly', 'avg_salary', 'company_text',\n",
       "       'job_state', 'job_city', 'age_company', 'job_simp', 'seniority',\n",
       "       'desc_len', 'Machine_Learning', 'Python', 'Spark', 'Hadoop', 'Plarform',\n",
       "       'ETL', 'Sql', 'Security', 'PHD', 'Excel', 'Aws', 'PyTorch',\n",
       "       'TensorFlow', 'Tableau', 'Keras', 'Deep_Learning', 'Machine_Deep'],\n",
       "      dtype='object')"
      ]
     },
     "execution_count": 4,
     "metadata": {},
     "output_type": "execute_result"
    }
   ],
   "source": [
    "data.columns"
   ]
  },
  {
   "cell_type": "markdown",
   "id": "fa95b893",
   "metadata": {},
   "source": [
    "#### Shuffle the rows of the DataFrame using the sample() with the parameter frac as 1 , it determines what fraction of total instances need to be returned"
   ]
  },
  {
   "cell_type": "code",
   "execution_count": 5,
   "id": "f3bb5715",
   "metadata": {},
   "outputs": [
    {
     "data": {
      "text/html": [
       "<div>\n",
       "<style scoped>\n",
       "    .dataframe tbody tr th:only-of-type {\n",
       "        vertical-align: middle;\n",
       "    }\n",
       "\n",
       "    .dataframe tbody tr th {\n",
       "        vertical-align: top;\n",
       "    }\n",
       "\n",
       "    .dataframe thead th {\n",
       "        text-align: right;\n",
       "    }\n",
       "</style>\n",
       "<table border=\"1\" class=\"dataframe\">\n",
       "  <thead>\n",
       "    <tr style=\"text-align: right;\">\n",
       "      <th></th>\n",
       "      <th>JobId</th>\n",
       "      <th>Source</th>\n",
       "      <th>CollectedDate</th>\n",
       "      <th>JobTitle</th>\n",
       "      <th>CompanyName</th>\n",
       "      <th>RatingNumber</th>\n",
       "      <th>PostedDate</th>\n",
       "      <th>Posted_Date_N</th>\n",
       "      <th>Salary</th>\n",
       "      <th>jobURL</th>\n",
       "      <th>...</th>\n",
       "      <th>Security</th>\n",
       "      <th>PHD</th>\n",
       "      <th>Excel</th>\n",
       "      <th>Aws</th>\n",
       "      <th>PyTorch</th>\n",
       "      <th>TensorFlow</th>\n",
       "      <th>Tableau</th>\n",
       "      <th>Keras</th>\n",
       "      <th>Deep_Learning</th>\n",
       "      <th>Machine_Deep</th>\n",
       "    </tr>\n",
       "  </thead>\n",
       "  <tbody>\n",
       "    <tr>\n",
       "      <th>478</th>\n",
       "      <td>1008017048061</td>\n",
       "      <td>Glassdoor</td>\n",
       "      <td>2022-11-11</td>\n",
       "      <td>Lead Research Data Analyst</td>\n",
       "      <td>UC San Diego\\n4.2</td>\n",
       "      <td>4.2</td>\n",
       "      <td>30d+</td>\n",
       "      <td>2022-10-12</td>\n",
       "      <td>$60K - $83K (Glassdoor est.)</td>\n",
       "      <td>https://www.glassdoor.com/partner/jobListing.h...</td>\n",
       "      <td>...</td>\n",
       "      <td>0</td>\n",
       "      <td>1</td>\n",
       "      <td>1</td>\n",
       "      <td>0</td>\n",
       "      <td>0</td>\n",
       "      <td>0</td>\n",
       "      <td>0</td>\n",
       "      <td>0</td>\n",
       "      <td>1</td>\n",
       "      <td>1</td>\n",
       "    </tr>\n",
       "    <tr>\n",
       "      <th>417</th>\n",
       "      <td>1008272427168</td>\n",
       "      <td>Glassdoor</td>\n",
       "      <td>2022-11-10</td>\n",
       "      <td>Data Entry Specialist, Hours of Service (REMOT...</td>\n",
       "      <td>DISA Global Solutions\\n3.1</td>\n",
       "      <td>3.1</td>\n",
       "      <td>24h</td>\n",
       "      <td>2022-10-17</td>\n",
       "      <td>$32K - $47K (Glassdoor est.)</td>\n",
       "      <td>https://www.glassdoor.com/partner/jobListing.h...</td>\n",
       "      <td>...</td>\n",
       "      <td>0</td>\n",
       "      <td>0</td>\n",
       "      <td>1</td>\n",
       "      <td>0</td>\n",
       "      <td>0</td>\n",
       "      <td>0</td>\n",
       "      <td>0</td>\n",
       "      <td>0</td>\n",
       "      <td>1</td>\n",
       "      <td>0</td>\n",
       "    </tr>\n",
       "    <tr>\n",
       "      <th>535</th>\n",
       "      <td>1008129090348</td>\n",
       "      <td>Glassdoor</td>\n",
       "      <td>2022-11-11</td>\n",
       "      <td>Data Analyst</td>\n",
       "      <td>Sojern\\n4.4</td>\n",
       "      <td>4.4</td>\n",
       "      <td>30d+</td>\n",
       "      <td>2022-10-12</td>\n",
       "      <td>$68K - $101K (Glassdoor est.)</td>\n",
       "      <td>https://www.glassdoor.com/partner/jobListing.h...</td>\n",
       "      <td>...</td>\n",
       "      <td>0</td>\n",
       "      <td>0</td>\n",
       "      <td>1</td>\n",
       "      <td>0</td>\n",
       "      <td>0</td>\n",
       "      <td>1</td>\n",
       "      <td>1</td>\n",
       "      <td>0</td>\n",
       "      <td>1</td>\n",
       "      <td>1</td>\n",
       "    </tr>\n",
       "    <tr>\n",
       "      <th>299</th>\n",
       "      <td>1008264832897</td>\n",
       "      <td>Glassdoor</td>\n",
       "      <td>2022-11-09</td>\n",
       "      <td>Data Analytics Engineer</td>\n",
       "      <td>Acknowledge\\n4.3</td>\n",
       "      <td>4.3</td>\n",
       "      <td>1d</td>\n",
       "      <td>2022-11-08</td>\n",
       "      <td>$100K - $110K (Employer est.)</td>\n",
       "      <td>https://www.glassdoor.com/partner/jobListing.h...</td>\n",
       "      <td>...</td>\n",
       "      <td>1</td>\n",
       "      <td>0</td>\n",
       "      <td>0</td>\n",
       "      <td>0</td>\n",
       "      <td>0</td>\n",
       "      <td>1</td>\n",
       "      <td>1</td>\n",
       "      <td>0</td>\n",
       "      <td>0</td>\n",
       "      <td>0</td>\n",
       "    </tr>\n",
       "    <tr>\n",
       "      <th>573</th>\n",
       "      <td>1008264998717</td>\n",
       "      <td>Glassdoor</td>\n",
       "      <td>2022-11-11</td>\n",
       "      <td>Data Analyst Apprenticeship</td>\n",
       "      <td>Verizon\\n3.9</td>\n",
       "      <td>3.9</td>\n",
       "      <td>3d</td>\n",
       "      <td>2022-11-08</td>\n",
       "      <td>$61K - $91K (Glassdoor est.)</td>\n",
       "      <td>https://www.glassdoor.com/partner/jobListing.h...</td>\n",
       "      <td>...</td>\n",
       "      <td>1</td>\n",
       "      <td>0</td>\n",
       "      <td>0</td>\n",
       "      <td>0</td>\n",
       "      <td>0</td>\n",
       "      <td>0</td>\n",
       "      <td>1</td>\n",
       "      <td>0</td>\n",
       "      <td>0</td>\n",
       "      <td>0</td>\n",
       "    </tr>\n",
       "  </tbody>\n",
       "</table>\n",
       "<p>5 rows × 43 columns</p>\n",
       "</div>"
      ],
      "text/plain": [
       "             JobId     Source CollectedDate  \\\n",
       "478  1008017048061  Glassdoor    2022-11-11   \n",
       "417  1008272427168  Glassdoor    2022-11-10   \n",
       "535  1008129090348  Glassdoor    2022-11-11   \n",
       "299  1008264832897  Glassdoor    2022-11-09   \n",
       "573  1008264998717  Glassdoor    2022-11-11   \n",
       "\n",
       "                                              JobTitle  \\\n",
       "478                         Lead Research Data Analyst   \n",
       "417  Data Entry Specialist, Hours of Service (REMOT...   \n",
       "535                                       Data Analyst   \n",
       "299                            Data Analytics Engineer   \n",
       "573                        Data Analyst Apprenticeship   \n",
       "\n",
       "                    CompanyName  RatingNumber PostedDate Posted_Date_N  \\\n",
       "478           UC San Diego\\n4.2           4.2       30d+    2022-10-12   \n",
       "417  DISA Global Solutions\\n3.1           3.1        24h    2022-10-17   \n",
       "535                 Sojern\\n4.4           4.4       30d+    2022-10-12   \n",
       "299            Acknowledge\\n4.3           4.3         1d    2022-11-08   \n",
       "573                Verizon\\n3.9           3.9         3d    2022-11-08   \n",
       "\n",
       "                            Salary  \\\n",
       "478   $60K - $83K (Glassdoor est.)   \n",
       "417   $32K - $47K (Glassdoor est.)   \n",
       "535  $68K - $101K (Glassdoor est.)   \n",
       "299  $100K - $110K (Employer est.)   \n",
       "573   $61K - $91K (Glassdoor est.)   \n",
       "\n",
       "                                                jobURL  ... Security PHD  \\\n",
       "478  https://www.glassdoor.com/partner/jobListing.h...  ...        0   1   \n",
       "417  https://www.glassdoor.com/partner/jobListing.h...  ...        0   0   \n",
       "535  https://www.glassdoor.com/partner/jobListing.h...  ...        0   0   \n",
       "299  https://www.glassdoor.com/partner/jobListing.h...  ...        1   0   \n",
       "573  https://www.glassdoor.com/partner/jobListing.h...  ...        1   0   \n",
       "\n",
       "    Excel Aws  PyTorch TensorFlow Tableau  Keras  Deep_Learning Machine_Deep  \n",
       "478     1   0        0          0       0      0              1            1  \n",
       "417     1   0        0          0       0      0              1            0  \n",
       "535     1   0        0          1       1      0              1            1  \n",
       "299     0   0        0          1       1      0              0            0  \n",
       "573     0   0        0          0       1      0              0            0  \n",
       "\n",
       "[5 rows x 43 columns]"
      ]
     },
     "execution_count": 5,
     "metadata": {},
     "output_type": "execute_result"
    }
   ],
   "source": [
    "data =data.sample(frac=1)\n",
    "data.head()"
   ]
  },
  {
   "cell_type": "markdown",
   "id": "15b9a6b6",
   "metadata": {},
   "source": [
    "#### Next when we're building one of these models and we have categorical data we need to make what is known as dummy variable for each column like type of categorical variable so let's say we have our job simplified for data scientist data engineer machine learning engineer each of those need their own specific column we make a column for each of these and there's a one in the column if they have that attribute so if you're a data scientist the data scientist would have a one in it , and so that you know greatly increases the number of columns in our data frame"
   ]
  },
  {
   "cell_type": "code",
   "execution_count": 6,
   "id": "5325d960",
   "metadata": {},
   "outputs": [],
   "source": [
    "df_model=data[['avg_salary','RatingNumber','Size','Type_Of_Ownership','Industry','Sector','Revenue','job_state','Python','Spark','Aws','Excel','Machine_Learning','Tableau','Keras','TensorFlow','job_simp','job_state','seniority','desc_len','Deep_Learning','PyTorch','Machine_Deep','job_city','PHD','Sql','Security','Hadoop','hourly']]"
   ]
  },
  {
   "cell_type": "markdown",
   "id": "8211c556",
   "metadata": {},
   "source": [
    "#### Let's get our dummy data  so a lot of people use like one hot encoder I think get dummies works mose effectively"
   ]
  },
  {
   "cell_type": "code",
   "execution_count": 7,
   "id": "afd49040",
   "metadata": {},
   "outputs": [],
   "source": [
    "df_model=pd.get_dummies(df_model)"
   ]
  },
  {
   "cell_type": "markdown",
   "id": "c49dd131",
   "metadata": {},
   "source": [
    "#### as we can see we went from 34 to 353 columns "
   ]
  },
  {
   "cell_type": "code",
   "execution_count": 8,
   "id": "694abe2b",
   "metadata": {},
   "outputs": [
    {
     "data": {
      "text/plain": [
       "(863, 354)"
      ]
     },
     "execution_count": 8,
     "metadata": {},
     "output_type": "execute_result"
    }
   ],
   "source": [
    "df_model.shape"
   ]
  },
  {
   "cell_type": "markdown",
   "id": "98c0edbd",
   "metadata": {},
   "source": [
    "#### The first model we want to make is a Lenear Regreesion ,and the second one we want to do is a Lassso Regression and we're going to use a Lasso Regression because this data set is going to be so sparse with all these dummy variables ,the third thing we're going to do is a random forest after that we want to basically tune between these models using grid search   "
   ]
  },
  {
   "cell_type": "markdown",
   "id": "30b618f5",
   "metadata": {},
   "source": [
    "#### when we do values that makes it creates an array instead of series "
   ]
  },
  {
   "cell_type": "code",
   "execution_count": 9,
   "id": "b30b49c3",
   "metadata": {},
   "outputs": [],
   "source": [
    "x=df_model.drop('avg_salary',axis=1)\n",
    "y=df_model['avg_salary'].values"
   ]
  },
  {
   "cell_type": "markdown",
   "id": "ca3733be",
   "metadata": {},
   "source": [
    "#### let's display the head of x using head() functuon"
   ]
  },
  {
   "cell_type": "markdown",
   "id": "7b8ecc6e",
   "metadata": {},
   "source": [
    "#### We're going to create train test splits and we create a team we create a trained test split because we want our models to generalize wll so usually use a train set , a validation set and a test set and then to make sure that your models are actually effective in the real word you use that test set so I generally use the test set to test ensamble models , This here is going to give us a train set and a test set and we're going to split it by 0.2 that means there's 80 percent in our train set and 20 percent in our test se"
   ]
  },
  {
   "cell_type": "code",
   "execution_count": 56,
   "id": "2374caae",
   "metadata": {},
   "outputs": [],
   "source": [
    "from sklearn.model_selection import train_test_split\n",
    "xtrain,xtest,ytrain,ytest = train_test_split(x,y,test_size=0.2,random_state=22)"
   ]
  },
  {
   "cell_type": "code",
   "execution_count": 57,
   "id": "2000e011",
   "metadata": {},
   "outputs": [
    {
     "data": {
      "text/plain": [
       "(173, 353)"
      ]
     },
     "execution_count": 57,
     "metadata": {},
     "output_type": "execute_result"
    }
   ],
   "source": [
    "xtest.shape"
   ]
  },
  {
   "cell_type": "markdown",
   "id": "b5072a5c",
   "metadata": {},
   "source": [
    "#### The first model we want to make is a multiple linear regression ,we're going to use mean absolute error because I think it's most representative, this will show how far on average we're off our general prediction ,So it's a little bit difficult to actually get good values there is such limited data "
   ]
  },
  {
   "cell_type": "code",
   "execution_count": 58,
   "id": "3058eefa",
   "metadata": {},
   "outputs": [
    {
     "name": "stdout",
     "output_type": "stream",
     "text": [
      "[-61.42133385 -20.38524221 -11.92525044]\n",
      "-31.243942166040938\n"
     ]
    }
   ],
   "source": [
    "from sklearn.linear_model import LinearRegression, Lasso\n",
    "from sklearn.model_selection import cross_val_score\n",
    "lr=LinearRegression()\n",
    "lr.fit(xtrain,ytrain)\n",
    "print(cross_val_score(lr,xtrain,ytrain, scoring = 'neg_mean_absolute_error', cv=3))\n",
    "print(np.mean(cross_val_score(lr,xtrain,ytrain, scoring = 'neg_mean_absolute_error', cv= 3)))"
   ]
  },
  {
   "cell_type": "markdown",
   "id": "81a694af",
   "metadata": {},
   "source": [
    "#### we're going to use a lasso regression ,because this data set is so sparse with all these dummies and normalizes those values it should be better for model .\n",
    "Note : Where alpha is equal Zero it's the exact same thing as OLS multiple learning english "
   ]
  },
  {
   "cell_type": "code",
   "execution_count": 59,
   "id": "df0adf3f",
   "metadata": {},
   "outputs": [
    {
     "data": {
      "text/plain": [
       "-15.702949484597392"
      ]
     },
     "execution_count": 59,
     "metadata": {},
     "output_type": "execute_result"
    }
   ],
   "source": [
    "ls=Lasso()\n",
    "ls.fit(xtrain,ytrain)\n",
    "cross_val_score(ls,xtrain,ytrain, scoring='neg_mean_absolute_error',cv=3)\n",
    "np.mean(cross_val_score(ls,xtrain,ytrain,scoring='neg_mean_absolute_error',cv=3))"
   ]
  },
  {
   "cell_type": "code",
   "execution_count": 60,
   "id": "bef14c37",
   "metadata": {},
   "outputs": [
    {
     "name": "stderr",
     "output_type": "stream",
     "text": [
      "C:\\Users\\Mohameed\\Anaconda3\\lib\\site-packages\\sklearn\\linear_model\\_coordinate_descent.py:648: ConvergenceWarning: Objective did not converge. You might want to increase the number of iterations, check the scale of the features or consider increasing regularisation. Duality gap: 5.415e+03, tolerance: 7.226e+01\n",
      "  coef_, l1_reg, l2_reg, X, y, max_iter, tol, rng, random, positive\n",
      "C:\\Users\\Mohameed\\Anaconda3\\lib\\site-packages\\sklearn\\linear_model\\_coordinate_descent.py:648: ConvergenceWarning: Objective did not converge. You might want to increase the number of iterations, check the scale of the features or consider increasing regularisation. Duality gap: 2.263e+03, tolerance: 6.338e+01\n",
      "  coef_, l1_reg, l2_reg, X, y, max_iter, tol, rng, random, positive\n"
     ]
    }
   ],
   "source": [
    "alpha=[]\n",
    "error=[]\n",
    "for i in range(1,100):\n",
    "    alpha.append(i/100)\n",
    "    lm_l=Lasso(alpha=(i/100))\n",
    "    error.append(np.mean(cross_val_score(lm_l,xtrain,ytrain,scoring='neg_mean_absolute_error',cv=3)))"
   ]
  },
  {
   "cell_type": "markdown",
   "id": "4da7d879",
   "metadata": {},
   "source": [
    "#### as we increase alpha it increases the amount of data is smoth let's try a different values of alpha and to see which one performs the best"
   ]
  },
  {
   "cell_type": "code",
   "execution_count": 61,
   "id": "7a802d0a",
   "metadata": {},
   "outputs": [
    {
     "data": {
      "image/png": "[encoded data removed]",
      "text/plain": [
       "<Figure size 432x288 with 1 Axes>"
      ]
     },
     "metadata": {
      "needs_background": "light"
     },
     "output_type": "display_data"
    }
   ],
   "source": [
    "plt.figure(figsize=(6,4))\n",
    "plt.plot(alpha,error)\n",
    "plt.xlabel('alpha',fontsize=15)\n",
    "plt.ylabel('error',fontsize=15)\n",
    "plt.title('visulization the relationship between Alpah and Error')\n",
    "plt.show()"
   ]
  },
  {
   "cell_type": "markdown",
   "id": "fbf1854d",
   "metadata": {},
   "source": [
    "#### Nice , so we can see below that alpha of 0.02 is giving us the best error"
   ]
  },
  {
   "cell_type": "code",
   "execution_count": 62,
   "id": "46935780",
   "metadata": {},
   "outputs": [
    {
     "data": {
      "text/html": [
       "<div>\n",
       "<style scoped>\n",
       "    .dataframe tbody tr th:only-of-type {\n",
       "        vertical-align: middle;\n",
       "    }\n",
       "\n",
       "    .dataframe tbody tr th {\n",
       "        vertical-align: top;\n",
       "    }\n",
       "\n",
       "    .dataframe thead th {\n",
       "        text-align: right;\n",
       "    }\n",
       "</style>\n",
       "<table border=\"1\" class=\"dataframe\">\n",
       "  <thead>\n",
       "    <tr style=\"text-align: right;\">\n",
       "      <th></th>\n",
       "      <th>alpha</th>\n",
       "      <th>error</th>\n",
       "    </tr>\n",
       "  </thead>\n",
       "  <tbody>\n",
       "    <tr>\n",
       "      <th>1</th>\n",
       "      <td>0.02</td>\n",
       "      <td>-7.733765</td>\n",
       "    </tr>\n",
       "  </tbody>\n",
       "</table>\n",
       "</div>"
      ],
      "text/plain": [
       "   alpha     error\n",
       "1   0.02 -7.733765"
      ]
     },
     "execution_count": 62,
     "metadata": {},
     "output_type": "execute_result"
    }
   ],
   "source": [
    "err = tuple(zip(alpha,error))\n",
    "err=pd.DataFrame(err,columns=['alpha','error'])\n",
    "err[err['error'] == max(err['error'])]"
   ]
  },
  {
   "cell_type": "code",
   "execution_count": 63,
   "id": "d51aef18",
   "metadata": {},
   "outputs": [
    {
     "data": {
      "text/plain": [
       "-4.927022940328711"
      ]
     },
     "execution_count": 63,
     "metadata": {},
     "output_type": "execute_result"
    }
   ],
   "source": [
    "from sklearn.ensemble import RandomForestRegressor\n",
    "rf = RandomForestRegressor()\n",
    "rf.fit(xtrain,ytrain)\n",
    "np.mean(cross_val_score(rf,xtrain,ytrain,scoring='neg_mean_absolute_error',cv=3))"
   ]
  },
  {
   "cell_type": "markdown",
   "id": "7b1e01dc",
   "metadata": {},
   "source": [
    "#### Next thing we would want to do a little improvment for RandomForestRegressor through tuning GridSearch .\n",
    "What grid search does ?\n",
    "\n",
    "you put in all the parameters that you want to test it and actually it runs all the models t spits out the one with the best result "
   ]
  },
  {
   "cell_type": "code",
   "execution_count": null,
   "id": "89c8ec11",
   "metadata": {},
   "outputs": [
    {
     "name": "stderr",
     "output_type": "stream",
     "text": [
      "C:\\Users\\Mohameed\\Anaconda3\\lib\\site-packages\\sklearn\\ensemble\\_forest.py:400: FutureWarning: Criterion 'mse' was deprecated in v1.0 and will be removed in version 1.2. Use `criterion='squared_error'` which is equivalent.\n",
      "  FutureWarning,\n",
      "C:\\Users\\Mohameed\\Anaconda3\\lib\\site-packages\\sklearn\\ensemble\\_forest.py:400: FutureWarning: Criterion 'mse' was deprecated in v1.0 and will be removed in version 1.2. Use `criterion='squared_error'` which is equivalent.\n",
      "  FutureWarning,\n",
      "C:\\Users\\Mohameed\\Anaconda3\\lib\\site-packages\\sklearn\\ensemble\\_forest.py:400: FutureWarning: Criterion 'mse' was deprecated in v1.0 and will be removed in version 1.2. Use `criterion='squared_error'` which is equivalent.\n",
      "  FutureWarning,\n",
      "C:\\Users\\Mohameed\\Anaconda3\\lib\\site-packages\\sklearn\\ensemble\\_forest.py:400: FutureWarning: Criterion 'mse' was deprecated in v1.0 and will be removed in version 1.2. Use `criterion='squared_error'` which is equivalent.\n",
      "  FutureWarning,\n",
      "C:\\Users\\Mohameed\\Anaconda3\\lib\\site-packages\\sklearn\\ensemble\\_forest.py:400: FutureWarning: Criterion 'mse' was deprecated in v1.0 and will be removed in version 1.2. Use `criterion='squared_error'` which is equivalent.\n",
      "  FutureWarning,\n",
      "C:\\Users\\Mohameed\\Anaconda3\\lib\\site-packages\\sklearn\\ensemble\\_forest.py:400: FutureWarning: Criterion 'mse' was deprecated in v1.0 and will be removed in version 1.2. Use `criterion='squared_error'` which is equivalent.\n",
      "  FutureWarning,\n",
      "C:\\Users\\Mohameed\\Anaconda3\\lib\\site-packages\\sklearn\\ensemble\\_forest.py:400: FutureWarning: Criterion 'mse' was deprecated in v1.0 and will be removed in version 1.2. Use `criterion='squared_error'` which is equivalent.\n",
      "  FutureWarning,\n",
      "C:\\Users\\Mohameed\\Anaconda3\\lib\\site-packages\\sklearn\\ensemble\\_forest.py:400: FutureWarning: Criterion 'mse' was deprecated in v1.0 and will be removed in version 1.2. Use `criterion='squared_error'` which is equivalent.\n",
      "  FutureWarning,\n",
      "C:\\Users\\Mohameed\\Anaconda3\\lib\\site-packages\\sklearn\\ensemble\\_forest.py:400: FutureWarning: Criterion 'mse' was deprecated in v1.0 and will be removed in version 1.2. Use `criterion='squared_error'` which is equivalent.\n",
      "  FutureWarning,\n",
      "C:\\Users\\Mohameed\\Anaconda3\\lib\\site-packages\\sklearn\\ensemble\\_forest.py:400: FutureWarning: Criterion 'mse' was deprecated in v1.0 and will be removed in version 1.2. Use `criterion='squared_error'` which is equivalent.\n",
      "  FutureWarning,\n",
      "C:\\Users\\Mohameed\\Anaconda3\\lib\\site-packages\\sklearn\\ensemble\\_forest.py:400: FutureWarning: Criterion 'mse' was deprecated in v1.0 and will be removed in version 1.2. Use `criterion='squared_error'` which is equivalent.\n",
      "  FutureWarning,\n",
      "C:\\Users\\Mohameed\\Anaconda3\\lib\\site-packages\\sklearn\\ensemble\\_forest.py:400: FutureWarning: Criterion 'mse' was deprecated in v1.0 and will be removed in version 1.2. Use `criterion='squared_error'` which is equivalent.\n",
      "  FutureWarning,\n",
      "C:\\Users\\Mohameed\\Anaconda3\\lib\\site-packages\\sklearn\\ensemble\\_forest.py:400: FutureWarning: Criterion 'mse' was deprecated in v1.0 and will be removed in version 1.2. Use `criterion='squared_error'` which is equivalent.\n",
      "  FutureWarning,\n",
      "C:\\Users\\Mohameed\\Anaconda3\\lib\\site-packages\\sklearn\\ensemble\\_forest.py:400: FutureWarning: Criterion 'mse' was deprecated in v1.0 and will be removed in version 1.2. Use `criterion='squared_error'` which is equivalent.\n",
      "  FutureWarning,\n",
      "C:\\Users\\Mohameed\\Anaconda3\\lib\\site-packages\\sklearn\\ensemble\\_forest.py:400: FutureWarning: Criterion 'mse' was deprecated in v1.0 and will be removed in version 1.2. Use `criterion='squared_error'` which is equivalent.\n",
      "  FutureWarning,\n",
      "C:\\Users\\Mohameed\\Anaconda3\\lib\\site-packages\\sklearn\\ensemble\\_forest.py:400: FutureWarning: Criterion 'mse' was deprecated in v1.0 and will be removed in version 1.2. Use `criterion='squared_error'` which is equivalent.\n",
      "  FutureWarning,\n",
      "C:\\Users\\Mohameed\\Anaconda3\\lib\\site-packages\\sklearn\\ensemble\\_forest.py:400: FutureWarning: Criterion 'mse' was deprecated in v1.0 and will be removed in version 1.2. Use `criterion='squared_error'` which is equivalent.\n",
      "  FutureWarning,\n",
      "C:\\Users\\Mohameed\\Anaconda3\\lib\\site-packages\\sklearn\\ensemble\\_forest.py:400: FutureWarning: Criterion 'mse' was deprecated in v1.0 and will be removed in version 1.2. Use `criterion='squared_error'` which is equivalent.\n",
      "  FutureWarning,\n",
      "C:\\Users\\Mohameed\\Anaconda3\\lib\\site-packages\\sklearn\\ensemble\\_forest.py:400: FutureWarning: Criterion 'mse' was deprecated in v1.0 and will be removed in version 1.2. Use `criterion='squared_error'` which is equivalent.\n",
      "  FutureWarning,\n",
      "C:\\Users\\Mohameed\\Anaconda3\\lib\\site-packages\\sklearn\\ensemble\\_forest.py:400: FutureWarning: Criterion 'mse' was deprecated in v1.0 and will be removed in version 1.2. Use `criterion='squared_error'` which is equivalent.\n",
      "  FutureWarning,\n",
      "C:\\Users\\Mohameed\\Anaconda3\\lib\\site-packages\\sklearn\\ensemble\\_forest.py:400: FutureWarning: Criterion 'mse' was deprecated in v1.0 and will be removed in version 1.2. Use `criterion='squared_error'` which is equivalent.\n",
      "  FutureWarning,\n",
      "C:\\Users\\Mohameed\\Anaconda3\\lib\\site-packages\\sklearn\\ensemble\\_forest.py:400: FutureWarning: Criterion 'mse' was deprecated in v1.0 and will be removed in version 1.2. Use `criterion='squared_error'` which is equivalent.\n",
      "  FutureWarning,\n",
      "C:\\Users\\Mohameed\\Anaconda3\\lib\\site-packages\\sklearn\\ensemble\\_forest.py:400: FutureWarning: Criterion 'mse' was deprecated in v1.0 and will be removed in version 1.2. Use `criterion='squared_error'` which is equivalent.\n",
      "  FutureWarning,\n",
      "C:\\Users\\Mohameed\\Anaconda3\\lib\\site-packages\\sklearn\\ensemble\\_forest.py:400: FutureWarning: Criterion 'mse' was deprecated in v1.0 and will be removed in version 1.2. Use `criterion='squared_error'` which is equivalent.\n",
      "  FutureWarning,\n",
      "C:\\Users\\Mohameed\\Anaconda3\\lib\\site-packages\\sklearn\\ensemble\\_forest.py:400: FutureWarning: Criterion 'mse' was deprecated in v1.0 and will be removed in version 1.2. Use `criterion='squared_error'` which is equivalent.\n",
      "  FutureWarning,\n",
      "C:\\Users\\Mohameed\\Anaconda3\\lib\\site-packages\\sklearn\\ensemble\\_forest.py:400: FutureWarning: Criterion 'mse' was deprecated in v1.0 and will be removed in version 1.2. Use `criterion='squared_error'` which is equivalent.\n",
      "  FutureWarning,\n",
      "C:\\Users\\Mohameed\\Anaconda3\\lib\\site-packages\\sklearn\\ensemble\\_forest.py:400: FutureWarning: Criterion 'mse' was deprecated in v1.0 and will be removed in version 1.2. Use `criterion='squared_error'` which is equivalent.\n",
      "  FutureWarning,\n",
      "C:\\Users\\Mohameed\\Anaconda3\\lib\\site-packages\\sklearn\\ensemble\\_forest.py:400: FutureWarning: Criterion 'mse' was deprecated in v1.0 and will be removed in version 1.2. Use `criterion='squared_error'` which is equivalent.\n",
      "  FutureWarning,\n",
      "C:\\Users\\Mohameed\\Anaconda3\\lib\\site-packages\\sklearn\\ensemble\\_forest.py:400: FutureWarning: Criterion 'mse' was deprecated in v1.0 and will be removed in version 1.2. Use `criterion='squared_error'` which is equivalent.\n",
      "  FutureWarning,\n",
      "C:\\Users\\Mohameed\\Anaconda3\\lib\\site-packages\\sklearn\\ensemble\\_forest.py:400: FutureWarning: Criterion 'mse' was deprecated in v1.0 and will be removed in version 1.2. Use `criterion='squared_error'` which is equivalent.\n",
      "  FutureWarning,\n",
      "C:\\Users\\Mohameed\\Anaconda3\\lib\\site-packages\\sklearn\\ensemble\\_forest.py:400: FutureWarning: Criterion 'mse' was deprecated in v1.0 and will be removed in version 1.2. Use `criterion='squared_error'` which is equivalent.\n",
      "  FutureWarning,\n",
      "C:\\Users\\Mohameed\\Anaconda3\\lib\\site-packages\\sklearn\\ensemble\\_forest.py:400: FutureWarning: Criterion 'mse' was deprecated in v1.0 and will be removed in version 1.2. Use `criterion='squared_error'` which is equivalent.\n",
      "  FutureWarning,\n",
      "C:\\Users\\Mohameed\\Anaconda3\\lib\\site-packages\\sklearn\\ensemble\\_forest.py:400: FutureWarning: Criterion 'mse' was deprecated in v1.0 and will be removed in version 1.2. Use `criterion='squared_error'` which is equivalent.\n",
      "  FutureWarning,\n",
      "C:\\Users\\Mohameed\\Anaconda3\\lib\\site-packages\\sklearn\\ensemble\\_forest.py:400: FutureWarning: Criterion 'mse' was deprecated in v1.0 and will be removed in version 1.2. Use `criterion='squared_error'` which is equivalent.\n",
      "  FutureWarning,\n",
      "C:\\Users\\Mohameed\\Anaconda3\\lib\\site-packages\\sklearn\\ensemble\\_forest.py:400: FutureWarning: Criterion 'mse' was deprecated in v1.0 and will be removed in version 1.2. Use `criterion='squared_error'` which is equivalent.\n",
      "  FutureWarning,\n"
     ]
    },
    {
     "name": "stderr",
     "output_type": "stream",
     "text": [
      "C:\\Users\\Mohameed\\Anaconda3\\lib\\site-packages\\sklearn\\ensemble\\_forest.py:400: FutureWarning: Criterion 'mse' was deprecated in v1.0 and will be removed in version 1.2. Use `criterion='squared_error'` which is equivalent.\n",
      "  FutureWarning,\n",
      "C:\\Users\\Mohameed\\Anaconda3\\lib\\site-packages\\sklearn\\ensemble\\_forest.py:400: FutureWarning: Criterion 'mse' was deprecated in v1.0 and will be removed in version 1.2. Use `criterion='squared_error'` which is equivalent.\n",
      "  FutureWarning,\n",
      "C:\\Users\\Mohameed\\Anaconda3\\lib\\site-packages\\sklearn\\ensemble\\_forest.py:400: FutureWarning: Criterion 'mse' was deprecated in v1.0 and will be removed in version 1.2. Use `criterion='squared_error'` which is equivalent.\n",
      "  FutureWarning,\n",
      "C:\\Users\\Mohameed\\Anaconda3\\lib\\site-packages\\sklearn\\ensemble\\_forest.py:400: FutureWarning: Criterion 'mse' was deprecated in v1.0 and will be removed in version 1.2. Use `criterion='squared_error'` which is equivalent.\n",
      "  FutureWarning,\n",
      "C:\\Users\\Mohameed\\Anaconda3\\lib\\site-packages\\sklearn\\ensemble\\_forest.py:400: FutureWarning: Criterion 'mse' was deprecated in v1.0 and will be removed in version 1.2. Use `criterion='squared_error'` which is equivalent.\n",
      "  FutureWarning,\n",
      "C:\\Users\\Mohameed\\Anaconda3\\lib\\site-packages\\sklearn\\ensemble\\_forest.py:400: FutureWarning: Criterion 'mse' was deprecated in v1.0 and will be removed in version 1.2. Use `criterion='squared_error'` which is equivalent.\n",
      "  FutureWarning,\n",
      "C:\\Users\\Mohameed\\Anaconda3\\lib\\site-packages\\sklearn\\ensemble\\_forest.py:400: FutureWarning: Criterion 'mse' was deprecated in v1.0 and will be removed in version 1.2. Use `criterion='squared_error'` which is equivalent.\n",
      "  FutureWarning,\n",
      "C:\\Users\\Mohameed\\Anaconda3\\lib\\site-packages\\sklearn\\ensemble\\_forest.py:400: FutureWarning: Criterion 'mse' was deprecated in v1.0 and will be removed in version 1.2. Use `criterion='squared_error'` which is equivalent.\n",
      "  FutureWarning,\n",
      "C:\\Users\\Mohameed\\Anaconda3\\lib\\site-packages\\sklearn\\ensemble\\_forest.py:400: FutureWarning: Criterion 'mse' was deprecated in v1.0 and will be removed in version 1.2. Use `criterion='squared_error'` which is equivalent.\n",
      "  FutureWarning,\n",
      "C:\\Users\\Mohameed\\Anaconda3\\lib\\site-packages\\sklearn\\ensemble\\_forest.py:400: FutureWarning: Criterion 'mse' was deprecated in v1.0 and will be removed in version 1.2. Use `criterion='squared_error'` which is equivalent.\n",
      "  FutureWarning,\n",
      "C:\\Users\\Mohameed\\Anaconda3\\lib\\site-packages\\sklearn\\ensemble\\_forest.py:400: FutureWarning: Criterion 'mse' was deprecated in v1.0 and will be removed in version 1.2. Use `criterion='squared_error'` which is equivalent.\n",
      "  FutureWarning,\n",
      "C:\\Users\\Mohameed\\Anaconda3\\lib\\site-packages\\sklearn\\ensemble\\_forest.py:400: FutureWarning: Criterion 'mse' was deprecated in v1.0 and will be removed in version 1.2. Use `criterion='squared_error'` which is equivalent.\n",
      "  FutureWarning,\n",
      "C:\\Users\\Mohameed\\Anaconda3\\lib\\site-packages\\sklearn\\ensemble\\_forest.py:400: FutureWarning: Criterion 'mse' was deprecated in v1.0 and will be removed in version 1.2. Use `criterion='squared_error'` which is equivalent.\n",
      "  FutureWarning,\n",
      "C:\\Users\\Mohameed\\Anaconda3\\lib\\site-packages\\sklearn\\ensemble\\_forest.py:400: FutureWarning: Criterion 'mse' was deprecated in v1.0 and will be removed in version 1.2. Use `criterion='squared_error'` which is equivalent.\n",
      "  FutureWarning,\n",
      "C:\\Users\\Mohameed\\Anaconda3\\lib\\site-packages\\sklearn\\ensemble\\_forest.py:400: FutureWarning: Criterion 'mse' was deprecated in v1.0 and will be removed in version 1.2. Use `criterion='squared_error'` which is equivalent.\n",
      "  FutureWarning,\n",
      "C:\\Users\\Mohameed\\Anaconda3\\lib\\site-packages\\sklearn\\ensemble\\_forest.py:400: FutureWarning: Criterion 'mse' was deprecated in v1.0 and will be removed in version 1.2. Use `criterion='squared_error'` which is equivalent.\n",
      "  FutureWarning,\n",
      "C:\\Users\\Mohameed\\Anaconda3\\lib\\site-packages\\sklearn\\ensemble\\_forest.py:400: FutureWarning: Criterion 'mse' was deprecated in v1.0 and will be removed in version 1.2. Use `criterion='squared_error'` which is equivalent.\n",
      "  FutureWarning,\n",
      "C:\\Users\\Mohameed\\Anaconda3\\lib\\site-packages\\sklearn\\ensemble\\_forest.py:400: FutureWarning: Criterion 'mse' was deprecated in v1.0 and will be removed in version 1.2. Use `criterion='squared_error'` which is equivalent.\n",
      "  FutureWarning,\n",
      "C:\\Users\\Mohameed\\Anaconda3\\lib\\site-packages\\sklearn\\ensemble\\_forest.py:400: FutureWarning: Criterion 'mse' was deprecated in v1.0 and will be removed in version 1.2. Use `criterion='squared_error'` which is equivalent.\n",
      "  FutureWarning,\n",
      "C:\\Users\\Mohameed\\Anaconda3\\lib\\site-packages\\sklearn\\ensemble\\_forest.py:400: FutureWarning: Criterion 'mse' was deprecated in v1.0 and will be removed in version 1.2. Use `criterion='squared_error'` which is equivalent.\n",
      "  FutureWarning,\n",
      "C:\\Users\\Mohameed\\Anaconda3\\lib\\site-packages\\sklearn\\ensemble\\_forest.py:400: FutureWarning: Criterion 'mse' was deprecated in v1.0 and will be removed in version 1.2. Use `criterion='squared_error'` which is equivalent.\n",
      "  FutureWarning,\n",
      "C:\\Users\\Mohameed\\Anaconda3\\lib\\site-packages\\sklearn\\ensemble\\_forest.py:400: FutureWarning: Criterion 'mse' was deprecated in v1.0 and will be removed in version 1.2. Use `criterion='squared_error'` which is equivalent.\n",
      "  FutureWarning,\n",
      "C:\\Users\\Mohameed\\Anaconda3\\lib\\site-packages\\sklearn\\ensemble\\_forest.py:400: FutureWarning: Criterion 'mse' was deprecated in v1.0 and will be removed in version 1.2. Use `criterion='squared_error'` which is equivalent.\n",
      "  FutureWarning,\n",
      "C:\\Users\\Mohameed\\Anaconda3\\lib\\site-packages\\sklearn\\ensemble\\_forest.py:400: FutureWarning: Criterion 'mse' was deprecated in v1.0 and will be removed in version 1.2. Use `criterion='squared_error'` which is equivalent.\n",
      "  FutureWarning,\n",
      "C:\\Users\\Mohameed\\Anaconda3\\lib\\site-packages\\sklearn\\ensemble\\_forest.py:400: FutureWarning: Criterion 'mse' was deprecated in v1.0 and will be removed in version 1.2. Use `criterion='squared_error'` which is equivalent.\n",
      "  FutureWarning,\n",
      "C:\\Users\\Mohameed\\Anaconda3\\lib\\site-packages\\sklearn\\ensemble\\_forest.py:400: FutureWarning: Criterion 'mse' was deprecated in v1.0 and will be removed in version 1.2. Use `criterion='squared_error'` which is equivalent.\n",
      "  FutureWarning,\n",
      "C:\\Users\\Mohameed\\Anaconda3\\lib\\site-packages\\sklearn\\ensemble\\_forest.py:400: FutureWarning: Criterion 'mse' was deprecated in v1.0 and will be removed in version 1.2. Use `criterion='squared_error'` which is equivalent.\n",
      "  FutureWarning,\n",
      "C:\\Users\\Mohameed\\Anaconda3\\lib\\site-packages\\sklearn\\ensemble\\_forest.py:400: FutureWarning: Criterion 'mse' was deprecated in v1.0 and will be removed in version 1.2. Use `criterion='squared_error'` which is equivalent.\n",
      "  FutureWarning,\n",
      "C:\\Users\\Mohameed\\Anaconda3\\lib\\site-packages\\sklearn\\ensemble\\_forest.py:400: FutureWarning: Criterion 'mse' was deprecated in v1.0 and will be removed in version 1.2. Use `criterion='squared_error'` which is equivalent.\n",
      "  FutureWarning,\n",
      "C:\\Users\\Mohameed\\Anaconda3\\lib\\site-packages\\sklearn\\ensemble\\_forest.py:400: FutureWarning: Criterion 'mse' was deprecated in v1.0 and will be removed in version 1.2. Use `criterion='squared_error'` which is equivalent.\n",
      "  FutureWarning,\n",
      "C:\\Users\\Mohameed\\Anaconda3\\lib\\site-packages\\sklearn\\ensemble\\_forest.py:400: FutureWarning: Criterion 'mse' was deprecated in v1.0 and will be removed in version 1.2. Use `criterion='squared_error'` which is equivalent.\n",
      "  FutureWarning,\n",
      "C:\\Users\\Mohameed\\Anaconda3\\lib\\site-packages\\sklearn\\ensemble\\_forest.py:400: FutureWarning: Criterion 'mse' was deprecated in v1.0 and will be removed in version 1.2. Use `criterion='squared_error'` which is equivalent.\n",
      "  FutureWarning,\n",
      "C:\\Users\\Mohameed\\Anaconda3\\lib\\site-packages\\sklearn\\ensemble\\_forest.py:400: FutureWarning: Criterion 'mse' was deprecated in v1.0 and will be removed in version 1.2. Use `criterion='squared_error'` which is equivalent.\n",
      "  FutureWarning,\n",
      "C:\\Users\\Mohameed\\Anaconda3\\lib\\site-packages\\sklearn\\ensemble\\_forest.py:400: FutureWarning: Criterion 'mse' was deprecated in v1.0 and will be removed in version 1.2. Use `criterion='squared_error'` which is equivalent.\n",
      "  FutureWarning,\n",
      "C:\\Users\\Mohameed\\Anaconda3\\lib\\site-packages\\sklearn\\ensemble\\_forest.py:400: FutureWarning: Criterion 'mse' was deprecated in v1.0 and will be removed in version 1.2. Use `criterion='squared_error'` which is equivalent.\n",
      "  FutureWarning,\n",
      "C:\\Users\\Mohameed\\Anaconda3\\lib\\site-packages\\sklearn\\ensemble\\_forest.py:400: FutureWarning: Criterion 'mse' was deprecated in v1.0 and will be removed in version 1.2. Use `criterion='squared_error'` which is equivalent.\n",
      "  FutureWarning,\n"
     ]
    },
    {
     "name": "stderr",
     "output_type": "stream",
     "text": [
      "C:\\Users\\Mohameed\\Anaconda3\\lib\\site-packages\\sklearn\\ensemble\\_forest.py:400: FutureWarning: Criterion 'mse' was deprecated in v1.0 and will be removed in version 1.2. Use `criterion='squared_error'` which is equivalent.\n",
      "  FutureWarning,\n",
      "C:\\Users\\Mohameed\\Anaconda3\\lib\\site-packages\\sklearn\\ensemble\\_forest.py:400: FutureWarning: Criterion 'mse' was deprecated in v1.0 and will be removed in version 1.2. Use `criterion='squared_error'` which is equivalent.\n",
      "  FutureWarning,\n",
      "C:\\Users\\Mohameed\\Anaconda3\\lib\\site-packages\\sklearn\\ensemble\\_forest.py:400: FutureWarning: Criterion 'mse' was deprecated in v1.0 and will be removed in version 1.2. Use `criterion='squared_error'` which is equivalent.\n",
      "  FutureWarning,\n",
      "C:\\Users\\Mohameed\\Anaconda3\\lib\\site-packages\\sklearn\\ensemble\\_forest.py:400: FutureWarning: Criterion 'mse' was deprecated in v1.0 and will be removed in version 1.2. Use `criterion='squared_error'` which is equivalent.\n",
      "  FutureWarning,\n",
      "C:\\Users\\Mohameed\\Anaconda3\\lib\\site-packages\\sklearn\\ensemble\\_forest.py:400: FutureWarning: Criterion 'mse' was deprecated in v1.0 and will be removed in version 1.2. Use `criterion='squared_error'` which is equivalent.\n",
      "  FutureWarning,\n",
      "C:\\Users\\Mohameed\\Anaconda3\\lib\\site-packages\\sklearn\\ensemble\\_forest.py:400: FutureWarning: Criterion 'mse' was deprecated in v1.0 and will be removed in version 1.2. Use `criterion='squared_error'` which is equivalent.\n",
      "  FutureWarning,\n",
      "C:\\Users\\Mohameed\\Anaconda3\\lib\\site-packages\\sklearn\\ensemble\\_forest.py:400: FutureWarning: Criterion 'mse' was deprecated in v1.0 and will be removed in version 1.2. Use `criterion='squared_error'` which is equivalent.\n",
      "  FutureWarning,\n",
      "C:\\Users\\Mohameed\\Anaconda3\\lib\\site-packages\\sklearn\\ensemble\\_forest.py:400: FutureWarning: Criterion 'mse' was deprecated in v1.0 and will be removed in version 1.2. Use `criterion='squared_error'` which is equivalent.\n",
      "  FutureWarning,\n",
      "C:\\Users\\Mohameed\\Anaconda3\\lib\\site-packages\\sklearn\\ensemble\\_forest.py:400: FutureWarning: Criterion 'mse' was deprecated in v1.0 and will be removed in version 1.2. Use `criterion='squared_error'` which is equivalent.\n",
      "  FutureWarning,\n",
      "C:\\Users\\Mohameed\\Anaconda3\\lib\\site-packages\\sklearn\\ensemble\\_forest.py:400: FutureWarning: Criterion 'mse' was deprecated in v1.0 and will be removed in version 1.2. Use `criterion='squared_error'` which is equivalent.\n",
      "  FutureWarning,\n",
      "C:\\Users\\Mohameed\\Anaconda3\\lib\\site-packages\\sklearn\\ensemble\\_forest.py:407: FutureWarning: Criterion 'mae' was deprecated in v1.0 and will be removed in version 1.2. Use `criterion='absolute_error'` which is equivalent.\n",
      "  FutureWarning,\n",
      "C:\\Users\\Mohameed\\Anaconda3\\lib\\site-packages\\sklearn\\ensemble\\_forest.py:407: FutureWarning: Criterion 'mae' was deprecated in v1.0 and will be removed in version 1.2. Use `criterion='absolute_error'` which is equivalent.\n",
      "  FutureWarning,\n",
      "C:\\Users\\Mohameed\\Anaconda3\\lib\\site-packages\\sklearn\\ensemble\\_forest.py:407: FutureWarning: Criterion 'mae' was deprecated in v1.0 and will be removed in version 1.2. Use `criterion='absolute_error'` which is equivalent.\n",
      "  FutureWarning,\n",
      "C:\\Users\\Mohameed\\Anaconda3\\lib\\site-packages\\sklearn\\ensemble\\_forest.py:407: FutureWarning: Criterion 'mae' was deprecated in v1.0 and will be removed in version 1.2. Use `criterion='absolute_error'` which is equivalent.\n",
      "  FutureWarning,\n",
      "C:\\Users\\Mohameed\\Anaconda3\\lib\\site-packages\\sklearn\\ensemble\\_forest.py:407: FutureWarning: Criterion 'mae' was deprecated in v1.0 and will be removed in version 1.2. Use `criterion='absolute_error'` which is equivalent.\n",
      "  FutureWarning,\n",
      "C:\\Users\\Mohameed\\Anaconda3\\lib\\site-packages\\sklearn\\ensemble\\_forest.py:407: FutureWarning: Criterion 'mae' was deprecated in v1.0 and will be removed in version 1.2. Use `criterion='absolute_error'` which is equivalent.\n",
      "  FutureWarning,\n",
      "C:\\Users\\Mohameed\\Anaconda3\\lib\\site-packages\\sklearn\\ensemble\\_forest.py:407: FutureWarning: Criterion 'mae' was deprecated in v1.0 and will be removed in version 1.2. Use `criterion='absolute_error'` which is equivalent.\n",
      "  FutureWarning,\n",
      "C:\\Users\\Mohameed\\Anaconda3\\lib\\site-packages\\sklearn\\ensemble\\_forest.py:407: FutureWarning: Criterion 'mae' was deprecated in v1.0 and will be removed in version 1.2. Use `criterion='absolute_error'` which is equivalent.\n",
      "  FutureWarning,\n",
      "C:\\Users\\Mohameed\\Anaconda3\\lib\\site-packages\\sklearn\\ensemble\\_forest.py:407: FutureWarning: Criterion 'mae' was deprecated in v1.0 and will be removed in version 1.2. Use `criterion='absolute_error'` which is equivalent.\n",
      "  FutureWarning,\n",
      "C:\\Users\\Mohameed\\Anaconda3\\lib\\site-packages\\sklearn\\ensemble\\_forest.py:407: FutureWarning: Criterion 'mae' was deprecated in v1.0 and will be removed in version 1.2. Use `criterion='absolute_error'` which is equivalent.\n",
      "  FutureWarning,\n",
      "C:\\Users\\Mohameed\\Anaconda3\\lib\\site-packages\\sklearn\\ensemble\\_forest.py:407: FutureWarning: Criterion 'mae' was deprecated in v1.0 and will be removed in version 1.2. Use `criterion='absolute_error'` which is equivalent.\n",
      "  FutureWarning,\n",
      "C:\\Users\\Mohameed\\Anaconda3\\lib\\site-packages\\sklearn\\ensemble\\_forest.py:407: FutureWarning: Criterion 'mae' was deprecated in v1.0 and will be removed in version 1.2. Use `criterion='absolute_error'` which is equivalent.\n",
      "  FutureWarning,\n",
      "C:\\Users\\Mohameed\\Anaconda3\\lib\\site-packages\\sklearn\\ensemble\\_forest.py:407: FutureWarning: Criterion 'mae' was deprecated in v1.0 and will be removed in version 1.2. Use `criterion='absolute_error'` which is equivalent.\n",
      "  FutureWarning,\n",
      "C:\\Users\\Mohameed\\Anaconda3\\lib\\site-packages\\sklearn\\ensemble\\_forest.py:407: FutureWarning: Criterion 'mae' was deprecated in v1.0 and will be removed in version 1.2. Use `criterion='absolute_error'` which is equivalent.\n",
      "  FutureWarning,\n",
      "C:\\Users\\Mohameed\\Anaconda3\\lib\\site-packages\\sklearn\\ensemble\\_forest.py:407: FutureWarning: Criterion 'mae' was deprecated in v1.0 and will be removed in version 1.2. Use `criterion='absolute_error'` which is equivalent.\n",
      "  FutureWarning,\n",
      "C:\\Users\\Mohameed\\Anaconda3\\lib\\site-packages\\sklearn\\ensemble\\_forest.py:407: FutureWarning: Criterion 'mae' was deprecated in v1.0 and will be removed in version 1.2. Use `criterion='absolute_error'` which is equivalent.\n",
      "  FutureWarning,\n",
      "C:\\Users\\Mohameed\\Anaconda3\\lib\\site-packages\\sklearn\\ensemble\\_forest.py:407: FutureWarning: Criterion 'mae' was deprecated in v1.0 and will be removed in version 1.2. Use `criterion='absolute_error'` which is equivalent.\n",
      "  FutureWarning,\n",
      "C:\\Users\\Mohameed\\Anaconda3\\lib\\site-packages\\sklearn\\ensemble\\_forest.py:407: FutureWarning: Criterion 'mae' was deprecated in v1.0 and will be removed in version 1.2. Use `criterion='absolute_error'` which is equivalent.\n",
      "  FutureWarning,\n",
      "C:\\Users\\Mohameed\\Anaconda3\\lib\\site-packages\\sklearn\\ensemble\\_forest.py:407: FutureWarning: Criterion 'mae' was deprecated in v1.0 and will be removed in version 1.2. Use `criterion='absolute_error'` which is equivalent.\n",
      "  FutureWarning,\n",
      "C:\\Users\\Mohameed\\Anaconda3\\lib\\site-packages\\sklearn\\ensemble\\_forest.py:407: FutureWarning: Criterion 'mae' was deprecated in v1.0 and will be removed in version 1.2. Use `criterion='absolute_error'` which is equivalent.\n",
      "  FutureWarning,\n",
      "C:\\Users\\Mohameed\\Anaconda3\\lib\\site-packages\\sklearn\\ensemble\\_forest.py:407: FutureWarning: Criterion 'mae' was deprecated in v1.0 and will be removed in version 1.2. Use `criterion='absolute_error'` which is equivalent.\n",
      "  FutureWarning,\n",
      "C:\\Users\\Mohameed\\Anaconda3\\lib\\site-packages\\sklearn\\ensemble\\_forest.py:407: FutureWarning: Criterion 'mae' was deprecated in v1.0 and will be removed in version 1.2. Use `criterion='absolute_error'` which is equivalent.\n",
      "  FutureWarning,\n"
     ]
    }
   ],
   "source": [
    "from sklearn.model_selection import GridSearchCV\n",
    "parameters ={'n_estimators':range(10,100,10),'criterion':('mse','mae'), 'max_features':('auto','sqrt','log2')}\n",
    "gs =GridSearchCV(rf,parameters,scoring='neg_mean_absolute_error',cv=3)\n",
    "gs.fit(xtrain,ytrain)"
   ]
  },
  {
   "cell_type": "code",
   "execution_count": 20,
   "id": "dbf2a8a9",
   "metadata": {},
   "outputs": [
    {
     "name": "stdout",
     "output_type": "stream",
     "text": [
      "The best score is = -4.214691760066552\n",
      "The best estimator is = RandomForestRegressor(criterion='mse', n_estimators=20)\n",
      "\n"
     ]
    }
   ],
   "source": [
    "print('The best score is = {}'.format(gs.best_score_))\n",
    "print('The best estimator is = {}\\n'.format(gs.best_estimator_))"
   ]
  },
  {
   "cell_type": "markdown",
   "id": "f029931f",
   "metadata": {},
   "source": [
    "#### we want to use differnet models to predict test set data and see if we get the similar result "
   ]
  },
  {
   "cell_type": "code",
   "execution_count": 21,
   "id": "73eb5796",
   "metadata": {},
   "outputs": [],
   "source": [
    "pred_lr =lr.predict(xtest)\n",
    "pred_ls =ls.predict(xtest)\n",
    "pred_rf= rf.predict(xtest)\n",
    "pred_rf_CV = gs.best_estimator_.predict(xtest)"
   ]
  },
  {
   "cell_type": "markdown",
   "id": "a7e19c2a",
   "metadata": {},
   "source": [
    "#### as we can see below we noteced that RandomForestRegressor with criterion='mse', max_features='sqrt', n_estimators=60 give us the mimimum mean absolute error ,so we depends on it for predicted the salary "
   ]
  },
  {
   "cell_type": "code",
   "execution_count": 22,
   "id": "67277e1d",
   "metadata": {},
   "outputs": [
    {
     "name": "stdout",
     "output_type": "stream",
     "text": [
      "7.336379409434164\n",
      "13.527543619031865\n",
      "3.0517027323855817\n",
      "3.0323580516831417\n"
     ]
    }
   ],
   "source": [
    "from sklearn.metrics import mean_absolute_error\n",
    "print(mean_absolute_error(pred_lr,ytest))\n",
    "print(mean_absolute_error(pred_ls,ytest))\n",
    "print(mean_absolute_error(pred_rf_CV,ytest))\n",
    "print(mean_absolute_error(pred_rf,ytest))"
   ]
  },
  {
   "cell_type": "markdown",
   "id": "6e7b183c",
   "metadata": {},
   "source": [
    "#### We have to pickle the model ,so when we pickle the model we abstract it .so we make it usable by other programmers without having to retrain it ."
   ]
  },
  {
   "cell_type": "code",
   "execution_count": 23,
   "id": "d566b2cb",
   "metadata": {},
   "outputs": [],
   "source": [
    "import pickle \n",
    "pick1={'model':gs.best_estimator_}\n",
    "pickle.dump(pick1,open(\"model_file\"+'.p',\"wb\"))\n",
    "file_name='model_file.p'\n",
    "with open (file_name,\"rb\") as pickled :\n",
    "    data1=pickle.load(pickled)\n",
    "    model=data1['model']    "
   ]
  },
  {
   "cell_type": "markdown",
   "id": "3343b096",
   "metadata": {},
   "source": [
    "#### we will test the performance of model let's take the sample 66 and predict the salary"
   ]
  },
  {
   "cell_type": "code",
   "execution_count": 55,
   "id": "7b1cab8a",
   "metadata": {},
   "outputs": [
    {
     "name": "stderr",
     "output_type": "stream",
     "text": [
      "C:\\Users\\Mohameed\\Anaconda3\\lib\\site-packages\\sklearn\\base.py:451: UserWarning: X does not have valid feature names, but RandomForestRegressor was fitted with feature names\n",
      "  \"X does not have valid feature names, but\"\n",
      "C:\\Users\\Mohameed\\Anaconda3\\lib\\site-packages\\sklearn\\base.py:451: UserWarning: X does not have valid feature names, but RandomForestRegressor was fitted with feature names\n",
      "  \"X does not have valid feature names, but\"\n"
     ]
    },
    {
     "data": {
      "text/plain": [
       "<Figure size 576x576 with 0 Axes>"
      ]
     },
     "metadata": {},
     "output_type": "display_data"
    },
    {
     "data": {
      "image/png": "[encoded data removed]",
      "text/plain": [
       "<Figure size 432x288 with 1 Axes>"
      ]
     },
     "metadata": {
      "needs_background": "light"
     },
     "output_type": "display_data"
    }
   ],
   "source": [
    "salary_predicted =[]\n",
    "salary_target =[]\n",
    "salary_predicted.append(model.predict(np.array(xtest.iloc[19,:]).reshape(1,-1))[0])\n",
    "salary_target.append(ytest[19])\n",
    "salary_predicted.append(model.predict(np.array(xtest.iloc[72,:]).reshape(1,-1))[0])\n",
    "salary_target.append(ytest[72])\n",
    "df_predict_target=pd.DataFrame({'salary_predicted':salary_predicted,'salary_target':salary_target})\n",
    "plt.figure(figsize=(8,8))\n",
    "fig,ax =plt.subplots(ncols=1)\n",
    "df_predict_target.plot(ax=ax,kind='bar',color=['c','orange']).legend(title='Preicted Salary VS Target Salary',labels=['Predicted','Tatget'])\n",
    "ax.set_xticklabels(['Sample 1','Sample 2'])\n",
    "plt.show()"
   ]
  },
  {
   "cell_type": "code",
   "execution_count": 28,
   "id": "71ec1f34",
   "metadata": {},
   "outputs": [
    {
     "data": {
      "image/png": "[encoded data removed]",
      "text/plain": [
       "<Figure size 432x288 with 1 Axes>"
      ]
     },
     "metadata": {
      "needs_background": "light"
     },
     "output_type": "display_data"
    }
   ],
   "source": [
    "fig,ax =plt.subplots(ncols=1)"
   ]
  },
  {
   "cell_type": "code",
   "execution_count": 27,
   "id": "c6ed9a70",
   "metadata": {},
   "outputs": [
    {
     "name": "stdout",
     "output_type": "stream",
     "text": [
      "[51.7, 137.125]\n",
      "[73.5, 139.0]\n"
     ]
    }
   ],
   "source": [
    "print(salary_predicted)\n",
    "print(salary_target)"
   ]
  },
  {
   "cell_type": "code",
   "execution_count": null,
   "id": "73ed2c90",
   "metadata": {},
   "outputs": [],
   "source": []
  },
  {
   "cell_type": "code",
   "execution_count": null,
   "id": "84f95348",
   "metadata": {},
   "outputs": [],
   "source": [
    "print('the predicted salary is = {}'.format(salary_predicted1))\n",
    "print('the target salary is = {}'.format(salary_target1))\n",
    "print('the predicted salary is = {}'.format(salary_predicted2))\n",
    "print('the target salary is = {}'.format(salary_target2))"
   ]
  },
  {
   "cell_type": "code",
   "execution_count": 311,
   "id": "ea43cab4",
   "metadata": {},
   "outputs": [
    {
     "data": {
      "image/png": "[encoded data removed]",
      "text/plain": [
       "<Figure size 432x576 with 2 Axes>"
      ]
     },
     "metadata": {
      "needs_background": "light"
     },
     "output_type": "display_data"
    }
   ],
   "source": [
    "fig,ax =plt.subplots(ncols=2,gridspec_kw={'width_ratios':(1,0.7)},figsize =(6,8))"
   ]
  },
  {
   "cell_type": "markdown",
   "id": "82eb6eb4",
   "metadata": {},
   "source": [
    "#### We create a dataframe for the salary of predict and the salary of target"
   ]
  },
  {
   "cell_type": "code",
   "execution_count": 51,
   "id": "188e015a",
   "metadata": {},
   "outputs": [],
   "source": [
    "pd.set_option('max_rows', None)"
   ]
  },
  {
   "cell_type": "code",
   "execution_count": 52,
   "id": "29e1c76c",
   "metadata": {},
   "outputs": [
    {
     "data": {
      "text/html": [
       "<div>\n",
       "<style scoped>\n",
       "    .dataframe tbody tr th:only-of-type {\n",
       "        vertical-align: middle;\n",
       "    }\n",
       "\n",
       "    .dataframe tbody tr th {\n",
       "        vertical-align: top;\n",
       "    }\n",
       "\n",
       "    .dataframe thead th {\n",
       "        text-align: right;\n",
       "    }\n",
       "</style>\n",
       "<table border=\"1\" class=\"dataframe\">\n",
       "  <thead>\n",
       "    <tr style=\"text-align: right;\">\n",
       "      <th></th>\n",
       "      <th>Salary_Predicted</th>\n",
       "      <th>Salary_Target</th>\n",
       "    </tr>\n",
       "  </thead>\n",
       "  <tbody>\n",
       "    <tr>\n",
       "      <th>0</th>\n",
       "      <td>39.850000</td>\n",
       "      <td>57.5</td>\n",
       "    </tr>\n",
       "    <tr>\n",
       "      <th>1</th>\n",
       "      <td>76.000000</td>\n",
       "      <td>76.0</td>\n",
       "    </tr>\n",
       "    <tr>\n",
       "      <th>2</th>\n",
       "      <td>123.325000</td>\n",
       "      <td>126.5</td>\n",
       "    </tr>\n",
       "    <tr>\n",
       "      <th>3</th>\n",
       "      <td>92.500000</td>\n",
       "      <td>92.5</td>\n",
       "    </tr>\n",
       "    <tr>\n",
       "      <th>4</th>\n",
       "      <td>37.000000</td>\n",
       "      <td>37.0</td>\n",
       "    </tr>\n",
       "    <tr>\n",
       "      <th>5</th>\n",
       "      <td>35.700000</td>\n",
       "      <td>35.0</td>\n",
       "    </tr>\n",
       "    <tr>\n",
       "      <th>6</th>\n",
       "      <td>126.000000</td>\n",
       "      <td>126.0</td>\n",
       "    </tr>\n",
       "    <tr>\n",
       "      <th>7</th>\n",
       "      <td>62.500000</td>\n",
       "      <td>62.5</td>\n",
       "    </tr>\n",
       "    <tr>\n",
       "      <th>8</th>\n",
       "      <td>87.500000</td>\n",
       "      <td>87.5</td>\n",
       "    </tr>\n",
       "    <tr>\n",
       "      <th>9</th>\n",
       "      <td>104.200000</td>\n",
       "      <td>104.0</td>\n",
       "    </tr>\n",
       "    <tr>\n",
       "      <th>10</th>\n",
       "      <td>85.000000</td>\n",
       "      <td>85.0</td>\n",
       "    </tr>\n",
       "    <tr>\n",
       "      <th>11</th>\n",
       "      <td>86.850000</td>\n",
       "      <td>77.0</td>\n",
       "    </tr>\n",
       "    <tr>\n",
       "      <th>12</th>\n",
       "      <td>35.800000</td>\n",
       "      <td>34.0</td>\n",
       "    </tr>\n",
       "    <tr>\n",
       "      <th>13</th>\n",
       "      <td>43.500000</td>\n",
       "      <td>43.5</td>\n",
       "    </tr>\n",
       "    <tr>\n",
       "      <th>14</th>\n",
       "      <td>121.533349</td>\n",
       "      <td>121.5</td>\n",
       "    </tr>\n",
       "    <tr>\n",
       "      <th>15</th>\n",
       "      <td>139.700000</td>\n",
       "      <td>157.5</td>\n",
       "    </tr>\n",
       "    <tr>\n",
       "      <th>16</th>\n",
       "      <td>66.500000</td>\n",
       "      <td>66.5</td>\n",
       "    </tr>\n",
       "    <tr>\n",
       "      <th>17</th>\n",
       "      <td>67.500000</td>\n",
       "      <td>67.5</td>\n",
       "    </tr>\n",
       "    <tr>\n",
       "      <th>18</th>\n",
       "      <td>62.500000</td>\n",
       "      <td>62.5</td>\n",
       "    </tr>\n",
       "    <tr>\n",
       "      <th>19</th>\n",
       "      <td>97.391667</td>\n",
       "      <td>95.0</td>\n",
       "    </tr>\n",
       "    <tr>\n",
       "      <th>20</th>\n",
       "      <td>19.375000</td>\n",
       "      <td>7.0</td>\n",
       "    </tr>\n",
       "    <tr>\n",
       "      <th>21</th>\n",
       "      <td>104.200000</td>\n",
       "      <td>104.0</td>\n",
       "    </tr>\n",
       "    <tr>\n",
       "      <th>22</th>\n",
       "      <td>118.675000</td>\n",
       "      <td>92.0</td>\n",
       "    </tr>\n",
       "    <tr>\n",
       "      <th>23</th>\n",
       "      <td>126.000000</td>\n",
       "      <td>126.0</td>\n",
       "    </tr>\n",
       "    <tr>\n",
       "      <th>24</th>\n",
       "      <td>39.500000</td>\n",
       "      <td>39.5</td>\n",
       "    </tr>\n",
       "    <tr>\n",
       "      <th>25</th>\n",
       "      <td>37.500000</td>\n",
       "      <td>37.5</td>\n",
       "    </tr>\n",
       "    <tr>\n",
       "      <th>26</th>\n",
       "      <td>121.533349</td>\n",
       "      <td>121.5</td>\n",
       "    </tr>\n",
       "    <tr>\n",
       "      <th>27</th>\n",
       "      <td>37.000000</td>\n",
       "      <td>37.0</td>\n",
       "    </tr>\n",
       "    <tr>\n",
       "      <th>28</th>\n",
       "      <td>53.000000</td>\n",
       "      <td>53.0</td>\n",
       "    </tr>\n",
       "    <tr>\n",
       "      <th>29</th>\n",
       "      <td>102.000000</td>\n",
       "      <td>102.0</td>\n",
       "    </tr>\n",
       "    <tr>\n",
       "      <th>30</th>\n",
       "      <td>92.500000</td>\n",
       "      <td>92.5</td>\n",
       "    </tr>\n",
       "    <tr>\n",
       "      <th>31</th>\n",
       "      <td>121.533349</td>\n",
       "      <td>121.5</td>\n",
       "    </tr>\n",
       "    <tr>\n",
       "      <th>32</th>\n",
       "      <td>76.000000</td>\n",
       "      <td>76.0</td>\n",
       "    </tr>\n",
       "    <tr>\n",
       "      <th>33</th>\n",
       "      <td>62.000000</td>\n",
       "      <td>62.0</td>\n",
       "    </tr>\n",
       "    <tr>\n",
       "      <th>34</th>\n",
       "      <td>35.800000</td>\n",
       "      <td>34.0</td>\n",
       "    </tr>\n",
       "    <tr>\n",
       "      <th>35</th>\n",
       "      <td>92.500000</td>\n",
       "      <td>92.5</td>\n",
       "    </tr>\n",
       "    <tr>\n",
       "      <th>36</th>\n",
       "      <td>115.750000</td>\n",
       "      <td>90.0</td>\n",
       "    </tr>\n",
       "    <tr>\n",
       "      <th>37</th>\n",
       "      <td>73.125000</td>\n",
       "      <td>73.0</td>\n",
       "    </tr>\n",
       "    <tr>\n",
       "      <th>38</th>\n",
       "      <td>107.500000</td>\n",
       "      <td>107.5</td>\n",
       "    </tr>\n",
       "    <tr>\n",
       "      <th>39</th>\n",
       "      <td>106.500000</td>\n",
       "      <td>106.5</td>\n",
       "    </tr>\n",
       "    <tr>\n",
       "      <th>40</th>\n",
       "      <td>119.000000</td>\n",
       "      <td>110.0</td>\n",
       "    </tr>\n",
       "    <tr>\n",
       "      <th>41</th>\n",
       "      <td>54.750000</td>\n",
       "      <td>55.0</td>\n",
       "    </tr>\n",
       "    <tr>\n",
       "      <th>42</th>\n",
       "      <td>108.500000</td>\n",
       "      <td>108.5</td>\n",
       "    </tr>\n",
       "    <tr>\n",
       "      <th>43</th>\n",
       "      <td>39.500000</td>\n",
       "      <td>39.5</td>\n",
       "    </tr>\n",
       "    <tr>\n",
       "      <th>44</th>\n",
       "      <td>91.725000</td>\n",
       "      <td>102.0</td>\n",
       "    </tr>\n",
       "    <tr>\n",
       "      <th>45</th>\n",
       "      <td>36.025000</td>\n",
       "      <td>34.5</td>\n",
       "    </tr>\n",
       "    <tr>\n",
       "      <th>46</th>\n",
       "      <td>96.500000</td>\n",
       "      <td>96.5</td>\n",
       "    </tr>\n",
       "    <tr>\n",
       "      <th>47</th>\n",
       "      <td>68.450000</td>\n",
       "      <td>68.0</td>\n",
       "    </tr>\n",
       "    <tr>\n",
       "      <th>48</th>\n",
       "      <td>77.000000</td>\n",
       "      <td>77.0</td>\n",
       "    </tr>\n",
       "    <tr>\n",
       "      <th>49</th>\n",
       "      <td>62.500000</td>\n",
       "      <td>62.5</td>\n",
       "    </tr>\n",
       "    <tr>\n",
       "      <th>50</th>\n",
       "      <td>38.425000</td>\n",
       "      <td>40.0</td>\n",
       "    </tr>\n",
       "    <tr>\n",
       "      <th>51</th>\n",
       "      <td>104.200000</td>\n",
       "      <td>103.5</td>\n",
       "    </tr>\n",
       "    <tr>\n",
       "      <th>52</th>\n",
       "      <td>45.300000</td>\n",
       "      <td>47.0</td>\n",
       "    </tr>\n",
       "    <tr>\n",
       "      <th>53</th>\n",
       "      <td>57.500000</td>\n",
       "      <td>57.5</td>\n",
       "    </tr>\n",
       "    <tr>\n",
       "      <th>54</th>\n",
       "      <td>98.775000</td>\n",
       "      <td>98.5</td>\n",
       "    </tr>\n",
       "    <tr>\n",
       "      <th>55</th>\n",
       "      <td>139.425000</td>\n",
       "      <td>123.5</td>\n",
       "    </tr>\n",
       "    <tr>\n",
       "      <th>56</th>\n",
       "      <td>92.500000</td>\n",
       "      <td>92.5</td>\n",
       "    </tr>\n",
       "    <tr>\n",
       "      <th>57</th>\n",
       "      <td>92.500000</td>\n",
       "      <td>92.5</td>\n",
       "    </tr>\n",
       "    <tr>\n",
       "      <th>58</th>\n",
       "      <td>160.000000</td>\n",
       "      <td>160.0</td>\n",
       "    </tr>\n",
       "    <tr>\n",
       "      <th>59</th>\n",
       "      <td>92.500000</td>\n",
       "      <td>92.5</td>\n",
       "    </tr>\n",
       "    <tr>\n",
       "      <th>60</th>\n",
       "      <td>104.200000</td>\n",
       "      <td>103.5</td>\n",
       "    </tr>\n",
       "    <tr>\n",
       "      <th>61</th>\n",
       "      <td>45.000000</td>\n",
       "      <td>45.0</td>\n",
       "    </tr>\n",
       "    <tr>\n",
       "      <th>62</th>\n",
       "      <td>51.700000</td>\n",
       "      <td>73.5</td>\n",
       "    </tr>\n",
       "    <tr>\n",
       "      <th>63</th>\n",
       "      <td>86.500000</td>\n",
       "      <td>86.5</td>\n",
       "    </tr>\n",
       "    <tr>\n",
       "      <th>64</th>\n",
       "      <td>55.500000</td>\n",
       "      <td>55.5</td>\n",
       "    </tr>\n",
       "    <tr>\n",
       "      <th>65</th>\n",
       "      <td>40.500000</td>\n",
       "      <td>40.5</td>\n",
       "    </tr>\n",
       "    <tr>\n",
       "      <th>66</th>\n",
       "      <td>22.000000</td>\n",
       "      <td>22.0</td>\n",
       "    </tr>\n",
       "    <tr>\n",
       "      <th>67</th>\n",
       "      <td>65.500000</td>\n",
       "      <td>65.5</td>\n",
       "    </tr>\n",
       "    <tr>\n",
       "      <th>68</th>\n",
       "      <td>37.875000</td>\n",
       "      <td>37.5</td>\n",
       "    </tr>\n",
       "    <tr>\n",
       "      <th>69</th>\n",
       "      <td>34.075000</td>\n",
       "      <td>33.5</td>\n",
       "    </tr>\n",
       "    <tr>\n",
       "      <th>70</th>\n",
       "      <td>81.500000</td>\n",
       "      <td>81.5</td>\n",
       "    </tr>\n",
       "    <tr>\n",
       "      <th>71</th>\n",
       "      <td>121.175000</td>\n",
       "      <td>87.5</td>\n",
       "    </tr>\n",
       "    <tr>\n",
       "      <th>72</th>\n",
       "      <td>137.125000</td>\n",
       "      <td>139.0</td>\n",
       "    </tr>\n",
       "    <tr>\n",
       "      <th>73</th>\n",
       "      <td>128.500000</td>\n",
       "      <td>128.5</td>\n",
       "    </tr>\n",
       "    <tr>\n",
       "      <th>74</th>\n",
       "      <td>111.201923</td>\n",
       "      <td>131.5</td>\n",
       "    </tr>\n",
       "    <tr>\n",
       "      <th>75</th>\n",
       "      <td>37.000000</td>\n",
       "      <td>37.0</td>\n",
       "    </tr>\n",
       "    <tr>\n",
       "      <th>76</th>\n",
       "      <td>80.125000</td>\n",
       "      <td>90.0</td>\n",
       "    </tr>\n",
       "    <tr>\n",
       "      <th>77</th>\n",
       "      <td>121.533349</td>\n",
       "      <td>121.5</td>\n",
       "    </tr>\n",
       "    <tr>\n",
       "      <th>78</th>\n",
       "      <td>39.000000</td>\n",
       "      <td>39.0</td>\n",
       "    </tr>\n",
       "    <tr>\n",
       "      <th>79</th>\n",
       "      <td>133.000000</td>\n",
       "      <td>135.0</td>\n",
       "    </tr>\n",
       "    <tr>\n",
       "      <th>80</th>\n",
       "      <td>76.000000</td>\n",
       "      <td>76.0</td>\n",
       "    </tr>\n",
       "    <tr>\n",
       "      <th>81</th>\n",
       "      <td>68.150000</td>\n",
       "      <td>68.5</td>\n",
       "    </tr>\n",
       "    <tr>\n",
       "      <th>82</th>\n",
       "      <td>128.000000</td>\n",
       "      <td>128.0</td>\n",
       "    </tr>\n",
       "    <tr>\n",
       "      <th>83</th>\n",
       "      <td>113.325000</td>\n",
       "      <td>125.0</td>\n",
       "    </tr>\n",
       "    <tr>\n",
       "      <th>84</th>\n",
       "      <td>158.000000</td>\n",
       "      <td>158.0</td>\n",
       "    </tr>\n",
       "    <tr>\n",
       "      <th>85</th>\n",
       "      <td>107.500000</td>\n",
       "      <td>107.5</td>\n",
       "    </tr>\n",
       "    <tr>\n",
       "      <th>86</th>\n",
       "      <td>160.000000</td>\n",
       "      <td>160.0</td>\n",
       "    </tr>\n",
       "  </tbody>\n",
       "</table>\n",
       "</div>"
      ],
      "text/plain": [
       "    Salary_Predicted  Salary_Target\n",
       "0          39.850000           57.5\n",
       "1          76.000000           76.0\n",
       "2         123.325000          126.5\n",
       "3          92.500000           92.5\n",
       "4          37.000000           37.0\n",
       "5          35.700000           35.0\n",
       "6         126.000000          126.0\n",
       "7          62.500000           62.5\n",
       "8          87.500000           87.5\n",
       "9         104.200000          104.0\n",
       "10         85.000000           85.0\n",
       "11         86.850000           77.0\n",
       "12         35.800000           34.0\n",
       "13         43.500000           43.5\n",
       "14        121.533349          121.5\n",
       "15        139.700000          157.5\n",
       "16         66.500000           66.5\n",
       "17         67.500000           67.5\n",
       "18         62.500000           62.5\n",
       "19         97.391667           95.0\n",
       "20         19.375000            7.0\n",
       "21        104.200000          104.0\n",
       "22        118.675000           92.0\n",
       "23        126.000000          126.0\n",
       "24         39.500000           39.5\n",
       "25         37.500000           37.5\n",
       "26        121.533349          121.5\n",
       "27         37.000000           37.0\n",
       "28         53.000000           53.0\n",
       "29        102.000000          102.0\n",
       "30         92.500000           92.5\n",
       "31        121.533349          121.5\n",
       "32         76.000000           76.0\n",
       "33         62.000000           62.0\n",
       "34         35.800000           34.0\n",
       "35         92.500000           92.5\n",
       "36        115.750000           90.0\n",
       "37         73.125000           73.0\n",
       "38        107.500000          107.5\n",
       "39        106.500000          106.5\n",
       "40        119.000000          110.0\n",
       "41         54.750000           55.0\n",
       "42        108.500000          108.5\n",
       "43         39.500000           39.5\n",
       "44         91.725000          102.0\n",
       "45         36.025000           34.5\n",
       "46         96.500000           96.5\n",
       "47         68.450000           68.0\n",
       "48         77.000000           77.0\n",
       "49         62.500000           62.5\n",
       "50         38.425000           40.0\n",
       "51        104.200000          103.5\n",
       "52         45.300000           47.0\n",
       "53         57.500000           57.5\n",
       "54         98.775000           98.5\n",
       "55        139.425000          123.5\n",
       "56         92.500000           92.5\n",
       "57         92.500000           92.5\n",
       "58        160.000000          160.0\n",
       "59         92.500000           92.5\n",
       "60        104.200000          103.5\n",
       "61         45.000000           45.0\n",
       "62         51.700000           73.5\n",
       "63         86.500000           86.5\n",
       "64         55.500000           55.5\n",
       "65         40.500000           40.5\n",
       "66         22.000000           22.0\n",
       "67         65.500000           65.5\n",
       "68         37.875000           37.5\n",
       "69         34.075000           33.5\n",
       "70         81.500000           81.5\n",
       "71        121.175000           87.5\n",
       "72        137.125000          139.0\n",
       "73        128.500000          128.5\n",
       "74        111.201923          131.5\n",
       "75         37.000000           37.0\n",
       "76         80.125000           90.0\n",
       "77        121.533349          121.5\n",
       "78         39.000000           39.0\n",
       "79        133.000000          135.0\n",
       "80         76.000000           76.0\n",
       "81         68.150000           68.5\n",
       "82        128.000000          128.0\n",
       "83        113.325000          125.0\n",
       "84        158.000000          158.0\n",
       "85        107.500000          107.5\n",
       "86        160.000000          160.0"
      ]
     },
     "execution_count": 52,
     "metadata": {},
     "output_type": "execute_result"
    }
   ],
   "source": [
    "data_predicted =pd.DataFrame({'Salary_Predicted':pred_rf_CV,'Salary_Target':ytest})\n",
    "data_predicted"
   ]
  },
  {
   "cell_type": "markdown",
   "id": "4a9b27b9",
   "metadata": {},
   "source": [
    "# conclusion\n",
    "as you can see above there's so many different approaches that you can take ,there,s so many more models you can build that each of these steps can take a full day or a full week ,but you must to tell a story about why you chose spesific ones for example with the Linear Regression versus the Lasso Regression even though the Lasso performed worse in this use case the Lasso Regression should make more sense because there's a normalization effect and we have kind of sparse matrix .the Random Forest also makes a ton of sense we have a lot of zero one values and that is a good use case we're we're using a bunch of decision trees "
   ]
  },
  {
   "cell_type": "code",
   "execution_count": null,
   "id": "9dc4c0ba",
   "metadata": {},
   "outputs": [],
   "source": []
  }
 ],
 "metadata": {
  "kernelspec": {
   "display_name": "Python 3 (ipykernel)",
   "language": "python",
   "name": "python3"
  },
  "language_info": {
   "codemirror_mode": {
    "name": "ipython",
    "version": 3
   },
   "file_extension": ".py",
   "mimetype": "text/x-python",
   "name": "python",
   "nbconvert_exporter": "python",
   "pygments_lexer": "ipython3",
   "version": "3.7.1"
  }
 },
 "nbformat": 4,
 "nbformat_minor": 5
}
