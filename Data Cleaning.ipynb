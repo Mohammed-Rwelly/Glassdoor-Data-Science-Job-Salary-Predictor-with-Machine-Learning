{
 "cells": [
  {
   "cell_type": "code",
   "execution_count": 72,
   "id": "d980dca0",
   "metadata": {},
   "outputs": [],
   "source": [
    "import pandas as pd\n",
    "from wordcloud import WordCloud\n",
    "import matplotlib.pyplot as plt\n",
    "import nltk\n",
    "from nltk.corpus import stopwords,words\n",
    "import numpy as np\n",
    "import seaborn as sns\n",
    "import re"
   ]
  },
  {
   "cell_type": "markdown",
   "id": "86f73031",
   "metadata": {},
   "source": [
    "#### We are setting the parameter index_col=0 to drop unnamed column"
   ]
  },
  {
   "cell_type": "code",
   "execution_count": 73,
   "id": "7db61f0a",
   "metadata": {},
   "outputs": [
    {
     "data": {
      "text/html": [
       "<div>\n",
       "<style scoped>\n",
       "    .dataframe tbody tr th:only-of-type {\n",
       "        vertical-align: middle;\n",
       "    }\n",
       "\n",
       "    .dataframe tbody tr th {\n",
       "        vertical-align: top;\n",
       "    }\n",
       "\n",
       "    .dataframe thead th {\n",
       "        text-align: right;\n",
       "    }\n",
       "</style>\n",
       "<table border=\"1\" class=\"dataframe\">\n",
       "  <thead>\n",
       "    <tr style=\"text-align: right;\">\n",
       "      <th></th>\n",
       "      <th>City</th>\n",
       "      <th>JobId</th>\n",
       "      <th>Source</th>\n",
       "      <th>CollectedDate</th>\n",
       "      <th>JobTitle</th>\n",
       "      <th>CompanyName</th>\n",
       "      <th>RatingNumber</th>\n",
       "      <th>PostedDate</th>\n",
       "      <th>Posted_Date_N</th>\n",
       "      <th>Salary</th>\n",
       "      <th>jobURL</th>\n",
       "      <th>fullJobDescribtion</th>\n",
       "      <th>Size</th>\n",
       "      <th>Type_Of_Ownership</th>\n",
       "      <th>Sector</th>\n",
       "      <th>Founded</th>\n",
       "      <th>Industry</th>\n",
       "      <th>Revenue</th>\n",
       "    </tr>\n",
       "  </thead>\n",
       "  <tbody>\n",
       "    <tr>\n",
       "      <th>0</th>\n",
       "      <td>Remote</td>\n",
       "      <td>1008266954603</td>\n",
       "      <td>Glassdoor</td>\n",
       "      <td>2022-11-09</td>\n",
       "      <td>Data Scientist</td>\n",
       "      <td>Creatura Consulting\\n5.0</td>\n",
       "      <td>5.0</td>\n",
       "      <td>24h</td>\n",
       "      <td>2022-10-16</td>\n",
       "      <td>$45.00 - $75.00 Per Hour(Employer est.)</td>\n",
       "      <td>https://www.glassdoor.com/partner/jobListing.h...</td>\n",
       "      <td>The ideal candidate's favorite words are learn...</td>\n",
       "      <td>1 to 50 Employees</td>\n",
       "      <td>Company - Private</td>\n",
       "      <td>NaN</td>\n",
       "      <td>NaN</td>\n",
       "      <td>NaN</td>\n",
       "      <td>Unknown / Non-Applicable</td>\n",
       "    </tr>\n",
       "    <tr>\n",
       "      <th>1</th>\n",
       "      <td>Alpharetta, GA</td>\n",
       "      <td>1008266055464</td>\n",
       "      <td>Glassdoor</td>\n",
       "      <td>2022-11-09</td>\n",
       "      <td>Jr. Data Scientist (Remote)</td>\n",
       "      <td>RELX\\n3.9</td>\n",
       "      <td>3.9</td>\n",
       "      <td>24h</td>\n",
       "      <td>2022-10-16</td>\n",
       "      <td>$54K - $77K (Glassdoor est.)</td>\n",
       "      <td>https://www.glassdoor.com/partner/jobListing.h...</td>\n",
       "      <td>This position can be home-based anywhere in th...</td>\n",
       "      <td>10000+ Employees</td>\n",
       "      <td>Company - Public</td>\n",
       "      <td>Information Technology</td>\n",
       "      <td>1880.0</td>\n",
       "      <td>Information Technology Support Services</td>\n",
       "      <td>$10+ billion (USD)</td>\n",
       "    </tr>\n",
       "    <tr>\n",
       "      <th>2</th>\n",
       "      <td>Remote</td>\n",
       "      <td>1008259480518</td>\n",
       "      <td>Glassdoor</td>\n",
       "      <td>2022-11-09</td>\n",
       "      <td>Data Scientist- Coding Dojo Hiring Partner</td>\n",
       "      <td>CODING DOJO INC\\n3.9</td>\n",
       "      <td>3.9</td>\n",
       "      <td>4d</td>\n",
       "      <td>2022-11-05</td>\n",
       "      <td>NaN</td>\n",
       "      <td>https://www.glassdoor.com/partner/jobListing.h...</td>\n",
       "      <td>Title: Data Scientist\\nLocation: Remote\\nType:...</td>\n",
       "      <td>51 to 200 Employees</td>\n",
       "      <td>Company - Private</td>\n",
       "      <td>Education</td>\n",
       "      <td>2013.0</td>\n",
       "      <td>Education &amp; Training Services</td>\n",
       "      <td>$5 to $25 million (USD)</td>\n",
       "    </tr>\n",
       "    <tr>\n",
       "      <th>3</th>\n",
       "      <td>Moline, IL</td>\n",
       "      <td>1008266830132</td>\n",
       "      <td>Glassdoor</td>\n",
       "      <td>2022-11-09</td>\n",
       "      <td>Data Scientist - REMOTE</td>\n",
       "      <td>John Deere\\n4.1</td>\n",
       "      <td>4.1</td>\n",
       "      <td>24h</td>\n",
       "      <td>2022-10-16</td>\n",
       "      <td>$86K - $129K (Glassdoor est.)</td>\n",
       "      <td>https://www.glassdoor.com/partner/jobListing.h...</td>\n",
       "      <td>There are over 7 billion people on this planet...</td>\n",
       "      <td>10000+ Employees</td>\n",
       "      <td>Company - Public</td>\n",
       "      <td>Manufacturing</td>\n",
       "      <td>1837.0</td>\n",
       "      <td>Machinery Manufacturing</td>\n",
       "      <td>$10+ billion (USD)</td>\n",
       "    </tr>\n",
       "    <tr>\n",
       "      <th>4</th>\n",
       "      <td>Washington, DC</td>\n",
       "      <td>1008253713007</td>\n",
       "      <td>Glassdoor</td>\n",
       "      <td>2022-11-09</td>\n",
       "      <td>Junior Data Scientist</td>\n",
       "      <td>World Bank Group\\n4.2</td>\n",
       "      <td>NaN</td>\n",
       "      <td>6d</td>\n",
       "      <td>2022-11-03</td>\n",
       "      <td>$70K - $108K (Glassdoor est.)</td>\n",
       "      <td>https://www.glassdoor.com/partner/jobListing.h...</td>\n",
       "      <td>Job #:\\nreq19774\\n\\nOrganization:\\nWorld Bank\\...</td>\n",
       "      <td>10000+ Employees</td>\n",
       "      <td>Nonprofit Organization</td>\n",
       "      <td>NaN</td>\n",
       "      <td>NaN</td>\n",
       "      <td>NaN</td>\n",
       "      <td>$1 to $5 billion (USD)</td>\n",
       "    </tr>\n",
       "  </tbody>\n",
       "</table>\n",
       "</div>"
      ],
      "text/plain": [
       "             City          JobId     Source CollectedDate  \\\n",
       "0          Remote  1008266954603  Glassdoor    2022-11-09   \n",
       "1  Alpharetta, GA  1008266055464  Glassdoor    2022-11-09   \n",
       "2          Remote  1008259480518  Glassdoor    2022-11-09   \n",
       "3      Moline, IL  1008266830132  Glassdoor    2022-11-09   \n",
       "4  Washington, DC  1008253713007  Glassdoor    2022-11-09   \n",
       "\n",
       "                                     JobTitle               CompanyName  \\\n",
       "0                              Data Scientist  Creatura Consulting\\n5.0   \n",
       "1                 Jr. Data Scientist (Remote)                 RELX\\n3.9   \n",
       "2  Data Scientist- Coding Dojo Hiring Partner      CODING DOJO INC\\n3.9   \n",
       "3                     Data Scientist - REMOTE           John Deere\\n4.1   \n",
       "4                       Junior Data Scientist     World Bank Group\\n4.2   \n",
       "\n",
       "   RatingNumber PostedDate Posted_Date_N  \\\n",
       "0           5.0        24h    2022-10-16   \n",
       "1           3.9        24h    2022-10-16   \n",
       "2           3.9         4d    2022-11-05   \n",
       "3           4.1        24h    2022-10-16   \n",
       "4           NaN         6d    2022-11-03   \n",
       "\n",
       "                                    Salary  \\\n",
       "0  $45.00 - $75.00 Per Hour(Employer est.)   \n",
       "1             $54K - $77K (Glassdoor est.)   \n",
       "2                                      NaN   \n",
       "3            $86K - $129K (Glassdoor est.)   \n",
       "4            $70K - $108K (Glassdoor est.)   \n",
       "\n",
       "                                              jobURL  \\\n",
       "0  https://www.glassdoor.com/partner/jobListing.h...   \n",
       "1  https://www.glassdoor.com/partner/jobListing.h...   \n",
       "2  https://www.glassdoor.com/partner/jobListing.h...   \n",
       "3  https://www.glassdoor.com/partner/jobListing.h...   \n",
       "4  https://www.glassdoor.com/partner/jobListing.h...   \n",
       "\n",
       "                                  fullJobDescribtion                 Size  \\\n",
       "0  The ideal candidate's favorite words are learn...    1 to 50 Employees   \n",
       "1  This position can be home-based anywhere in th...     10000+ Employees   \n",
       "2  Title: Data Scientist\\nLocation: Remote\\nType:...  51 to 200 Employees   \n",
       "3  There are over 7 billion people on this planet...     10000+ Employees   \n",
       "4  Job #:\\nreq19774\\n\\nOrganization:\\nWorld Bank\\...     10000+ Employees   \n",
       "\n",
       "        Type_Of_Ownership                  Sector  Founded  \\\n",
       "0       Company - Private                     NaN      NaN   \n",
       "1        Company - Public  Information Technology   1880.0   \n",
       "2       Company - Private               Education   2013.0   \n",
       "3        Company - Public           Manufacturing   1837.0   \n",
       "4  Nonprofit Organization                     NaN      NaN   \n",
       "\n",
       "                                  Industry                   Revenue  \n",
       "0                                      NaN  Unknown / Non-Applicable  \n",
       "1  Information Technology Support Services        $10+ billion (USD)  \n",
       "2            Education & Training Services   $5 to $25 million (USD)  \n",
       "3                  Machinery Manufacturing        $10+ billion (USD)  \n",
       "4                                      NaN    $1 to $5 billion (USD)  "
      ]
     },
     "execution_count": 73,
     "metadata": {},
     "output_type": "execute_result"
    }
   ],
   "source": [
    "data=pd.read_excel(r'orginal_data_from_glassdoor2.xlsx')\n",
    "data.head()"
   ]
  },
  {
   "cell_type": "code",
   "execution_count": 74,
   "id": "9fbfe8ec",
   "metadata": {},
   "outputs": [
    {
     "data": {
      "text/plain": [
       "Index(['City', 'JobId', 'Source', 'CollectedDate', 'JobTitle', 'CompanyName',\n",
       "       'RatingNumber', 'PostedDate', 'Posted_Date_N', 'Salary', 'jobURL',\n",
       "       'fullJobDescribtion', 'Size', 'Type_Of_Ownership', 'Sector', 'Founded',\n",
       "       'Industry', 'Revenue'],\n",
       "      dtype='object')"
      ]
     },
     "execution_count": 74,
     "metadata": {},
     "output_type": "execute_result"
    }
   ],
   "source": [
    "data.columns"
   ]
  },
  {
   "cell_type": "code",
   "execution_count": 75,
   "id": "ebe65cd5",
   "metadata": {},
   "outputs": [
    {
     "data": {
      "text/plain": [
       "(2268, 18)"
      ]
     },
     "execution_count": 75,
     "metadata": {},
     "output_type": "execute_result"
    }
   ],
   "source": [
    "data.shape"
   ]
  },
  {
   "cell_type": "code",
   "execution_count": 76,
   "id": "d5dada66",
   "metadata": {},
   "outputs": [
    {
     "data": {
      "text/html": [
       "<div>\n",
       "<style scoped>\n",
       "    .dataframe tbody tr th:only-of-type {\n",
       "        vertical-align: middle;\n",
       "    }\n",
       "\n",
       "    .dataframe tbody tr th {\n",
       "        vertical-align: top;\n",
       "    }\n",
       "\n",
       "    .dataframe thead th {\n",
       "        text-align: right;\n",
       "    }\n",
       "</style>\n",
       "<table border=\"1\" class=\"dataframe\">\n",
       "  <thead>\n",
       "    <tr style=\"text-align: right;\">\n",
       "      <th></th>\n",
       "      <th>City</th>\n",
       "      <th>JobId</th>\n",
       "      <th>Source</th>\n",
       "      <th>CollectedDate</th>\n",
       "      <th>JobTitle</th>\n",
       "      <th>CompanyName</th>\n",
       "      <th>RatingNumber</th>\n",
       "      <th>PostedDate</th>\n",
       "      <th>Posted_Date_N</th>\n",
       "      <th>Salary</th>\n",
       "      <th>jobURL</th>\n",
       "      <th>fullJobDescribtion</th>\n",
       "      <th>Size</th>\n",
       "      <th>Type_Of_Ownership</th>\n",
       "      <th>Sector</th>\n",
       "      <th>Founded</th>\n",
       "      <th>Industry</th>\n",
       "      <th>Revenue</th>\n",
       "    </tr>\n",
       "  </thead>\n",
       "  <tbody>\n",
       "    <tr>\n",
       "      <th>0</th>\n",
       "      <td>Remote</td>\n",
       "      <td>1008266954603</td>\n",
       "      <td>Glassdoor</td>\n",
       "      <td>2022-11-09</td>\n",
       "      <td>Data Scientist</td>\n",
       "      <td>Creatura Consulting\\n5.0</td>\n",
       "      <td>5.0</td>\n",
       "      <td>24h</td>\n",
       "      <td>2022-10-16</td>\n",
       "      <td>$45.00 - $75.00 Per Hour(Employer est.)</td>\n",
       "      <td>https://www.glassdoor.com/partner/jobListing.h...</td>\n",
       "      <td>The ideal candidate's favorite words are learn...</td>\n",
       "      <td>1 to 50 Employees</td>\n",
       "      <td>Company - Private</td>\n",
       "      <td>NaN</td>\n",
       "      <td>NaN</td>\n",
       "      <td>NaN</td>\n",
       "      <td>Unknown / Non-Applicable</td>\n",
       "    </tr>\n",
       "    <tr>\n",
       "      <th>1</th>\n",
       "      <td>Alpharetta, GA</td>\n",
       "      <td>1008266055464</td>\n",
       "      <td>Glassdoor</td>\n",
       "      <td>2022-11-09</td>\n",
       "      <td>Jr. Data Scientist (Remote)</td>\n",
       "      <td>RELX\\n3.9</td>\n",
       "      <td>3.9</td>\n",
       "      <td>24h</td>\n",
       "      <td>2022-10-16</td>\n",
       "      <td>$54K - $77K (Glassdoor est.)</td>\n",
       "      <td>https://www.glassdoor.com/partner/jobListing.h...</td>\n",
       "      <td>This position can be home-based anywhere in th...</td>\n",
       "      <td>10000+ Employees</td>\n",
       "      <td>Company - Public</td>\n",
       "      <td>Information Technology</td>\n",
       "      <td>1880.0</td>\n",
       "      <td>Information Technology Support Services</td>\n",
       "      <td>$10+ billion (USD)</td>\n",
       "    </tr>\n",
       "    <tr>\n",
       "      <th>2</th>\n",
       "      <td>Remote</td>\n",
       "      <td>1008259480518</td>\n",
       "      <td>Glassdoor</td>\n",
       "      <td>2022-11-09</td>\n",
       "      <td>Data Scientist- Coding Dojo Hiring Partner</td>\n",
       "      <td>CODING DOJO INC\\n3.9</td>\n",
       "      <td>3.9</td>\n",
       "      <td>4d</td>\n",
       "      <td>2022-11-05</td>\n",
       "      <td>NaN</td>\n",
       "      <td>https://www.glassdoor.com/partner/jobListing.h...</td>\n",
       "      <td>Title: Data Scientist\\nLocation: Remote\\nType:...</td>\n",
       "      <td>51 to 200 Employees</td>\n",
       "      <td>Company - Private</td>\n",
       "      <td>Education</td>\n",
       "      <td>2013.0</td>\n",
       "      <td>Education &amp; Training Services</td>\n",
       "      <td>$5 to $25 million (USD)</td>\n",
       "    </tr>\n",
       "    <tr>\n",
       "      <th>3</th>\n",
       "      <td>Moline, IL</td>\n",
       "      <td>1008266830132</td>\n",
       "      <td>Glassdoor</td>\n",
       "      <td>2022-11-09</td>\n",
       "      <td>Data Scientist - REMOTE</td>\n",
       "      <td>John Deere\\n4.1</td>\n",
       "      <td>4.1</td>\n",
       "      <td>24h</td>\n",
       "      <td>2022-10-16</td>\n",
       "      <td>$86K - $129K (Glassdoor est.)</td>\n",
       "      <td>https://www.glassdoor.com/partner/jobListing.h...</td>\n",
       "      <td>There are over 7 billion people on this planet...</td>\n",
       "      <td>10000+ Employees</td>\n",
       "      <td>Company - Public</td>\n",
       "      <td>Manufacturing</td>\n",
       "      <td>1837.0</td>\n",
       "      <td>Machinery Manufacturing</td>\n",
       "      <td>$10+ billion (USD)</td>\n",
       "    </tr>\n",
       "    <tr>\n",
       "      <th>4</th>\n",
       "      <td>Washington, DC</td>\n",
       "      <td>1008253713007</td>\n",
       "      <td>Glassdoor</td>\n",
       "      <td>2022-11-09</td>\n",
       "      <td>Junior Data Scientist</td>\n",
       "      <td>World Bank Group\\n4.2</td>\n",
       "      <td>NaN</td>\n",
       "      <td>6d</td>\n",
       "      <td>2022-11-03</td>\n",
       "      <td>$70K - $108K (Glassdoor est.)</td>\n",
       "      <td>https://www.glassdoor.com/partner/jobListing.h...</td>\n",
       "      <td>Job #:\\nreq19774\\n\\nOrganization:\\nWorld Bank\\...</td>\n",
       "      <td>10000+ Employees</td>\n",
       "      <td>Nonprofit Organization</td>\n",
       "      <td>NaN</td>\n",
       "      <td>NaN</td>\n",
       "      <td>NaN</td>\n",
       "      <td>$1 to $5 billion (USD)</td>\n",
       "    </tr>\n",
       "    <tr>\n",
       "      <th>...</th>\n",
       "      <td>...</td>\n",
       "      <td>...</td>\n",
       "      <td>...</td>\n",
       "      <td>...</td>\n",
       "      <td>...</td>\n",
       "      <td>...</td>\n",
       "      <td>...</td>\n",
       "      <td>...</td>\n",
       "      <td>...</td>\n",
       "      <td>...</td>\n",
       "      <td>...</td>\n",
       "      <td>...</td>\n",
       "      <td>...</td>\n",
       "      <td>...</td>\n",
       "      <td>...</td>\n",
       "      <td>...</td>\n",
       "      <td>...</td>\n",
       "      <td>...</td>\n",
       "    </tr>\n",
       "    <tr>\n",
       "      <th>2263</th>\n",
       "      <td>Remote</td>\n",
       "      <td>1007751227553</td>\n",
       "      <td>Glassdoor</td>\n",
       "      <td>2022-11-14</td>\n",
       "      <td>Junior Data Scientist-Remote</td>\n",
       "      <td>Sabre Systems Inc.\\n4.7</td>\n",
       "      <td>4.7</td>\n",
       "      <td>30d+</td>\n",
       "      <td>2022-10-15</td>\n",
       "      <td>NaN</td>\n",
       "      <td>https://www.glassdoor.com/partner/jobListing.h...</td>\n",
       "      <td>Responsibilities:\\nThe NAVAIR Digital Group le...</td>\n",
       "      <td>201 to 500 Employees</td>\n",
       "      <td>Company - Private</td>\n",
       "      <td>Aerospace &amp; Defense</td>\n",
       "      <td>1989.0</td>\n",
       "      <td>Aerospace &amp; Defense</td>\n",
       "      <td>$25 to $100 million (USD)</td>\n",
       "    </tr>\n",
       "    <tr>\n",
       "      <th>2264</th>\n",
       "      <td>Lake Forest, IL</td>\n",
       "      <td>1008263900986</td>\n",
       "      <td>Glassdoor</td>\n",
       "      <td>2022-11-14</td>\n",
       "      <td>Associate Data Scientist</td>\n",
       "      <td>Abbott Laboratories\\n3.8</td>\n",
       "      <td>3.8</td>\n",
       "      <td>6d</td>\n",
       "      <td>2022-11-08</td>\n",
       "      <td>$83K - $120K (Glassdoor est.)</td>\n",
       "      <td>https://www.glassdoor.com/partner/jobListing.h...</td>\n",
       "      <td>Abbott is a global healthcare leader that help...</td>\n",
       "      <td>10000+ Employees</td>\n",
       "      <td>Company - Public</td>\n",
       "      <td>Healthcare</td>\n",
       "      <td>1888.0</td>\n",
       "      <td>Health Care Services &amp; Hospitals</td>\n",
       "      <td>$10+ billion (USD)</td>\n",
       "    </tr>\n",
       "    <tr>\n",
       "      <th>2265</th>\n",
       "      <td>Remote</td>\n",
       "      <td>1008238407975</td>\n",
       "      <td>Glassdoor</td>\n",
       "      <td>2022-11-14</td>\n",
       "      <td>Data Scientist (100% Remote) PERM AMICA</td>\n",
       "      <td>Access to future</td>\n",
       "      <td>NaN</td>\n",
       "      <td>17d</td>\n",
       "      <td>2022-10-28</td>\n",
       "      <td>$110K - $115K (Employer est.)</td>\n",
       "      <td>https://www.glassdoor.com/partner/jobListing.h...</td>\n",
       "      <td>Number of openings: 1\\nSalary: $115k PERM (som...</td>\n",
       "      <td>Unknown</td>\n",
       "      <td>Company - Public</td>\n",
       "      <td>NaN</td>\n",
       "      <td>NaN</td>\n",
       "      <td>NaN</td>\n",
       "      <td>Unknown / Non-Applicable</td>\n",
       "    </tr>\n",
       "    <tr>\n",
       "      <th>2266</th>\n",
       "      <td>New York, NY</td>\n",
       "      <td>1008102598975</td>\n",
       "      <td>Glassdoor</td>\n",
       "      <td>2022-11-14</td>\n",
       "      <td>Data Scientist</td>\n",
       "      <td>CVS Health\\n3.1</td>\n",
       "      <td>3.1</td>\n",
       "      <td>30d+</td>\n",
       "      <td>2022-10-15</td>\n",
       "      <td>$60K - $129K (Employer est.)</td>\n",
       "      <td>https://www.glassdoor.com/partner/jobListing.h...</td>\n",
       "      <td>Description/Fundamental Components:\\n\\nDevelop...</td>\n",
       "      <td>10000+ Employees</td>\n",
       "      <td>Company - Public</td>\n",
       "      <td>Healthcare</td>\n",
       "      <td>1963.0</td>\n",
       "      <td>Health Care Services &amp; Hospitals</td>\n",
       "      <td>$10+ billion (USD)</td>\n",
       "    </tr>\n",
       "    <tr>\n",
       "      <th>2267</th>\n",
       "      <td>San Francisco, CA</td>\n",
       "      <td>1008275070634</td>\n",
       "      <td>Glassdoor</td>\n",
       "      <td>2022-11-14</td>\n",
       "      <td>Data Scientist (Experimentation)</td>\n",
       "      <td>FocusKPI Inc.\\n3.3</td>\n",
       "      <td>3.3</td>\n",
       "      <td>2d</td>\n",
       "      <td>2022-11-12</td>\n",
       "      <td>$98K - $140K (Glassdoor est.)</td>\n",
       "      <td>https://www.glassdoor.com/partner/jobListing.h...</td>\n",
       "      <td>FocusKPI, Inc. is looking for a Data Scientist...</td>\n",
       "      <td>51 to 200 Employees</td>\n",
       "      <td>Company - Private</td>\n",
       "      <td>Media &amp; Communication</td>\n",
       "      <td>NaN</td>\n",
       "      <td>Advertising &amp; Public Relations</td>\n",
       "      <td>Less than $1 million (USD)</td>\n",
       "    </tr>\n",
       "  </tbody>\n",
       "</table>\n",
       "<p>2268 rows × 18 columns</p>\n",
       "</div>"
      ],
      "text/plain": [
       "                   City          JobId     Source CollectedDate  \\\n",
       "0                Remote  1008266954603  Glassdoor    2022-11-09   \n",
       "1        Alpharetta, GA  1008266055464  Glassdoor    2022-11-09   \n",
       "2                Remote  1008259480518  Glassdoor    2022-11-09   \n",
       "3            Moline, IL  1008266830132  Glassdoor    2022-11-09   \n",
       "4        Washington, DC  1008253713007  Glassdoor    2022-11-09   \n",
       "...                 ...            ...        ...           ...   \n",
       "2263             Remote  1007751227553  Glassdoor    2022-11-14   \n",
       "2264    Lake Forest, IL  1008263900986  Glassdoor    2022-11-14   \n",
       "2265             Remote  1008238407975  Glassdoor    2022-11-14   \n",
       "2266       New York, NY  1008102598975  Glassdoor    2022-11-14   \n",
       "2267  San Francisco, CA  1008275070634  Glassdoor    2022-11-14   \n",
       "\n",
       "                                        JobTitle               CompanyName  \\\n",
       "0                                 Data Scientist  Creatura Consulting\\n5.0   \n",
       "1                    Jr. Data Scientist (Remote)                 RELX\\n3.9   \n",
       "2     Data Scientist- Coding Dojo Hiring Partner      CODING DOJO INC\\n3.9   \n",
       "3                        Data Scientist - REMOTE           John Deere\\n4.1   \n",
       "4                          Junior Data Scientist     World Bank Group\\n4.2   \n",
       "...                                          ...                       ...   \n",
       "2263                Junior Data Scientist-Remote   Sabre Systems Inc.\\n4.7   \n",
       "2264                    Associate Data Scientist  Abbott Laboratories\\n3.8   \n",
       "2265     Data Scientist (100% Remote) PERM AMICA          Access to future   \n",
       "2266                              Data Scientist           CVS Health\\n3.1   \n",
       "2267            Data Scientist (Experimentation)        FocusKPI Inc.\\n3.3   \n",
       "\n",
       "      RatingNumber PostedDate Posted_Date_N  \\\n",
       "0              5.0        24h    2022-10-16   \n",
       "1              3.9        24h    2022-10-16   \n",
       "2              3.9         4d    2022-11-05   \n",
       "3              4.1        24h    2022-10-16   \n",
       "4              NaN         6d    2022-11-03   \n",
       "...            ...        ...           ...   \n",
       "2263           4.7       30d+    2022-10-15   \n",
       "2264           3.8         6d    2022-11-08   \n",
       "2265           NaN        17d    2022-10-28   \n",
       "2266           3.1       30d+    2022-10-15   \n",
       "2267           3.3         2d    2022-11-12   \n",
       "\n",
       "                                       Salary  \\\n",
       "0     $45.00 - $75.00 Per Hour(Employer est.)   \n",
       "1                $54K - $77K (Glassdoor est.)   \n",
       "2                                         NaN   \n",
       "3               $86K - $129K (Glassdoor est.)   \n",
       "4               $70K - $108K (Glassdoor est.)   \n",
       "...                                       ...   \n",
       "2263                                      NaN   \n",
       "2264            $83K - $120K (Glassdoor est.)   \n",
       "2265            $110K - $115K (Employer est.)   \n",
       "2266             $60K - $129K (Employer est.)   \n",
       "2267            $98K - $140K (Glassdoor est.)   \n",
       "\n",
       "                                                 jobURL  \\\n",
       "0     https://www.glassdoor.com/partner/jobListing.h...   \n",
       "1     https://www.glassdoor.com/partner/jobListing.h...   \n",
       "2     https://www.glassdoor.com/partner/jobListing.h...   \n",
       "3     https://www.glassdoor.com/partner/jobListing.h...   \n",
       "4     https://www.glassdoor.com/partner/jobListing.h...   \n",
       "...                                                 ...   \n",
       "2263  https://www.glassdoor.com/partner/jobListing.h...   \n",
       "2264  https://www.glassdoor.com/partner/jobListing.h...   \n",
       "2265  https://www.glassdoor.com/partner/jobListing.h...   \n",
       "2266  https://www.glassdoor.com/partner/jobListing.h...   \n",
       "2267  https://www.glassdoor.com/partner/jobListing.h...   \n",
       "\n",
       "                                     fullJobDescribtion                  Size  \\\n",
       "0     The ideal candidate's favorite words are learn...     1 to 50 Employees   \n",
       "1     This position can be home-based anywhere in th...      10000+ Employees   \n",
       "2     Title: Data Scientist\\nLocation: Remote\\nType:...   51 to 200 Employees   \n",
       "3     There are over 7 billion people on this planet...      10000+ Employees   \n",
       "4     Job #:\\nreq19774\\n\\nOrganization:\\nWorld Bank\\...      10000+ Employees   \n",
       "...                                                 ...                   ...   \n",
       "2263  Responsibilities:\\nThe NAVAIR Digital Group le...  201 to 500 Employees   \n",
       "2264  Abbott is a global healthcare leader that help...      10000+ Employees   \n",
       "2265  Number of openings: 1\\nSalary: $115k PERM (som...               Unknown   \n",
       "2266  Description/Fundamental Components:\\n\\nDevelop...      10000+ Employees   \n",
       "2267  FocusKPI, Inc. is looking for a Data Scientist...   51 to 200 Employees   \n",
       "\n",
       "           Type_Of_Ownership                  Sector  Founded  \\\n",
       "0          Company - Private                     NaN      NaN   \n",
       "1           Company - Public  Information Technology   1880.0   \n",
       "2          Company - Private               Education   2013.0   \n",
       "3           Company - Public           Manufacturing   1837.0   \n",
       "4     Nonprofit Organization                     NaN      NaN   \n",
       "...                      ...                     ...      ...   \n",
       "2263       Company - Private     Aerospace & Defense   1989.0   \n",
       "2264        Company - Public              Healthcare   1888.0   \n",
       "2265        Company - Public                     NaN      NaN   \n",
       "2266        Company - Public              Healthcare   1963.0   \n",
       "2267       Company - Private   Media & Communication      NaN   \n",
       "\n",
       "                                     Industry                     Revenue  \n",
       "0                                         NaN    Unknown / Non-Applicable  \n",
       "1     Information Technology Support Services          $10+ billion (USD)  \n",
       "2               Education & Training Services     $5 to $25 million (USD)  \n",
       "3                     Machinery Manufacturing          $10+ billion (USD)  \n",
       "4                                         NaN      $1 to $5 billion (USD)  \n",
       "...                                       ...                         ...  \n",
       "2263                      Aerospace & Defense   $25 to $100 million (USD)  \n",
       "2264         Health Care Services & Hospitals          $10+ billion (USD)  \n",
       "2265                                      NaN    Unknown / Non-Applicable  \n",
       "2266         Health Care Services & Hospitals          $10+ billion (USD)  \n",
       "2267           Advertising & Public Relations  Less than $1 million (USD)  \n",
       "\n",
       "[2268 rows x 18 columns]"
      ]
     },
     "execution_count": 76,
     "metadata": {},
     "output_type": "execute_result"
    }
   ],
   "source": [
    "data"
   ]
  },
  {
   "cell_type": "code",
   "execution_count": 77,
   "id": "889482e1",
   "metadata": {},
   "outputs": [],
   "source": [
    "def missing_values_table(df):\n",
    "    mis_val=df.isnull().sum()\n",
    "    mis_val_percent = mis_val *100 / len(df)\n",
    "    mis_val_table= pd.concat([mis_val,mis_val_percent],axis=1)\n",
    "    mis_val_table_ren_columns= mis_val_table.rename(columns={0:'Missing Values',1:'% Total Values'})\n",
    "    #sort by column\n",
    "    mis_val_table_ren_columns =mis_val_table_ren_columns[mis_val_table_ren_columns.iloc[:,1] != 0].sort_values('% Total Values',ascending=False).round(1)\n",
    "    print(\"Your selected dataset has \"+str(df.shape[1])+\" columns and \"+str(len(df))+\" observation .\\n\"\n",
    "          \"There are \"+str(mis_val_table_ren_columns.shape[0])+\" columns that have missing value\")\n",
    "    return mis_val_table_ren_columns\n"
   ]
  },
  {
   "cell_type": "code",
   "execution_count": 78,
   "id": "df362250",
   "metadata": {},
   "outputs": [
    {
     "name": "stdout",
     "output_type": "stream",
     "text": [
      "Your selected dataset has 18 columns and 2268 observation .\n",
      "There are 14 columns that have missing value\n"
     ]
    },
    {
     "data": {
      "text/html": [
       "<div>\n",
       "<style scoped>\n",
       "    .dataframe tbody tr th:only-of-type {\n",
       "        vertical-align: middle;\n",
       "    }\n",
       "\n",
       "    .dataframe tbody tr th {\n",
       "        vertical-align: top;\n",
       "    }\n",
       "\n",
       "    .dataframe thead th {\n",
       "        text-align: right;\n",
       "    }\n",
       "</style>\n",
       "<table border=\"1\" class=\"dataframe\">\n",
       "  <thead>\n",
       "    <tr style=\"text-align: right;\">\n",
       "      <th></th>\n",
       "      <th>Missing Values</th>\n",
       "      <th>% Total Values</th>\n",
       "    </tr>\n",
       "  </thead>\n",
       "  <tbody>\n",
       "    <tr>\n",
       "      <th>Founded</th>\n",
       "      <td>992</td>\n",
       "      <td>43.7</td>\n",
       "    </tr>\n",
       "    <tr>\n",
       "      <th>Sector</th>\n",
       "      <td>782</td>\n",
       "      <td>34.5</td>\n",
       "    </tr>\n",
       "    <tr>\n",
       "      <th>Industry</th>\n",
       "      <td>782</td>\n",
       "      <td>34.5</td>\n",
       "    </tr>\n",
       "    <tr>\n",
       "      <th>RatingNumber</th>\n",
       "      <td>618</td>\n",
       "      <td>27.2</td>\n",
       "    </tr>\n",
       "    <tr>\n",
       "      <th>Salary</th>\n",
       "      <td>460</td>\n",
       "      <td>20.3</td>\n",
       "    </tr>\n",
       "    <tr>\n",
       "      <th>Size</th>\n",
       "      <td>391</td>\n",
       "      <td>17.2</td>\n",
       "    </tr>\n",
       "    <tr>\n",
       "      <th>Type_Of_Ownership</th>\n",
       "      <td>391</td>\n",
       "      <td>17.2</td>\n",
       "    </tr>\n",
       "    <tr>\n",
       "      <th>Revenue</th>\n",
       "      <td>391</td>\n",
       "      <td>17.2</td>\n",
       "    </tr>\n",
       "    <tr>\n",
       "      <th>fullJobDescribtion</th>\n",
       "      <td>112</td>\n",
       "      <td>4.9</td>\n",
       "    </tr>\n",
       "    <tr>\n",
       "      <th>City</th>\n",
       "      <td>78</td>\n",
       "      <td>3.4</td>\n",
       "    </tr>\n",
       "    <tr>\n",
       "      <th>JobTitle</th>\n",
       "      <td>53</td>\n",
       "      <td>2.3</td>\n",
       "    </tr>\n",
       "    <tr>\n",
       "      <th>CompanyName</th>\n",
       "      <td>53</td>\n",
       "      <td>2.3</td>\n",
       "    </tr>\n",
       "    <tr>\n",
       "      <th>jobURL</th>\n",
       "      <td>53</td>\n",
       "      <td>2.3</td>\n",
       "    </tr>\n",
       "    <tr>\n",
       "      <th>PostedDate</th>\n",
       "      <td>17</td>\n",
       "      <td>0.7</td>\n",
       "    </tr>\n",
       "  </tbody>\n",
       "</table>\n",
       "</div>"
      ],
      "text/plain": [
       "                    Missing Values  % Total Values\n",
       "Founded                        992            43.7\n",
       "Sector                         782            34.5\n",
       "Industry                       782            34.5\n",
       "RatingNumber                   618            27.2\n",
       "Salary                         460            20.3\n",
       "Size                           391            17.2\n",
       "Type_Of_Ownership              391            17.2\n",
       "Revenue                        391            17.2\n",
       "fullJobDescribtion             112             4.9\n",
       "City                            78             3.4\n",
       "JobTitle                        53             2.3\n",
       "CompanyName                     53             2.3\n",
       "jobURL                          53             2.3\n",
       "PostedDate                      17             0.7"
      ]
     },
     "execution_count": 78,
     "metadata": {},
     "output_type": "execute_result"
    }
   ],
   "source": [
    "missing_values_table(data)"
   ]
  },
  {
   "cell_type": "code",
   "execution_count": 79,
   "id": "f123bc25",
   "metadata": {},
   "outputs": [
    {
     "data": {
      "text/plain": [
       "(955, 18)"
      ]
     },
     "execution_count": 79,
     "metadata": {},
     "output_type": "execute_result"
    }
   ],
   "source": [
    "data=data.dropna(axis=0)\n",
    "data.shape"
   ]
  },
  {
   "cell_type": "code",
   "execution_count": 80,
   "id": "aa072863",
   "metadata": {},
   "outputs": [
    {
     "data": {
      "text/plain": [
       "1       $54K - $77K (Glassdoor est.)\n",
       "3      $86K - $129K (Glassdoor est.)\n",
       "5      $99K - $144K (Glassdoor est.)\n",
       "7     $114K - $164K (Glassdoor est.)\n",
       "10      $60K - $129K (Employer est.)\n",
       "Name: Salary, dtype: object"
      ]
     },
     "execution_count": 80,
     "metadata": {},
     "output_type": "execute_result"
    }
   ],
   "source": [
    "data['Salary'].head()"
   ]
  },
  {
   "cell_type": "markdown",
   "id": "ceb9c350",
   "metadata": {},
   "source": [
    "#### Feature engineering on the salary column"
   ]
  },
  {
   "cell_type": "code",
   "execution_count": 81,
   "id": "dbaf255f",
   "metadata": {},
   "outputs": [],
   "source": [
    "salary=data['Salary'].apply(lambda x:x.split('(')[0])"
   ]
  },
  {
   "cell_type": "code",
   "execution_count": 82,
   "id": "49c0e721",
   "metadata": {},
   "outputs": [
    {
     "name": "stderr",
     "output_type": "stream",
     "text": [
      "C:\\Users\\Mohameed\\Anaconda3\\lib\\site-packages\\ipykernel_launcher.py:1: SettingWithCopyWarning: \n",
      "A value is trying to be set on a copy of a slice from a DataFrame.\n",
      "Try using .loc[row_indexer,col_indexer] = value instead\n",
      "\n",
      "See the caveats in the documentation: https://pandas.pydata.org/pandas-docs/stable/user_guide/indexing.html#returning-a-view-versus-a-copy\n",
      "  \"\"\"Entry point for launching an IPython kernel.\n"
     ]
    }
   ],
   "source": [
    "data['hourly'] = data['Salary'].apply(lambda x:1 if 'per hour' in x.lower() else 0)"
   ]
  },
  {
   "cell_type": "code",
   "execution_count": 83,
   "id": "1de13348",
   "metadata": {},
   "outputs": [
    {
     "data": {
      "text/plain": [
       "0    747\n",
       "1    208\n",
       "Name: hourly, dtype: int64"
      ]
     },
     "execution_count": 83,
     "metadata": {},
     "output_type": "execute_result"
    }
   ],
   "source": [
    "data['hourly'].value_counts()"
   ]
  },
  {
   "cell_type": "markdown",
   "id": "7c29fa05",
   "metadata": {},
   "source": [
    "#### as we can see above there are the dollar sign and thousand marker ,So we are removing'"
   ]
  },
  {
   "cell_type": "code",
   "execution_count": 84,
   "id": "ecefab1b",
   "metadata": {},
   "outputs": [],
   "source": [
    "minus_kd=salary.apply(lambda x:x.replace('$','').replace('K',''))"
   ]
  },
  {
   "cell_type": "code",
   "execution_count": null,
   "id": "12c7cd5d",
   "metadata": {},
   "outputs": [],
   "source": []
  },
  {
   "cell_type": "code",
   "execution_count": 85,
   "id": "7d3c08d5",
   "metadata": {},
   "outputs": [
    {
     "data": {
      "text/plain": [
       "1       54 - 77 \n",
       "3      86 - 129 \n",
       "5      99 - 144 \n",
       "7     114 - 164 \n",
       "10     60 - 129 \n",
       "16     67 - 120 \n",
       "17     84 - 129 \n",
       "18     91 - 122 \n",
       "21     82 - 117 \n",
       "23    112 - 218 \n",
       "25    105 - 170 \n",
       "26     83 - 121 \n",
       "27     84 - 123 \n",
       "28     97 - 138 \n",
       "29    125 - 195 \n",
       "30    150 - 160 \n",
       "32     96 - 143 \n",
       "34    114 - 172 \n",
       "35     96 - 220 \n",
       "36     85 - 121 \n",
       "37     80 - 112 \n",
       "39    111 - 159 \n",
       "40     92 - 142 \n",
       "44    102 - 154 \n",
       "45    103 - 154 \n",
       "47     79 - 125 \n",
       "48    144 - 176 \n",
       "50     80 - 122 \n",
       "51     76 - 108 \n",
       "52    100 - 120 \n",
       "Name: Salary, dtype: object"
      ]
     },
     "execution_count": 85,
     "metadata": {},
     "output_type": "execute_result"
    }
   ],
   "source": [
    "minus_kd.head(30)"
   ]
  },
  {
   "cell_type": "markdown",
   "id": "7499f9c4",
   "metadata": {},
   "source": [
    "#### Our next step let's make a column for a min for salary in each post if we look at min_hr we can see that they're separated by '-',so we are going to split on the '-' and just take the first thing"
   ]
  },
  {
   "cell_type": "code",
   "execution_count": 86,
   "id": "4ab0ca39",
   "metadata": {},
   "outputs": [
    {
     "name": "stderr",
     "output_type": "stream",
     "text": [
      "C:\\Users\\Mohameed\\Anaconda3\\lib\\site-packages\\ipykernel_launcher.py:1: SettingWithCopyWarning: \n",
      "A value is trying to be set on a copy of a slice from a DataFrame.\n",
      "Try using .loc[row_indexer,col_indexer] = value instead\n",
      "\n",
      "See the caveats in the documentation: https://pandas.pydata.org/pandas-docs/stable/user_guide/indexing.html#returning-a-view-versus-a-copy\n",
      "  \"\"\"Entry point for launching an IPython kernel.\n"
     ]
    },
    {
     "data": {
      "text/html": [
       "<div>\n",
       "<style scoped>\n",
       "    .dataframe tbody tr th:only-of-type {\n",
       "        vertical-align: middle;\n",
       "    }\n",
       "\n",
       "    .dataframe tbody tr th {\n",
       "        vertical-align: top;\n",
       "    }\n",
       "\n",
       "    .dataframe thead th {\n",
       "        text-align: right;\n",
       "    }\n",
       "</style>\n",
       "<table border=\"1\" class=\"dataframe\">\n",
       "  <thead>\n",
       "    <tr style=\"text-align: right;\">\n",
       "      <th></th>\n",
       "      <th>Salary</th>\n",
       "      <th>min_salary</th>\n",
       "    </tr>\n",
       "  </thead>\n",
       "  <tbody>\n",
       "    <tr>\n",
       "      <th>1</th>\n",
       "      <td>$54K - $77K (Glassdoor est.)</td>\n",
       "      <td>54</td>\n",
       "    </tr>\n",
       "    <tr>\n",
       "      <th>3</th>\n",
       "      <td>$86K - $129K (Glassdoor est.)</td>\n",
       "      <td>86</td>\n",
       "    </tr>\n",
       "    <tr>\n",
       "      <th>5</th>\n",
       "      <td>$99K - $144K (Glassdoor est.)</td>\n",
       "      <td>99</td>\n",
       "    </tr>\n",
       "    <tr>\n",
       "      <th>7</th>\n",
       "      <td>$114K - $164K (Glassdoor est.)</td>\n",
       "      <td>114</td>\n",
       "    </tr>\n",
       "    <tr>\n",
       "      <th>10</th>\n",
       "      <td>$60K - $129K (Employer est.)</td>\n",
       "      <td>60</td>\n",
       "    </tr>\n",
       "  </tbody>\n",
       "</table>\n",
       "</div>"
      ],
      "text/plain": [
       "                            Salary min_salary\n",
       "1     $54K - $77K (Glassdoor est.)        54 \n",
       "3    $86K - $129K (Glassdoor est.)        86 \n",
       "5    $99K - $144K (Glassdoor est.)        99 \n",
       "7   $114K - $164K (Glassdoor est.)       114 \n",
       "10    $60K - $129K (Employer est.)        60 "
      ]
     },
     "execution_count": 86,
     "metadata": {},
     "output_type": "execute_result"
    }
   ],
   "source": [
    "data['min_salary']=minus_kd.apply(lambda x:x.split('-')[0])\n",
    "data[['Salary','min_salary']].head()"
   ]
  },
  {
   "cell_type": "markdown",
   "id": "fd2eb031",
   "metadata": {},
   "source": [
    "#### Our next step let's make a column for a max for salary in each post if we look at min_hr we can see that they're separated by '-',so we are going to split on the '-' and just take the first thing"
   ]
  },
  {
   "cell_type": "code",
   "execution_count": 87,
   "id": "6963be2f",
   "metadata": {},
   "outputs": [
    {
     "ename": "IndexError",
     "evalue": "list index out of range",
     "output_type": "error",
     "traceback": [
      "\u001b[1;31m---------------------------------------------------------------------------\u001b[0m",
      "\u001b[1;31mIndexError\u001b[0m                                Traceback (most recent call last)",
      "\u001b[1;32m~\\AppData\\Local\\Temp\\ipykernel_13020\\2912533063.py\u001b[0m in \u001b[0;36m<module>\u001b[1;34m\u001b[0m\n\u001b[1;32m----> 1\u001b[1;33m \u001b[0mdata\u001b[0m\u001b[1;33m[\u001b[0m\u001b[1;34m'max_salary'\u001b[0m\u001b[1;33m]\u001b[0m\u001b[1;33m=\u001b[0m\u001b[0mminus_kd\u001b[0m\u001b[1;33m.\u001b[0m\u001b[0mapply\u001b[0m\u001b[1;33m(\u001b[0m\u001b[1;32mlambda\u001b[0m \u001b[0mx\u001b[0m\u001b[1;33m:\u001b[0m\u001b[0mx\u001b[0m\u001b[1;33m.\u001b[0m\u001b[0msplit\u001b[0m\u001b[1;33m(\u001b[0m\u001b[1;34m'-'\u001b[0m\u001b[1;33m)\u001b[0m\u001b[1;33m[\u001b[0m\u001b[1;36m1\u001b[0m\u001b[1;33m]\u001b[0m\u001b[1;33m)\u001b[0m\u001b[1;33m\u001b[0m\u001b[1;33m\u001b[0m\u001b[0m\n\u001b[0m\u001b[0;32m      2\u001b[0m \u001b[0mdata\u001b[0m\u001b[1;33m[\u001b[0m\u001b[1;33m[\u001b[0m\u001b[1;34m'Salary'\u001b[0m\u001b[1;33m,\u001b[0m\u001b[1;34m'max_salary'\u001b[0m\u001b[1;33m]\u001b[0m\u001b[1;33m]\u001b[0m\u001b[1;33m.\u001b[0m\u001b[0mhead\u001b[0m\u001b[1;33m(\u001b[0m\u001b[1;33m)\u001b[0m\u001b[1;33m\u001b[0m\u001b[1;33m\u001b[0m\u001b[0m\n",
      "\u001b[1;32m~\\Anaconda3\\lib\\site-packages\\pandas\\core\\series.py\u001b[0m in \u001b[0;36mapply\u001b[1;34m(self, func, convert_dtype, args, **kwargs)\u001b[0m\n\u001b[0;32m   4355\u001b[0m         \u001b[0mdtype\u001b[0m\u001b[1;33m:\u001b[0m \u001b[0mfloat64\u001b[0m\u001b[1;33m\u001b[0m\u001b[1;33m\u001b[0m\u001b[0m\n\u001b[0;32m   4356\u001b[0m         \"\"\"\n\u001b[1;32m-> 4357\u001b[1;33m         \u001b[1;32mreturn\u001b[0m \u001b[0mSeriesApply\u001b[0m\u001b[1;33m(\u001b[0m\u001b[0mself\u001b[0m\u001b[1;33m,\u001b[0m \u001b[0mfunc\u001b[0m\u001b[1;33m,\u001b[0m \u001b[0mconvert_dtype\u001b[0m\u001b[1;33m,\u001b[0m \u001b[0margs\u001b[0m\u001b[1;33m,\u001b[0m \u001b[0mkwargs\u001b[0m\u001b[1;33m)\u001b[0m\u001b[1;33m.\u001b[0m\u001b[0mapply\u001b[0m\u001b[1;33m(\u001b[0m\u001b[1;33m)\u001b[0m\u001b[1;33m\u001b[0m\u001b[1;33m\u001b[0m\u001b[0m\n\u001b[0m\u001b[0;32m   4358\u001b[0m \u001b[1;33m\u001b[0m\u001b[0m\n\u001b[0;32m   4359\u001b[0m     def _reduce(\n",
      "\u001b[1;32m~\\Anaconda3\\lib\\site-packages\\pandas\\core\\apply.py\u001b[0m in \u001b[0;36mapply\u001b[1;34m(self)\u001b[0m\n\u001b[0;32m   1041\u001b[0m             \u001b[1;32mreturn\u001b[0m \u001b[0mself\u001b[0m\u001b[1;33m.\u001b[0m\u001b[0mapply_str\u001b[0m\u001b[1;33m(\u001b[0m\u001b[1;33m)\u001b[0m\u001b[1;33m\u001b[0m\u001b[1;33m\u001b[0m\u001b[0m\n\u001b[0;32m   1042\u001b[0m \u001b[1;33m\u001b[0m\u001b[0m\n\u001b[1;32m-> 1043\u001b[1;33m         \u001b[1;32mreturn\u001b[0m \u001b[0mself\u001b[0m\u001b[1;33m.\u001b[0m\u001b[0mapply_standard\u001b[0m\u001b[1;33m(\u001b[0m\u001b[1;33m)\u001b[0m\u001b[1;33m\u001b[0m\u001b[1;33m\u001b[0m\u001b[0m\n\u001b[0m\u001b[0;32m   1044\u001b[0m \u001b[1;33m\u001b[0m\u001b[0m\n\u001b[0;32m   1045\u001b[0m     \u001b[1;32mdef\u001b[0m \u001b[0magg\u001b[0m\u001b[1;33m(\u001b[0m\u001b[0mself\u001b[0m\u001b[1;33m)\u001b[0m\u001b[1;33m:\u001b[0m\u001b[1;33m\u001b[0m\u001b[1;33m\u001b[0m\u001b[0m\n",
      "\u001b[1;32m~\\Anaconda3\\lib\\site-packages\\pandas\\core\\apply.py\u001b[0m in \u001b[0;36mapply_standard\u001b[1;34m(self)\u001b[0m\n\u001b[0;32m   1099\u001b[0m                     \u001b[0mvalues\u001b[0m\u001b[1;33m,\u001b[0m\u001b[1;33m\u001b[0m\u001b[1;33m\u001b[0m\u001b[0m\n\u001b[0;32m   1100\u001b[0m                     \u001b[0mf\u001b[0m\u001b[1;33m,\u001b[0m  \u001b[1;31m# type: ignore[arg-type]\u001b[0m\u001b[1;33m\u001b[0m\u001b[1;33m\u001b[0m\u001b[0m\n\u001b[1;32m-> 1101\u001b[1;33m                     \u001b[0mconvert\u001b[0m\u001b[1;33m=\u001b[0m\u001b[0mself\u001b[0m\u001b[1;33m.\u001b[0m\u001b[0mconvert_dtype\u001b[0m\u001b[1;33m,\u001b[0m\u001b[1;33m\u001b[0m\u001b[1;33m\u001b[0m\u001b[0m\n\u001b[0m\u001b[0;32m   1102\u001b[0m                 )\n\u001b[0;32m   1103\u001b[0m \u001b[1;33m\u001b[0m\u001b[0m\n",
      "\u001b[1;32m~\\Anaconda3\\lib\\site-packages\\pandas\\_libs\\lib.pyx\u001b[0m in \u001b[0;36mpandas._libs.lib.map_infer\u001b[1;34m()\u001b[0m\n",
      "\u001b[1;32m~\\AppData\\Local\\Temp\\ipykernel_13020\\2912533063.py\u001b[0m in \u001b[0;36m<lambda>\u001b[1;34m(x)\u001b[0m\n\u001b[1;32m----> 1\u001b[1;33m \u001b[0mdata\u001b[0m\u001b[1;33m[\u001b[0m\u001b[1;34m'max_salary'\u001b[0m\u001b[1;33m]\u001b[0m\u001b[1;33m=\u001b[0m\u001b[0mminus_kd\u001b[0m\u001b[1;33m.\u001b[0m\u001b[0mapply\u001b[0m\u001b[1;33m(\u001b[0m\u001b[1;32mlambda\u001b[0m \u001b[0mx\u001b[0m\u001b[1;33m:\u001b[0m\u001b[0mx\u001b[0m\u001b[1;33m.\u001b[0m\u001b[0msplit\u001b[0m\u001b[1;33m(\u001b[0m\u001b[1;34m'-'\u001b[0m\u001b[1;33m)\u001b[0m\u001b[1;33m[\u001b[0m\u001b[1;36m1\u001b[0m\u001b[1;33m]\u001b[0m\u001b[1;33m)\u001b[0m\u001b[1;33m\u001b[0m\u001b[1;33m\u001b[0m\u001b[0m\n\u001b[0m\u001b[0;32m      2\u001b[0m \u001b[0mdata\u001b[0m\u001b[1;33m[\u001b[0m\u001b[1;33m[\u001b[0m\u001b[1;34m'Salary'\u001b[0m\u001b[1;33m,\u001b[0m\u001b[1;34m'max_salary'\u001b[0m\u001b[1;33m]\u001b[0m\u001b[1;33m]\u001b[0m\u001b[1;33m.\u001b[0m\u001b[0mhead\u001b[0m\u001b[1;33m(\u001b[0m\u001b[1;33m)\u001b[0m\u001b[1;33m\u001b[0m\u001b[1;33m\u001b[0m\u001b[0m\n",
      "\u001b[1;31mIndexError\u001b[0m: list index out of range"
     ]
    }
   ],
   "source": [
    "data['max_salary']=minus_kd.apply(lambda x:x.split('-')[1])\n",
    "data[['Salary','max_salary']].head()"
   ]
  },
  {
   "cell_type": "markdown",
   "id": "dd6d87f0",
   "metadata": {},
   "source": [
    "#### let's check salary if there is a max is salary by create a function test take a column of salary as a prameter and return True if the salary have max and False otherwise using try and except"
   ]
  },
  {
   "cell_type": "code",
   "execution_count": 88,
   "id": "86587340",
   "metadata": {},
   "outputs": [],
   "source": [
    "def test(val):\n",
    "    try:\n",
    "        val.split('-')[1]\n",
    "    except:\n",
    "        return False\n",
    "    return True"
   ]
  },
  {
   "cell_type": "markdown",
   "id": "01976b5c",
   "metadata": {},
   "source": [
    "#### We apply a function on salary feature ,but we usw tile ~ sympol which return all values dont have max_salary"
   ]
  },
  {
   "cell_type": "code",
   "execution_count": 89,
   "id": "10b69439",
   "metadata": {},
   "outputs": [
    {
     "data": {
      "text/plain": [
       "484              $102K (Employer est.)\n",
       "500     $60.00 Per Hour(Employer est.)\n",
       "538     $70.00 Per Hour(Employer est.)\n",
       "557     $40.00 Per Hour(Employer est.)\n",
       "823     $17.85 Per Hour(Employer est.)\n",
       "                     ...              \n",
       "2124              $32K (Employer est.)\n",
       "2127    $16.00 Per Hour(Employer est.)\n",
       "2147    $45.00 Per Hour(Employer est.)\n",
       "2154              $32K (Employer est.)\n",
       "2157    $16.00 Per Hour(Employer est.)\n",
       "Name: Salary, Length: 92, dtype: object"
      ]
     },
     "execution_count": 89,
     "metadata": {},
     "output_type": "execute_result"
    }
   ],
   "source": [
    "data_without_max=data[~data['Salary'].apply(test)]\n",
    "data_without_max['Salary']"
   ]
  },
  {
   "cell_type": "markdown",
   "id": "ba8af89f",
   "metadata": {},
   "source": [
    "#### as we can see above there are 92 value not have max salary so we drop it from DataFrame"
   ]
  },
  {
   "cell_type": "code",
   "execution_count": 90,
   "id": "37949edf",
   "metadata": {},
   "outputs": [],
   "source": [
    "data=data.drop(data_without_max.index,axis=0)"
   ]
  },
  {
   "cell_type": "code",
   "execution_count": 91,
   "id": "469c084f",
   "metadata": {},
   "outputs": [
    {
     "data": {
      "text/html": [
       "<div>\n",
       "<style scoped>\n",
       "    .dataframe tbody tr th:only-of-type {\n",
       "        vertical-align: middle;\n",
       "    }\n",
       "\n",
       "    .dataframe tbody tr th {\n",
       "        vertical-align: top;\n",
       "    }\n",
       "\n",
       "    .dataframe thead th {\n",
       "        text-align: right;\n",
       "    }\n",
       "</style>\n",
       "<table border=\"1\" class=\"dataframe\">\n",
       "  <thead>\n",
       "    <tr style=\"text-align: right;\">\n",
       "      <th></th>\n",
       "      <th>City</th>\n",
       "      <th>JobId</th>\n",
       "      <th>Source</th>\n",
       "      <th>CollectedDate</th>\n",
       "      <th>JobTitle</th>\n",
       "      <th>CompanyName</th>\n",
       "      <th>RatingNumber</th>\n",
       "      <th>PostedDate</th>\n",
       "      <th>Posted_Date_N</th>\n",
       "      <th>Salary</th>\n",
       "      <th>jobURL</th>\n",
       "      <th>fullJobDescribtion</th>\n",
       "      <th>Size</th>\n",
       "      <th>Type_Of_Ownership</th>\n",
       "      <th>Sector</th>\n",
       "      <th>Founded</th>\n",
       "      <th>Industry</th>\n",
       "      <th>Revenue</th>\n",
       "      <th>hourly</th>\n",
       "      <th>min_salary</th>\n",
       "    </tr>\n",
       "  </thead>\n",
       "  <tbody>\n",
       "  </tbody>\n",
       "</table>\n",
       "</div>"
      ],
      "text/plain": [
       "Empty DataFrame\n",
       "Columns: [City, JobId, Source, CollectedDate, JobTitle, CompanyName, RatingNumber, PostedDate, Posted_Date_N, Salary, jobURL, fullJobDescribtion, Size, Type_Of_Ownership, Sector, Founded, Industry, Revenue, hourly, min_salary]\n",
       "Index: []"
      ]
     },
     "execution_count": 91,
     "metadata": {},
     "output_type": "execute_result"
    }
   ],
   "source": [
    "data[~data['Salary'].apply(test)]\n"
   ]
  },
  {
   "cell_type": "code",
   "execution_count": 92,
   "id": "fe440e80",
   "metadata": {},
   "outputs": [],
   "source": [
    "salary=data['Salary'].apply(lambda x:x.split('(')[0])\n",
    "minus_kd=salary.apply(lambda x:x.replace('$','').replace('K',''))\n",
    "min_hr=minus_kd.apply(lambda x:x.lower().replace('per hour','').replace(' ',''))"
   ]
  },
  {
   "cell_type": "code",
   "execution_count": 93,
   "id": "e31c83c6",
   "metadata": {},
   "outputs": [
    {
     "data": {
      "text/html": [
       "<div>\n",
       "<style scoped>\n",
       "    .dataframe tbody tr th:only-of-type {\n",
       "        vertical-align: middle;\n",
       "    }\n",
       "\n",
       "    .dataframe tbody tr th {\n",
       "        vertical-align: top;\n",
       "    }\n",
       "\n",
       "    .dataframe thead th {\n",
       "        text-align: right;\n",
       "    }\n",
       "</style>\n",
       "<table border=\"1\" class=\"dataframe\">\n",
       "  <thead>\n",
       "    <tr style=\"text-align: right;\">\n",
       "      <th></th>\n",
       "      <th>Salary</th>\n",
       "      <th>max_salary</th>\n",
       "    </tr>\n",
       "  </thead>\n",
       "  <tbody>\n",
       "    <tr>\n",
       "      <th>1</th>\n",
       "      <td>$54K - $77K (Glassdoor est.)</td>\n",
       "      <td>77</td>\n",
       "    </tr>\n",
       "    <tr>\n",
       "      <th>3</th>\n",
       "      <td>$86K - $129K (Glassdoor est.)</td>\n",
       "      <td>129</td>\n",
       "    </tr>\n",
       "    <tr>\n",
       "      <th>5</th>\n",
       "      <td>$99K - $144K (Glassdoor est.)</td>\n",
       "      <td>144</td>\n",
       "    </tr>\n",
       "    <tr>\n",
       "      <th>7</th>\n",
       "      <td>$114K - $164K (Glassdoor est.)</td>\n",
       "      <td>164</td>\n",
       "    </tr>\n",
       "    <tr>\n",
       "      <th>10</th>\n",
       "      <td>$60K - $129K (Employer est.)</td>\n",
       "      <td>129</td>\n",
       "    </tr>\n",
       "  </tbody>\n",
       "</table>\n",
       "</div>"
      ],
      "text/plain": [
       "                            Salary max_salary\n",
       "1     $54K - $77K (Glassdoor est.)         77\n",
       "3    $86K - $129K (Glassdoor est.)        129\n",
       "5    $99K - $144K (Glassdoor est.)        144\n",
       "7   $114K - $164K (Glassdoor est.)        164\n",
       "10    $60K - $129K (Employer est.)        129"
      ]
     },
     "execution_count": 93,
     "metadata": {},
     "output_type": "execute_result"
    }
   ],
   "source": [
    "data['max_salary']=min_hr.apply(lambda x:x.split('-')[1])\n",
    "data[['Salary','max_salary']].head()"
   ]
  },
  {
   "cell_type": "markdown",
   "id": "625b81e0",
   "metadata": {},
   "source": [
    "#### we want to create a new feature called avg_salary based on min_salary and max_salary which calculating the average for salary ,but firstly must check the data type of min salary and max salary is int ?"
   ]
  },
  {
   "cell_type": "code",
   "execution_count": 94,
   "id": "da9b8471",
   "metadata": {},
   "outputs": [
    {
     "name": "stdout",
     "output_type": "stream",
     "text": [
      "the data type of min salary column  : object\n",
      "the data type of max salary column  : object\n"
     ]
    }
   ],
   "source": [
    "print('the data type of min salary column  :', data.min_salary.dtype)\n",
    "print('the data type of max salary column  :', data.max_salary.dtype)"
   ]
  },
  {
   "cell_type": "markdown",
   "id": "971c5d94",
   "metadata": {},
   "source": [
    "#### as we can see above the data type of min salary and max salary columns are Object which there are some values are string so we can drop it So we write a function is_int() with min_salary as an argument and return all the integering"
   ]
  },
  {
   "cell_type": "code",
   "execution_count": 95,
   "id": "dae8c7ac",
   "metadata": {},
   "outputs": [],
   "source": [
    "def is_int(df):\n",
    "    try:\n",
    "        int(df)\n",
    "    except:\n",
    "        return False\n",
    "    return True"
   ]
  },
  {
   "cell_type": "code",
   "execution_count": 96,
   "id": "1150e819",
   "metadata": {},
   "outputs": [
    {
     "data": {
      "text/plain": [
       "73      60.00 \n",
       "173     58.00 \n",
       "208     60.00 \n",
       "235     60.00 \n",
       "420     85.00 \n",
       "         ...  \n",
       "2149    30.00 \n",
       "2155    30.00 \n",
       "2158    17.00 \n",
       "2221    32.00 \n",
       "2228    65.00 \n",
       "Name: min_salary, Length: 131, dtype: object"
      ]
     },
     "execution_count": 96,
     "metadata": {},
     "output_type": "execute_result"
    }
   ],
   "source": [
    "data[~data['min_salary'].apply(is_int)]['min_salary']"
   ]
  },
  {
   "cell_type": "markdown",
   "id": "0f368a72",
   "metadata": {},
   "source": [
    "#### firstly we will convert to float after that convert to int to avoid ValueError: invalid literal for int() with base 10:"
   ]
  },
  {
   "cell_type": "code",
   "execution_count": 97,
   "id": "ade5b956",
   "metadata": {},
   "outputs": [],
   "source": [
    "data['min_salary']= data['min_salary'].astype(float).astype(int)\n",
    "data['max_salary']= data['max_salary'].astype(float).astype(int)"
   ]
  },
  {
   "cell_type": "markdown",
   "id": "e6ead817",
   "metadata": {},
   "source": [
    "#### Check if all values of min_salary and max_salary features are integers ,as we can see below the data type of min_salary is int and the data type of max_salary is int ,So all values of min_salary and max_salary are integers"
   ]
  },
  {
   "cell_type": "code",
   "execution_count": 98,
   "id": "14989b84",
   "metadata": {},
   "outputs": [
    {
     "name": "stdout",
     "output_type": "stream",
     "text": [
      "int32\n",
      "int32\n"
     ]
    }
   ],
   "source": [
    "print(data['min_salary'].dtypes)\n",
    "print(data['max_salary'].dtypes)"
   ]
  },
  {
   "cell_type": "code",
   "execution_count": 99,
   "id": "c5882778",
   "metadata": {},
   "outputs": [
    {
     "data": {
      "text/html": [
       "<div>\n",
       "<style scoped>\n",
       "    .dataframe tbody tr th:only-of-type {\n",
       "        vertical-align: middle;\n",
       "    }\n",
       "\n",
       "    .dataframe tbody tr th {\n",
       "        vertical-align: top;\n",
       "    }\n",
       "\n",
       "    .dataframe thead th {\n",
       "        text-align: right;\n",
       "    }\n",
       "</style>\n",
       "<table border=\"1\" class=\"dataframe\">\n",
       "  <thead>\n",
       "    <tr style=\"text-align: right;\">\n",
       "      <th></th>\n",
       "      <th>City</th>\n",
       "      <th>JobId</th>\n",
       "      <th>Source</th>\n",
       "      <th>CollectedDate</th>\n",
       "      <th>JobTitle</th>\n",
       "      <th>CompanyName</th>\n",
       "      <th>RatingNumber</th>\n",
       "      <th>PostedDate</th>\n",
       "      <th>Posted_Date_N</th>\n",
       "      <th>Salary</th>\n",
       "      <th>...</th>\n",
       "      <th>Size</th>\n",
       "      <th>Type_Of_Ownership</th>\n",
       "      <th>Sector</th>\n",
       "      <th>Founded</th>\n",
       "      <th>Industry</th>\n",
       "      <th>Revenue</th>\n",
       "      <th>hourly</th>\n",
       "      <th>min_salary</th>\n",
       "      <th>max_salary</th>\n",
       "      <th>avg_salary</th>\n",
       "    </tr>\n",
       "  </thead>\n",
       "  <tbody>\n",
       "    <tr>\n",
       "      <th>1</th>\n",
       "      <td>Alpharetta, GA</td>\n",
       "      <td>1008266055464</td>\n",
       "      <td>Glassdoor</td>\n",
       "      <td>2022-11-09</td>\n",
       "      <td>Jr. Data Scientist (Remote)</td>\n",
       "      <td>RELX\\n3.9</td>\n",
       "      <td>3.9</td>\n",
       "      <td>24h</td>\n",
       "      <td>2022-10-16</td>\n",
       "      <td>$54K - $77K (Glassdoor est.)</td>\n",
       "      <td>...</td>\n",
       "      <td>10000+ Employees</td>\n",
       "      <td>Company - Public</td>\n",
       "      <td>Information Technology</td>\n",
       "      <td>1880.0</td>\n",
       "      <td>Information Technology Support Services</td>\n",
       "      <td>$10+ billion (USD)</td>\n",
       "      <td>0</td>\n",
       "      <td>54</td>\n",
       "      <td>77</td>\n",
       "      <td>65.5</td>\n",
       "    </tr>\n",
       "    <tr>\n",
       "      <th>3</th>\n",
       "      <td>Moline, IL</td>\n",
       "      <td>1008266830132</td>\n",
       "      <td>Glassdoor</td>\n",
       "      <td>2022-11-09</td>\n",
       "      <td>Data Scientist - REMOTE</td>\n",
       "      <td>John Deere\\n4.1</td>\n",
       "      <td>4.1</td>\n",
       "      <td>24h</td>\n",
       "      <td>2022-10-16</td>\n",
       "      <td>$86K - $129K (Glassdoor est.)</td>\n",
       "      <td>...</td>\n",
       "      <td>10000+ Employees</td>\n",
       "      <td>Company - Public</td>\n",
       "      <td>Manufacturing</td>\n",
       "      <td>1837.0</td>\n",
       "      <td>Machinery Manufacturing</td>\n",
       "      <td>$10+ billion (USD)</td>\n",
       "      <td>0</td>\n",
       "      <td>86</td>\n",
       "      <td>129</td>\n",
       "      <td>107.5</td>\n",
       "    </tr>\n",
       "    <tr>\n",
       "      <th>5</th>\n",
       "      <td>Mountain View, CA</td>\n",
       "      <td>1008124177255</td>\n",
       "      <td>Glassdoor</td>\n",
       "      <td>2022-11-09</td>\n",
       "      <td>Associate Data Scientist, 2023 Graduate</td>\n",
       "      <td>Atlassian\\n4.7</td>\n",
       "      <td>4.7</td>\n",
       "      <td>30d+</td>\n",
       "      <td>2022-10-10</td>\n",
       "      <td>$99K - $144K (Glassdoor est.)</td>\n",
       "      <td>...</td>\n",
       "      <td>5001 to 10000 Employees</td>\n",
       "      <td>Company - Public</td>\n",
       "      <td>Information Technology</td>\n",
       "      <td>2002.0</td>\n",
       "      <td>Software Development</td>\n",
       "      <td>Unknown / Non-Applicable</td>\n",
       "      <td>0</td>\n",
       "      <td>99</td>\n",
       "      <td>144</td>\n",
       "      <td>121.5</td>\n",
       "    </tr>\n",
       "    <tr>\n",
       "      <th>7</th>\n",
       "      <td>Redmond, WA</td>\n",
       "      <td>1008266687928</td>\n",
       "      <td>Glassdoor</td>\n",
       "      <td>2022-11-09</td>\n",
       "      <td>Data Scientist</td>\n",
       "      <td>Microsoft\\n4.4</td>\n",
       "      <td>4.4</td>\n",
       "      <td>24h</td>\n",
       "      <td>2022-10-16</td>\n",
       "      <td>$114K - $164K (Glassdoor est.)</td>\n",
       "      <td>...</td>\n",
       "      <td>10000+ Employees</td>\n",
       "      <td>Company - Public</td>\n",
       "      <td>Information Technology</td>\n",
       "      <td>1975.0</td>\n",
       "      <td>Computer Hardware Development</td>\n",
       "      <td>$10+ billion (USD)</td>\n",
       "      <td>0</td>\n",
       "      <td>114</td>\n",
       "      <td>164</td>\n",
       "      <td>139.0</td>\n",
       "    </tr>\n",
       "    <tr>\n",
       "      <th>10</th>\n",
       "      <td>Illinois</td>\n",
       "      <td>1008266764955</td>\n",
       "      <td>Glassdoor</td>\n",
       "      <td>2022-11-09</td>\n",
       "      <td>Data Scientist</td>\n",
       "      <td>CVS Health\\n3.1</td>\n",
       "      <td>3.1</td>\n",
       "      <td>24h</td>\n",
       "      <td>2022-10-16</td>\n",
       "      <td>$60K - $129K (Employer est.)</td>\n",
       "      <td>...</td>\n",
       "      <td>10000+ Employees</td>\n",
       "      <td>Company - Public</td>\n",
       "      <td>Healthcare</td>\n",
       "      <td>1963.0</td>\n",
       "      <td>Health Care Services &amp; Hospitals</td>\n",
       "      <td>$10+ billion (USD)</td>\n",
       "      <td>0</td>\n",
       "      <td>60</td>\n",
       "      <td>129</td>\n",
       "      <td>94.5</td>\n",
       "    </tr>\n",
       "  </tbody>\n",
       "</table>\n",
       "<p>5 rows × 22 columns</p>\n",
       "</div>"
      ],
      "text/plain": [
       "                 City          JobId     Source CollectedDate  \\\n",
       "1      Alpharetta, GA  1008266055464  Glassdoor    2022-11-09   \n",
       "3          Moline, IL  1008266830132  Glassdoor    2022-11-09   \n",
       "5   Mountain View, CA  1008124177255  Glassdoor    2022-11-09   \n",
       "7         Redmond, WA  1008266687928  Glassdoor    2022-11-09   \n",
       "10           Illinois  1008266764955  Glassdoor    2022-11-09   \n",
       "\n",
       "                                   JobTitle      CompanyName  RatingNumber  \\\n",
       "1               Jr. Data Scientist (Remote)        RELX\\n3.9           3.9   \n",
       "3                   Data Scientist - REMOTE  John Deere\\n4.1           4.1   \n",
       "5   Associate Data Scientist, 2023 Graduate   Atlassian\\n4.7           4.7   \n",
       "7                            Data Scientist   Microsoft\\n4.4           4.4   \n",
       "10                           Data Scientist  CVS Health\\n3.1           3.1   \n",
       "\n",
       "   PostedDate Posted_Date_N                          Salary  ...  \\\n",
       "1         24h    2022-10-16    $54K - $77K (Glassdoor est.)  ...   \n",
       "3         24h    2022-10-16   $86K - $129K (Glassdoor est.)  ...   \n",
       "5        30d+    2022-10-10   $99K - $144K (Glassdoor est.)  ...   \n",
       "7         24h    2022-10-16  $114K - $164K (Glassdoor est.)  ...   \n",
       "10        24h    2022-10-16    $60K - $129K (Employer est.)  ...   \n",
       "\n",
       "                       Size Type_Of_Ownership                  Sector Founded  \\\n",
       "1          10000+ Employees  Company - Public  Information Technology  1880.0   \n",
       "3          10000+ Employees  Company - Public           Manufacturing  1837.0   \n",
       "5   5001 to 10000 Employees  Company - Public  Information Technology  2002.0   \n",
       "7          10000+ Employees  Company - Public  Information Technology  1975.0   \n",
       "10         10000+ Employees  Company - Public              Healthcare  1963.0   \n",
       "\n",
       "                                   Industry                   Revenue hourly  \\\n",
       "1   Information Technology Support Services        $10+ billion (USD)      0   \n",
       "3                   Machinery Manufacturing        $10+ billion (USD)      0   \n",
       "5                      Software Development  Unknown / Non-Applicable      0   \n",
       "7             Computer Hardware Development        $10+ billion (USD)      0   \n",
       "10         Health Care Services & Hospitals        $10+ billion (USD)      0   \n",
       "\n",
       "   min_salary  max_salary  avg_salary  \n",
       "1          54          77        65.5  \n",
       "3          86         129       107.5  \n",
       "5          99         144       121.5  \n",
       "7         114         164       139.0  \n",
       "10         60         129        94.5  \n",
       "\n",
       "[5 rows x 22 columns]"
      ]
     },
     "execution_count": 99,
     "metadata": {},
     "output_type": "execute_result"
    }
   ],
   "source": [
    "data['min_salary']=data['min_salary'].astype(int)\n",
    "data['max_salary']=data['max_salary'].astype(int)\n",
    "data['avg_salary']=(data['max_salary']+data['min_salary'])/2\n",
    "data.head()"
   ]
  },
  {
   "cell_type": "markdown",
   "id": "0ee1a6b2",
   "metadata": {},
   "source": [
    "#### Now we can drop min_salary,max_salary in favor of avg_salary"
   ]
  },
  {
   "cell_type": "code",
   "execution_count": 100,
   "id": "36709e3a",
   "metadata": {},
   "outputs": [],
   "source": [
    "data=data.drop(['min_salary','max_salary'],axis=1)"
   ]
  },
  {
   "cell_type": "markdown",
   "id": "d9515935",
   "metadata": {},
   "source": [
    "#### Now we want to dispaly CompanyName"
   ]
  },
  {
   "cell_type": "code",
   "execution_count": 101,
   "id": "016e4cda",
   "metadata": {},
   "outputs": [
    {
     "data": {
      "text/plain": [
       "1           RELX\\n3.9\n",
       "3     John Deere\\n4.1\n",
       "5      Atlassian\\n4.7\n",
       "7      Microsoft\\n4.4\n",
       "10    CVS Health\\n3.1\n",
       "Name: CompanyName, dtype: object"
      ]
     },
     "execution_count": 101,
     "metadata": {},
     "output_type": "execute_result"
    }
   ],
   "source": [
    "data['CompanyName'].head()"
   ]
  },
  {
   "cell_type": "markdown",
   "id": "ea998c4b",
   "metadata": {},
   "source": [
    "#### Now we want to create a new feature company_text based on company Name which contain a name of company text only without numbers"
   ]
  },
  {
   "cell_type": "code",
   "execution_count": 102,
   "id": "02ef4c67",
   "metadata": {},
   "outputs": [],
   "source": [
    "data['company_text']=data['CompanyName'].apply(lambda x:x[:-3])"
   ]
  },
  {
   "cell_type": "code",
   "execution_count": 103,
   "id": "71152703",
   "metadata": {},
   "outputs": [
    {
     "data": {
      "text/plain": [
       "1           RELX\\n\n",
       "3     John Deere\\n\n",
       "5      Atlassian\\n\n",
       "7      Microsoft\\n\n",
       "10    CVS Health\\n\n",
       "Name: company_text, dtype: object"
      ]
     },
     "execution_count": 103,
     "metadata": {},
     "output_type": "execute_result"
    }
   ],
   "source": [
    "data['company_text'].head()"
   ]
  },
  {
   "cell_type": "markdown",
   "id": "64139dd6",
   "metadata": {},
   "source": [
    "#### as we can see above there is a \\n at the end of the company text ,so we must to replace it with a space"
   ]
  },
  {
   "cell_type": "code",
   "execution_count": 104,
   "id": "d147e9cd",
   "metadata": {},
   "outputs": [
    {
     "data": {
      "text/plain": [
       "1           RELX \n",
       "3     John Deere \n",
       "5      Atlassian \n",
       "7      Microsoft \n",
       "10    CVS Health \n",
       "Name: company_text, dtype: object"
      ]
     },
     "execution_count": 104,
     "metadata": {},
     "output_type": "execute_result"
    }
   ],
   "source": [
    "for col in data[['company_text','fullJobDescribtion']].columns:\n",
    "    data[col] = data[col].apply(lambda x:x.replace('\\n',' '))\n",
    "data['company_text'].head()"
   ]
  },
  {
   "cell_type": "markdown",
   "id": "671bc8b0",
   "metadata": {},
   "source": [
    "#### What is the state of job ?\n",
    "We have the location in the following format 'Houston, TX' we will just take location and we are going do a split and take the second part"
   ]
  },
  {
   "cell_type": "code",
   "execution_count": 105,
   "id": "b794a9ea",
   "metadata": {},
   "outputs": [],
   "source": [
    "def find_state(val):\n",
    "    try:\n",
    "        return val.split(',')[1]\n",
    "    except:\n",
    "        return val"
   ]
  },
  {
   "cell_type": "code",
   "execution_count": 106,
   "id": "0057ac94",
   "metadata": {},
   "outputs": [
    {
     "data": {
      "text/html": [
       "<div>\n",
       "<style scoped>\n",
       "    .dataframe tbody tr th:only-of-type {\n",
       "        vertical-align: middle;\n",
       "    }\n",
       "\n",
       "    .dataframe tbody tr th {\n",
       "        vertical-align: top;\n",
       "    }\n",
       "\n",
       "    .dataframe thead th {\n",
       "        text-align: right;\n",
       "    }\n",
       "</style>\n",
       "<table border=\"1\" class=\"dataframe\">\n",
       "  <thead>\n",
       "    <tr style=\"text-align: right;\">\n",
       "      <th></th>\n",
       "      <th>City</th>\n",
       "      <th>job_state</th>\n",
       "    </tr>\n",
       "  </thead>\n",
       "  <tbody>\n",
       "    <tr>\n",
       "      <th>1</th>\n",
       "      <td>Alpharetta, GA</td>\n",
       "      <td>GA</td>\n",
       "    </tr>\n",
       "    <tr>\n",
       "      <th>3</th>\n",
       "      <td>Moline, IL</td>\n",
       "      <td>IL</td>\n",
       "    </tr>\n",
       "    <tr>\n",
       "      <th>5</th>\n",
       "      <td>Mountain View, CA</td>\n",
       "      <td>CA</td>\n",
       "    </tr>\n",
       "    <tr>\n",
       "      <th>7</th>\n",
       "      <td>Redmond, WA</td>\n",
       "      <td>WA</td>\n",
       "    </tr>\n",
       "    <tr>\n",
       "      <th>10</th>\n",
       "      <td>Illinois</td>\n",
       "      <td>Illinois</td>\n",
       "    </tr>\n",
       "  </tbody>\n",
       "</table>\n",
       "</div>"
      ],
      "text/plain": [
       "                 City job_state\n",
       "1      Alpharetta, GA        GA\n",
       "3          Moline, IL        IL\n",
       "5   Mountain View, CA        CA\n",
       "7         Redmond, WA        WA\n",
       "10           Illinois  Illinois"
      ]
     },
     "execution_count": 106,
     "metadata": {},
     "output_type": "execute_result"
    }
   ],
   "source": [
    "data['job_state'] = data['City'].apply(find_state)\n",
    "data[['City','job_state']].head()\n"
   ]
  },
  {
   "cell_type": "markdown",
   "id": "4ac1e7e7",
   "metadata": {},
   "source": [
    "#### What is the city of a job ?\n",
    "We have the location in the follwing format 'Redmond, WA' we will just take the location and we're gonna do a split and take the first part "
   ]
  },
  {
   "cell_type": "code",
   "execution_count": 107,
   "id": "7e6f253f",
   "metadata": {},
   "outputs": [],
   "source": [
    "data['job_city'] = data['City'].apply(lambda x: x.split(',')[0])"
   ]
  },
  {
   "cell_type": "markdown",
   "id": "08e3f786",
   "metadata": {},
   "source": [
    "#### let's check the columns of job_city "
   ]
  },
  {
   "cell_type": "code",
   "execution_count": 108,
   "id": "e8283b20",
   "metadata": {},
   "outputs": [
    {
     "data": {
      "text/html": [
       "<div>\n",
       "<style scoped>\n",
       "    .dataframe tbody tr th:only-of-type {\n",
       "        vertical-align: middle;\n",
       "    }\n",
       "\n",
       "    .dataframe tbody tr th {\n",
       "        vertical-align: top;\n",
       "    }\n",
       "\n",
       "    .dataframe thead th {\n",
       "        text-align: right;\n",
       "    }\n",
       "</style>\n",
       "<table border=\"1\" class=\"dataframe\">\n",
       "  <thead>\n",
       "    <tr style=\"text-align: right;\">\n",
       "      <th></th>\n",
       "      <th>City</th>\n",
       "      <th>job_city</th>\n",
       "    </tr>\n",
       "  </thead>\n",
       "  <tbody>\n",
       "    <tr>\n",
       "      <th>1</th>\n",
       "      <td>Alpharetta, GA</td>\n",
       "      <td>Alpharetta</td>\n",
       "    </tr>\n",
       "    <tr>\n",
       "      <th>3</th>\n",
       "      <td>Moline, IL</td>\n",
       "      <td>Moline</td>\n",
       "    </tr>\n",
       "    <tr>\n",
       "      <th>5</th>\n",
       "      <td>Mountain View, CA</td>\n",
       "      <td>Mountain View</td>\n",
       "    </tr>\n",
       "    <tr>\n",
       "      <th>7</th>\n",
       "      <td>Redmond, WA</td>\n",
       "      <td>Redmond</td>\n",
       "    </tr>\n",
       "    <tr>\n",
       "      <th>10</th>\n",
       "      <td>Illinois</td>\n",
       "      <td>Illinois</td>\n",
       "    </tr>\n",
       "  </tbody>\n",
       "</table>\n",
       "</div>"
      ],
      "text/plain": [
       "                 City       job_city\n",
       "1      Alpharetta, GA     Alpharetta\n",
       "3          Moline, IL         Moline\n",
       "5   Mountain View, CA  Mountain View\n",
       "7         Redmond, WA        Redmond\n",
       "10           Illinois       Illinois"
      ]
     },
     "execution_count": 108,
     "metadata": {},
     "output_type": "execute_result"
    }
   ],
   "source": [
    "data[['City','job_city']].head()"
   ]
  },
  {
   "cell_type": "markdown",
   "id": "436a6b65",
   "metadata": {},
   "source": [
    "#### Now we can drop Location in favor of job_state,job_city"
   ]
  },
  {
   "cell_type": "code",
   "execution_count": 109,
   "id": "d39d1e24",
   "metadata": {},
   "outputs": [],
   "source": [
    "data=data.drop('City',axis=1)"
   ]
  },
  {
   "cell_type": "code",
   "execution_count": 110,
   "id": "eaa01aca",
   "metadata": {},
   "outputs": [
    {
     "data": {
      "text/plain": [
       " CA               188\n",
       "Remote            167\n",
       " NY                73\n",
       " IL                50\n",
       " GA                40\n",
       " TX                40\n",
       " MA                31\n",
       " WA                30\n",
       " MD                24\n",
       " VA                20\n",
       " NJ                20\n",
       " CT                19\n",
       " NC                19\n",
       " MO                15\n",
       " PA                12\n",
       " AL                12\n",
       " TN                11\n",
       " OR                10\n",
       "North Carolina      9\n",
       "Virginia            9\n",
       " FL                 8\n",
       " DE                 7\n",
       "Illinois            7\n",
       " DC                 5\n",
       " MI                 5\n",
       " IA                 4\n",
       " OH                 4\n",
       " UT                 4\n",
       " MS                 3\n",
       " CO                 3\n",
       " NV                 3\n",
       " AR                 3\n",
       " AZ                 2\n",
       " NM                 2\n",
       "Manhattan           2\n",
       " SC                 1\n",
       " ME                 1\n",
       "Name: job_state, dtype: int64"
      ]
     },
     "execution_count": 110,
     "metadata": {},
     "output_type": "execute_result"
    }
   ],
   "source": [
    "data['job_state'].value_counts()"
   ]
  },
  {
   "cell_type": "code",
   "execution_count": 111,
   "id": "51ecda5c",
   "metadata": {},
   "outputs": [
    {
     "data": {
      "text/plain": [
       "Index(['JobId', 'Source', 'CollectedDate', 'JobTitle', 'CompanyName',\n",
       "       'RatingNumber', 'PostedDate', 'Posted_Date_N', 'Salary', 'jobURL',\n",
       "       'fullJobDescribtion', 'Size', 'Type_Of_Ownership', 'Sector', 'Founded',\n",
       "       'Industry', 'Revenue', 'hourly', 'avg_salary', 'company_text',\n",
       "       'job_state', 'job_city'],\n",
       "      dtype='object')"
      ]
     },
     "execution_count": 111,
     "metadata": {},
     "output_type": "execute_result"
    }
   ],
   "source": [
    "data.columns"
   ]
  },
  {
   "cell_type": "markdown",
   "id": "15ed3752",
   "metadata": {},
   "source": [
    "#### We want to create a new feature called 'age_company' it contains the age of company "
   ]
  },
  {
   "cell_type": "code",
   "execution_count": 112,
   "id": "a3ab8f7d",
   "metadata": {},
   "outputs": [
    {
     "data": {
      "text/plain": [
       "1     142\n",
       "3     185\n",
       "5      20\n",
       "7      47\n",
       "10     59\n",
       "Name: age_company, dtype: int32"
      ]
     },
     "execution_count": 112,
     "metadata": {},
     "output_type": "execute_result"
    }
   ],
   "source": [
    "data['age_company'] = 2022-data['Founded'].astype('int')\n",
    "data['age_company'].head()"
   ]
  },
  {
   "cell_type": "markdown",
   "id": "73009fc8",
   "metadata": {},
   "source": [
    "#### We will use NLTK library to import stopwords and dispaly them"
   ]
  },
  {
   "cell_type": "code",
   "execution_count": 113,
   "id": "fd8c214f",
   "metadata": {},
   "outputs": [
    {
     "name": "stderr",
     "output_type": "stream",
     "text": [
      "[nltk_data] Downloading package stopwords to\n",
      "[nltk_data]     C:\\Users\\Mohameed\\AppData\\Roaming\\nltk_data...\n",
      "[nltk_data]   Package stopwords is already up-to-date!\n",
      "[nltk_data] Downloading package punkt to\n",
      "[nltk_data]     C:\\Users\\Mohameed\\AppData\\Roaming\\nltk_data...\n",
      "[nltk_data]   Package punkt is already up-to-date!\n"
     ]
    }
   ],
   "source": [
    "nltk.download('stopwords')\n",
    "nltk.download('punkt')\n",
    "stop_words=stopwords.words(\"english\")"
   ]
  },
  {
   "cell_type": "markdown",
   "id": "d5ef7180",
   "metadata": {},
   "source": [
    "#### let's disply the length first of job description in our data "
   ]
  },
  {
   "cell_type": "code",
   "execution_count": 114,
   "id": "c83e788a",
   "metadata": {},
   "outputs": [
    {
     "data": {
      "text/plain": [
       "3590"
      ]
     },
     "execution_count": 114,
     "metadata": {},
     "output_type": "execute_result"
    }
   ],
   "source": [
    "len(data['fullJobDescribtion'][1])"
   ]
  },
  {
   "cell_type": "markdown",
   "id": "b0a5841f",
   "metadata": {},
   "source": [
    "#### as we can see above there is dations@relx.com and 1.855.833.5120 this it's not useful in analysis  ,We want to create a function preprocessing with a text as a parameter using Regular Expression to remove charecters, decimal numbers ,which I keep alphanumeric characters and replace all other charecters with blank, as well as duplicated words and stop words these are a series of words that no add information to our mode"
   ]
  },
  {
   "cell_type": "code",
   "execution_count": 115,
   "id": "0254b200",
   "metadata": {},
   "outputs": [],
   "source": [
    "def preprocessing1(text):\n",
    "    text=re.sub(r\"[^a-zA-Z\\s+]\",' ',text.lower())\n",
    "    tokens=[]\n",
    "    duplicated_word=[]\n",
    "    for token in nltk.wordpunct_tokenize(text):\n",
    "        if (token in stop_words) or (token in duplicated_word) : \n",
    "            continue\n",
    "        tokens.append(token)\n",
    "        duplicated_word.append(token)\n",
    "    return \" \".join(tokens)"
   ]
  },
  {
   "cell_type": "markdown",
   "id": "53069abb",
   "metadata": {},
   "source": [
    "#### We apply preprocessing function on Job Title ,Job Description , Industry , Sector and Type of ownership"
   ]
  },
  {
   "cell_type": "code",
   "execution_count": 116,
   "id": "5270d7c1",
   "metadata": {},
   "outputs": [],
   "source": [
    "data_sub=data[['fullJobDescribtion','Industry','Sector','Type_Of_Ownership']]\n",
    "for col in data_sub.columns:\n",
    "    data[col] =data[col].apply(lambda x:preprocessing1(x))"
   ]
  },
  {
   "cell_type": "markdown",
   "id": "b152e274",
   "metadata": {},
   "source": [
    "#### We noticed the length of the first job description is after apply the function of preprocessing1 is 2256 this is pretty  "
   ]
  },
  {
   "cell_type": "code",
   "execution_count": 117,
   "id": "671de248",
   "metadata": {},
   "outputs": [
    {
     "data": {
      "text/plain": [
       "2256"
      ]
     },
     "execution_count": 117,
     "metadata": {},
     "output_type": "execute_result"
    }
   ],
   "source": [
    "len(data['fullJobDescribtion'][1])"
   ]
  },
  {
   "cell_type": "code",
   "execution_count": 118,
   "id": "d8b4ad17",
   "metadata": {},
   "outputs": [],
   "source": [
    "def simplifier(title):\n",
    "    if 'data scientist' in title.lower() or 'data science' in title.lower() or 'datascience' in title.lower() :\n",
    "        return 'data scientist'\n",
    "    elif 'machine learning engineer' in title.lower() or 'machinelearning' in title.lower()  or 'machine learning' in title.lower() or 'ml' in title.lower():\n",
    "        return 'mle'\n",
    "    elif 'data engineer' in title.lower():\n",
    "        return 'data engineer'\n",
    "    elif 'data analyst' in title.lower():\n",
    "        return 'data analyst'\n",
    "    elif 'data entry' in title.lower():\n",
    "        return 'data entry'\n",
    "    elif 'maneger' in title.lower():\n",
    "        return 'maneger'\n",
    "    elif 'director' in title.lower():\n",
    "        return 'director'\n",
    "    elif 'Data Analytics' in title:\n",
    "        return 'data analytics'\n",
    "    elif 'business analyst' in title.lower():\n",
    "        return 'business analysts'\n",
    "    else:\n",
    "        return 'other jobs related to data science'\n"
   ]
  },
  {
   "cell_type": "code",
   "execution_count": 119,
   "id": "c5db7bae",
   "metadata": {},
   "outputs": [],
   "source": [
    "def seniority(title):\n",
    "    if 'senior' in title.lower() or 'sr' in title.lower() or 'sr.' in title.lower() or 'sr. ' in title.lower() or 'lead' in title.lower() or 'principal' in title.lower():\n",
    "        return 'senior'\n",
    "    elif 'entry level' in title.lower():\n",
    "        return 'entry level'\n",
    "    elif 'jenior' in title.lower() or 'junior' in title.lower() or 'jr' in title.lower() or 'jr.' in title.lower() or 'jr. ' in title.lower():\n",
    "        return 'jenior'\n",
    "    elif 'mid level' in title.lower() or 'med level' in title.lower():\n",
    "        return 'mid level'\n",
    "    return 'na'"
   ]
  },
  {
   "cell_type": "markdown",
   "id": "32bd6d4d",
   "metadata": {},
   "source": [
    "#### Process data pased on above defined functions"
   ]
  },
  {
   "cell_type": "code",
   "execution_count": 120,
   "id": "765be64b",
   "metadata": {},
   "outputs": [],
   "source": [
    "data['job_simp']=data['JobTitle'].apply(simplifier)\n",
    "data['seniority']=data['JobTitle'].apply(seniority)"
   ]
  },
  {
   "cell_type": "code",
   "execution_count": 121,
   "id": "3eb47331",
   "metadata": {},
   "outputs": [
    {
     "data": {
      "text/plain": [
       "data scientist                        310\n",
       "data analyst                          164\n",
       "data engineer                         129\n",
       "data entry                            127\n",
       "other jobs related to data science    117\n",
       "data analytics                          7\n",
       "business analysts                       4\n",
       "mle                                     3\n",
       "director                                2\n",
       "Name: job_simp, dtype: int64"
      ]
     },
     "execution_count": 121,
     "metadata": {},
     "output_type": "execute_result"
    }
   ],
   "source": [
    "data['job_simp'].value_counts()"
   ]
  },
  {
   "cell_type": "markdown",
   "id": "c95450c9",
   "metadata": {},
   "source": [
    "#### How many are job senior ,jenior and entry level in positions ?\n",
    "as we can see below , we have 25 as a senior , 49 as a jenior ,12 as an entry level and we have a lot of like not specified ."
   ]
  },
  {
   "cell_type": "code",
   "execution_count": 122,
   "id": "a9fcae0c",
   "metadata": {},
   "outputs": [
    {
     "data": {
      "text/plain": [
       "na             777\n",
       "jenior          49\n",
       "senior          25\n",
       "entry level     12\n",
       "Name: seniority, dtype: int64"
      ]
     },
     "execution_count": 122,
     "metadata": {},
     "output_type": "execute_result"
    }
   ],
   "source": [
    "data['seniority'].value_counts()"
   ]
  },
  {
   "cell_type": "markdown",
   "id": "106f8b9b",
   "metadata": {},
   "source": [
    "#### we want to find a length job description for companies to know later in the Explority Data Analysis the companies that there is a positive correlation or not with salary  "
   ]
  },
  {
   "cell_type": "code",
   "execution_count": 123,
   "id": "8546ba36",
   "metadata": {},
   "outputs": [],
   "source": [
    "data['desc_len'] = data['fullJobDescribtion'].apply(lambda x:len(x))"
   ]
  },
  {
   "cell_type": "markdown",
   "id": "460ced46",
   "metadata": {},
   "source": [
    "#### We want to create a new feature Machine Learning based on fullJobDescribtion to get total of job description which contain a Machine Learning"
   ]
  },
  {
   "cell_type": "code",
   "execution_count": 124,
   "id": "4a7fc973",
   "metadata": {},
   "outputs": [],
   "source": [
    "data['Machine_Learning'] = data['fullJobDescribtion'].apply(lambda x:1 if ('machine learning' in x.lower() or 'machinelearning' in x.lower()or 'ml' in x.lower()) else 0)"
   ]
  },
  {
   "cell_type": "code",
   "execution_count": 125,
   "id": "9cd61c0d",
   "metadata": {},
   "outputs": [
    {
     "data": {
      "text/plain": [
       "0    521\n",
       "1    342\n",
       "Name: Machine_Learning, dtype: int64"
      ]
     },
     "execution_count": 125,
     "metadata": {},
     "output_type": "execute_result"
    }
   ],
   "source": [
    "data['Machine_Learning'].value_counts()"
   ]
  },
  {
   "cell_type": "markdown",
   "id": "30808564",
   "metadata": {},
   "source": [
    "#### We want to create a new feature Python based on Job Description to get total of job description which contain a Python"
   ]
  },
  {
   "cell_type": "code",
   "execution_count": 126,
   "id": "d2d3a94f",
   "metadata": {},
   "outputs": [],
   "source": [
    "data['Python']=data['fullJobDescribtion'].apply(lambda x:1 if ('python' in x.lower() or 'py' in x.lower()) else 0 )"
   ]
  },
  {
   "cell_type": "markdown",
   "id": "1c79ad51",
   "metadata": {},
   "source": [
    "#### We want to create a new feature Spark based on Job Description to get total of job description which contain a Spark"
   ]
  },
  {
   "cell_type": "code",
   "execution_count": 127,
   "id": "41729ef6",
   "metadata": {},
   "outputs": [],
   "source": [
    "data['Spark']=data['fullJobDescribtion'].apply(lambda x:1 if 'spark' in x.lower() else 0)"
   ]
  },
  {
   "cell_type": "markdown",
   "id": "d7ad4bb8",
   "metadata": {},
   "source": [
    "#### We want to create a new feature Hadoop based on Job Description to get total of job description which contain a Hadoop "
   ]
  },
  {
   "cell_type": "code",
   "execution_count": 128,
   "id": "3849a52d",
   "metadata": {},
   "outputs": [],
   "source": [
    "data['Hadoop']=data['fullJobDescribtion'].apply(lambda x:1 if 'hadoop' in x.lower() else 0)"
   ]
  },
  {
   "cell_type": "markdown",
   "id": "60686991",
   "metadata": {},
   "source": [
    "#### We want to create a new feature Platform based on Job Description to get total of job description which contain a Plaform"
   ]
  },
  {
   "cell_type": "code",
   "execution_count": 129,
   "id": "ae46b9f8",
   "metadata": {},
   "outputs": [],
   "source": [
    "data['Plarform'] =data['fullJobDescribtion'].apply(lambda x:1 if 'platform' in x.lower() else 0)"
   ]
  },
  {
   "cell_type": "markdown",
   "id": "ac939309",
   "metadata": {},
   "source": [
    "#### We want to create a new feature ETL based on Job Description to get total of job description which contain an ETL"
   ]
  },
  {
   "cell_type": "code",
   "execution_count": 130,
   "id": "6f64c96f",
   "metadata": {},
   "outputs": [],
   "source": [
    "data['ETL']=data['fullJobDescribtion'].apply(lambda x:1 if 'etl' in x.lower() else 0)"
   ]
  },
  {
   "cell_type": "markdown",
   "id": "abf113b4",
   "metadata": {},
   "source": [
    "#### We want to create a new feature Sql based on Job Description to get total of job description which contain an Sql"
   ]
  },
  {
   "cell_type": "code",
   "execution_count": 131,
   "id": "37f0f870",
   "metadata": {},
   "outputs": [],
   "source": [
    "data['Sql']=data['fullJobDescribtion'].apply(lambda x:1 if 'sql' in x.lower() else 0)"
   ]
  },
  {
   "cell_type": "markdown",
   "id": "1511c674",
   "metadata": {},
   "source": [
    "#### We want to create a new feature Secruity based on Job Description to get total of job description which contain a Security"
   ]
  },
  {
   "cell_type": "code",
   "execution_count": 132,
   "id": "a3314d8f",
   "metadata": {},
   "outputs": [],
   "source": [
    "data['Security']=data['fullJobDescribtion'].apply(lambda x:1 if 'security' in x.lower() else 0)"
   ]
  },
  {
   "cell_type": "markdown",
   "id": "e043c814",
   "metadata": {},
   "source": [
    "#### We want to create a new feature PHD based on Job Description to get total of job description which contain a PHD"
   ]
  },
  {
   "cell_type": "code",
   "execution_count": 133,
   "id": "21dfbeab",
   "metadata": {},
   "outputs": [],
   "source": [
    "data['PHD']=data['fullJobDescribtion'].apply(lambda x:1 if 'phd' in x.lower() else 0)"
   ]
  },
  {
   "cell_type": "markdown",
   "id": "295959de",
   "metadata": {},
   "source": [
    "#### We want to create a new feature Excel based on Job Description to get total of job description which contain an Excel"
   ]
  },
  {
   "cell_type": "code",
   "execution_count": 134,
   "id": "4682503a",
   "metadata": {},
   "outputs": [],
   "source": [
    "data['Excel']=data['fullJobDescribtion'].apply(lambda x:1 if 'excel' in x.lower() else 0)"
   ]
  },
  {
   "cell_type": "markdown",
   "id": "9d7ef150",
   "metadata": {},
   "source": [
    "#### We want to create a new feature Aws based on Job Description to get total of job description which contain an Aws"
   ]
  },
  {
   "cell_type": "code",
   "execution_count": 135,
   "id": "87763ef1",
   "metadata": {},
   "outputs": [],
   "source": [
    "data['Aws']=data['fullJobDescribtion'].apply(lambda x:1 if 'aws' in x.lower() else 0)"
   ]
  },
  {
   "cell_type": "markdown",
   "id": "d8014d1f",
   "metadata": {},
   "source": [
    "#### We want to create a new feature PyTorch based on Job Description to get total of job description which contain a PyTorch"
   ]
  },
  {
   "cell_type": "code",
   "execution_count": 136,
   "id": "3c096af9",
   "metadata": {},
   "outputs": [],
   "source": [
    "data['PyTorch'] = data['fullJobDescribtion'].apply(lambda x: 1 if 'pytorch' in x.lower() else 0)"
   ]
  },
  {
   "cell_type": "markdown",
   "id": "438736c3",
   "metadata": {},
   "source": [
    "#### We want to create a new feature TensorFlow based on Job Description to get total of job description which contain a TensorFlow"
   ]
  },
  {
   "cell_type": "code",
   "execution_count": 137,
   "id": "6bdc1e6c",
   "metadata": {},
   "outputs": [],
   "source": [
    "data['TensorFlow'] = data['fullJobDescribtion'].apply(lambda x: 1 if 'tensorflow' in x.lower() or 'tf' in x.lower() else 0)"
   ]
  },
  {
   "cell_type": "markdown",
   "id": "69fd60cd",
   "metadata": {},
   "source": [
    "#### We want to create a new feature Tableau based on Job Description to get total of job description which contain a Tableau"
   ]
  },
  {
   "cell_type": "code",
   "execution_count": 138,
   "id": "d3f40cfd",
   "metadata": {},
   "outputs": [],
   "source": [
    "data['Tableau'] = data['fullJobDescribtion'].apply(lambda x: 1 if 'tableau' in x.lower() else 0)"
   ]
  },
  {
   "cell_type": "markdown",
   "id": "a8156305",
   "metadata": {},
   "source": [
    "#### We want to create a new feature Keras based on Job Description to get total of job description which contain a Keras"
   ]
  },
  {
   "cell_type": "code",
   "execution_count": 139,
   "id": "dcb00054",
   "metadata": {},
   "outputs": [],
   "source": [
    "data['Keras'] = data['fullJobDescribtion'].apply(lambda x: 1 if 'keras' in x.lower() else 0)"
   ]
  },
  {
   "cell_type": "markdown",
   "id": "831d14e5",
   "metadata": {},
   "source": [
    "#### We want to create a new feature Keras based on Job Description to get total of job description which contain a Keras"
   ]
  },
  {
   "cell_type": "code",
   "execution_count": 140,
   "id": "8b19251d",
   "metadata": {},
   "outputs": [],
   "source": [
    "data['Keras'] = data['fullJobDescribtion'].apply(lambda x: 1 if 'keras' in x.lower() else 0)"
   ]
  },
  {
   "cell_type": "markdown",
   "id": "0e489421",
   "metadata": {},
   "source": [
    "#### We want to create a new feature Deep_Learning based on Job Description to get total of job description which contain a Deep Learning"
   ]
  },
  {
   "cell_type": "code",
   "execution_count": 141,
   "id": "88576310",
   "metadata": {},
   "outputs": [],
   "source": [
    "data['Deep_Learning'] = data['fullJobDescribtion'].apply(lambda x:1 if ('deep learning' in x.lower() or 'dl' in x.lower()) else 0)"
   ]
  },
  {
   "cell_type": "markdown",
   "id": "b6a22700",
   "metadata": {},
   "source": [
    "#### We want to create a new feature Machine_Deep based on Job Description to get total of job description which contain Deep Learning and Machine Learning "
   ]
  },
  {
   "cell_type": "code",
   "execution_count": 142,
   "id": "eca5f24d",
   "metadata": {},
   "outputs": [],
   "source": [
    "data['Machine_Deep'] =((data['Deep_Learning'] ==1 ) & (data['Machine_Learning'] ==1 ))\n",
    "data['Machine_Deep'] = data['Machine_Deep'].map({True:1,False:0})"
   ]
  },
  {
   "cell_type": "markdown",
   "id": "f082d4d5",
   "metadata": {},
   "source": [
    "#### We're gonna just make the CSV file after data cleaning"
   ]
  },
  {
   "cell_type": "code",
   "execution_count": 143,
   "id": "f0154bff",
   "metadata": {},
   "outputs": [],
   "source": [
    "data.to_csv('data_after_cleaning.csv',index=False)"
   ]
  }
 ],
 "metadata": {
  "kernelspec": {
   "display_name": "Python 3 (ipykernel)",
   "language": "python",
   "name": "python3"
  },
  "language_info": {
   "codemirror_mode": {
    "name": "ipython",
    "version": 3
   },
   "file_extension": ".py",
   "mimetype": "text/x-python",
   "name": "python",
   "nbconvert_exporter": "python",
   "pygments_lexer": "ipython3",
   "version": "3.7.1"
  }
 },
 "nbformat": 4,
 "nbformat_minor": 5
}
