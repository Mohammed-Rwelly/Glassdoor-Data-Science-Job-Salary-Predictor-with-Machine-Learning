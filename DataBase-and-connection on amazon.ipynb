{
 "cells": [
  {
   "cell_type": "markdown",
   "id": "6e0bcf27",
   "metadata": {},
   "source": [
    "#### Create new Database and Table online "
   ]
  },
  {
   "cell_type": "code",
   "execution_count": 26,
   "id": "6367302a",
   "metadata": {},
   "outputs": [],
   "source": [
    "import pymysql\n",
    "# database connection\n",
    "db = pymysql.connect(user='admin',\n",
    "                     password = '12345678',\n",
    "                     host = 'database-1.ciaff8ckhmlj.us-west-2.rds.amazonaws.com')"
   ]
  },
  {
   "cell_type": "markdown",
   "id": "463c3ef9",
   "metadata": {},
   "source": [
    "#### preparing a cursor object"
   ]
  },
  {
   "cell_type": "code",
   "execution_count": 27,
   "id": "a04f6d5d",
   "metadata": {},
   "outputs": [],
   "source": [
    "cursor = db.cursor()"
   ]
  },
  {
   "cell_type": "markdown",
   "id": "7a485dcd",
   "metadata": {},
   "source": [
    "#### Creating the first database"
   ]
  },
  {
   "cell_type": "markdown",
   "id": "3322b83c",
   "metadata": {},
   "source": [
    "#### Display All Databases"
   ]
  },
  {
   "cell_type": "code",
   "execution_count": 29,
   "id": "cf708188",
   "metadata": {},
   "outputs": [
    {
     "name": "stdout",
     "output_type": "stream",
     "text": [
      "('GlassdoorDataBase',)\n",
      "('IndeedDataBase',)\n",
      "('RECOVER_DATABASE_HSA',)\n",
      "('datafromglassdoor',)\n",
      "('datafromglassdoor1',)\n",
      "('datafromglassdoor2',)\n",
      "('information_schema',)\n",
      "('mysql',)\n",
      "('performance_schema',)\n",
      "('sys',)\n"
     ]
    }
   ],
   "source": [
    "cursor.execute(\"SHOW DATABASES\")\n",
    "for db in cursor:\n",
    "    print(db)"
   ]
  },
  {
   "cell_type": "markdown",
   "id": "f3582b8c",
   "metadata": {},
   "source": [
    "#### Connecting to Dataset after creating "
   ]
  },
  {
   "cell_type": "code",
   "execution_count": 30,
   "id": "4f375f62",
   "metadata": {},
   "outputs": [],
   "source": [
    "db = pymysql.connect(user='admin',\n",
    "                     password = '12345678',\n",
    "                     host = 'database-1.ciaff8ckhmlj.us-west-2.rds.amazonaws.com',\n",
    "                     database='datafromglassdoor2')"
   ]
  },
  {
   "cell_type": "code",
   "execution_count": 31,
   "id": "e636516e",
   "metadata": {},
   "outputs": [],
   "source": [
    "cursor = db.cursor()"
   ]
  },
  {
   "cell_type": "markdown",
   "id": "6b45c533",
   "metadata": {},
   "source": [
    "#### Create new table named GlassdoorDataset"
   ]
  },
  {
   "cell_type": "code",
   "execution_count": 16,
   "id": "3eef01e8",
   "metadata": {},
   "outputs": [
    {
     "data": {
      "text/plain": [
       "0"
      ]
     },
     "execution_count": 16,
     "metadata": {},
     "output_type": "execute_result"
    }
   ],
   "source": [
    "sql = '''\n",
    "create table GlassdoorDataset2 (\n",
    "JobId  nvarchar (50) , \n",
    "Source nvarchar (50) , \n",
    "CollectedDate date , \n",
    "JobTitle nvarchar (50) , \n",
    "CompanyName nvarchar (50)  ,\n",
    "RatingNumber nvarchar (50)  ,\n",
    "PostedDate nvarchar (50)  ,\n",
    "Posted_Date_N date , \n",
    "Salary nvarchar (50)  ,\n",
    "JobURL nvarchar (50) ,\n",
    "fullJobDescribtion MEDIUMTEXT,\n",
    "Size nvarchar (50),\n",
    "Type_Of_Ownership nvarchar (50),\n",
    "Sector nvarchar (50),\n",
    "Founded nvarchar (50),\n",
    "Industry nvarchar (50),\n",
    "Revenue nvarchar (50)\n",
    ")\n",
    "\n",
    "'''\n",
    "cursor.execute(sql)"
   ]
  },
  {
   "cell_type": "markdown",
   "id": "e558c407",
   "metadata": {},
   "source": [
    "#### Close the connection"
   ]
  },
  {
   "cell_type": "code",
   "execution_count": 32,
   "id": "74f240c9",
   "metadata": {},
   "outputs": [],
   "source": [
    "cursor.close()"
   ]
  },
  {
   "cell_type": "markdown",
   "id": "51394343",
   "metadata": {},
   "source": [
    "#### How many records are Duplicate?"
   ]
  },
  {
   "cell_type": "code",
   "execution_count": 32,
   "id": "3a7d7eb7",
   "metadata": {},
   "outputs": [],
   "source": [
    "def dup ():\n",
    "    sql=''' SELECT JobId,count(JobId) FROM GlassdoorDataset2 GROUP BY JobId HAVING count(JobId) >=1;'''\n",
    "    cursor.execute(sql)\n",
    "    duplicate=cursor.fetchall()\n",
    "    print(len(duplicate))"
   ]
  },
  {
   "cell_type": "markdown",
   "id": "2e447364",
   "metadata": {},
   "source": [
    "#### How many row in dataset ?"
   ]
  },
  {
   "cell_type": "code",
   "execution_count": 33,
   "id": "bebb4686",
   "metadata": {},
   "outputs": [],
   "source": [
    "def count ():\n",
    "    sql = '''SELECT COUNT(JobId)FROM GlassdoorDataset2 '''\n",
    "    cursor.execute(sql)\n",
    "    count = cursor.fetchall()\n",
    "    print (count)"
   ]
  },
  {
   "cell_type": "markdown",
   "id": "b0262bd6",
   "metadata": {},
   "source": [
    "#### display all row and columns "
   ]
  },
  {
   "cell_type": "code",
   "execution_count": 34,
   "id": "3c97f846",
   "metadata": {},
   "outputs": [],
   "source": [
    "def data_from_amazon():\n",
    "    sql='''SELECT * FROM GlassdoorDataset2'''\n",
    "    cursor.execute(sql)\n",
    "    data = cursor.fetchall()\n",
    "    return data"
   ]
  },
  {
   "cell_type": "code",
   "execution_count": 35,
   "id": "4f11bffc",
   "metadata": {},
   "outputs": [
    {
     "name": "stdout",
     "output_type": "stream",
     "text": [
      "((2268,),)\n"
     ]
    }
   ],
   "source": [
    "count()"
   ]
  },
  {
   "cell_type": "code",
   "execution_count": 36,
   "id": "0db0e4ff",
   "metadata": {},
   "outputs": [
    {
     "data": {
      "text/html": [
       "<div>\n",
       "<style scoped>\n",
       "    .dataframe tbody tr th:only-of-type {\n",
       "        vertical-align: middle;\n",
       "    }\n",
       "\n",
       "    .dataframe tbody tr th {\n",
       "        vertical-align: top;\n",
       "    }\n",
       "\n",
       "    .dataframe thead th {\n",
       "        text-align: right;\n",
       "    }\n",
       "</style>\n",
       "<table border=\"1\" class=\"dataframe\">\n",
       "  <thead>\n",
       "    <tr style=\"text-align: right;\">\n",
       "      <th></th>\n",
       "      <th>0</th>\n",
       "      <th>1</th>\n",
       "      <th>2</th>\n",
       "      <th>3</th>\n",
       "      <th>4</th>\n",
       "      <th>5</th>\n",
       "      <th>6</th>\n",
       "      <th>7</th>\n",
       "      <th>8</th>\n",
       "      <th>9</th>\n",
       "      <th>10</th>\n",
       "      <th>11</th>\n",
       "      <th>12</th>\n",
       "      <th>13</th>\n",
       "      <th>14</th>\n",
       "      <th>15</th>\n",
       "      <th>16</th>\n",
       "    </tr>\n",
       "  </thead>\n",
       "  <tbody>\n",
       "    <tr>\n",
       "      <th>0</th>\n",
       "      <td>1008266954603</td>\n",
       "      <td>Glassdoor</td>\n",
       "      <td>2022-11-09</td>\n",
       "      <td>Data Scientist</td>\n",
       "      <td>Creatura Consulting\\n5.0</td>\n",
       "      <td>5.0</td>\n",
       "      <td>24h</td>\n",
       "      <td>2022-10-16</td>\n",
       "      <td>$45.00 - $75.00 Per Hour(Employer est.)</td>\n",
       "      <td>https://www.glassdoor.com/partner/jobListing.h...</td>\n",
       "      <td>The ideal candidate's favorite words are learn...</td>\n",
       "      <td>1 to 50 Employees</td>\n",
       "      <td>Company - Private</td>\n",
       "      <td>N/A</td>\n",
       "      <td>N/A</td>\n",
       "      <td>N/A</td>\n",
       "      <td>Unknown / Non-Applicable</td>\n",
       "    </tr>\n",
       "    <tr>\n",
       "      <th>1</th>\n",
       "      <td>1008266055464</td>\n",
       "      <td>Glassdoor</td>\n",
       "      <td>2022-11-09</td>\n",
       "      <td>Jr. Data Scientist (Remote)</td>\n",
       "      <td>RELX\\n3.9</td>\n",
       "      <td>3.9</td>\n",
       "      <td>24h</td>\n",
       "      <td>2022-10-16</td>\n",
       "      <td>$54K - $77K (Glassdoor est.)</td>\n",
       "      <td>https://www.glassdoor.com/partner/jobListing.h...</td>\n",
       "      <td>This position can be home-based anywhere in th...</td>\n",
       "      <td>10000+ Employees</td>\n",
       "      <td>Company - Public</td>\n",
       "      <td>Information Technology</td>\n",
       "      <td>1880</td>\n",
       "      <td>Information Technology Support Services</td>\n",
       "      <td>$10+ billion (USD)</td>\n",
       "    </tr>\n",
       "    <tr>\n",
       "      <th>2</th>\n",
       "      <td>1008259480518</td>\n",
       "      <td>Glassdoor</td>\n",
       "      <td>2022-11-09</td>\n",
       "      <td>Data Scientist- Coding Dojo Hiring Partner</td>\n",
       "      <td>CODING DOJO INC\\n3.9</td>\n",
       "      <td>3.9</td>\n",
       "      <td>4d</td>\n",
       "      <td>2022-11-05</td>\n",
       "      <td>N/A</td>\n",
       "      <td>https://www.glassdoor.com/partner/jobListing.h...</td>\n",
       "      <td>Title: Data Scientist\\nLocation: Remote\\nType:...</td>\n",
       "      <td>51 to 200 Employees</td>\n",
       "      <td>Company - Private</td>\n",
       "      <td>Education</td>\n",
       "      <td>2013</td>\n",
       "      <td>Education &amp; Training Services</td>\n",
       "      <td>$5 to $25 million (USD)</td>\n",
       "    </tr>\n",
       "    <tr>\n",
       "      <th>3</th>\n",
       "      <td>1008266830132</td>\n",
       "      <td>Glassdoor</td>\n",
       "      <td>2022-11-09</td>\n",
       "      <td>Data Scientist - REMOTE</td>\n",
       "      <td>John Deere\\n4.1</td>\n",
       "      <td>4.1</td>\n",
       "      <td>24h</td>\n",
       "      <td>2022-10-16</td>\n",
       "      <td>$86K - $129K (Glassdoor est.)</td>\n",
       "      <td>https://www.glassdoor.com/partner/jobListing.h...</td>\n",
       "      <td>There are over 7 billion people on this planet...</td>\n",
       "      <td>10000+ Employees</td>\n",
       "      <td>Company - Public</td>\n",
       "      <td>Manufacturing</td>\n",
       "      <td>1837</td>\n",
       "      <td>Machinery Manufacturing</td>\n",
       "      <td>$10+ billion (USD)</td>\n",
       "    </tr>\n",
       "    <tr>\n",
       "      <th>4</th>\n",
       "      <td>1008253713007</td>\n",
       "      <td>Glassdoor</td>\n",
       "      <td>2022-11-09</td>\n",
       "      <td>Junior Data Scientist</td>\n",
       "      <td>World Bank Group\\n4.2</td>\n",
       "      <td>N/A</td>\n",
       "      <td>6d</td>\n",
       "      <td>2022-11-03</td>\n",
       "      <td>$70K - $108K (Glassdoor est.)</td>\n",
       "      <td>https://www.glassdoor.com/partner/jobListing.h...</td>\n",
       "      <td>Job #:\\nreq19774\\n\\nOrganization:\\nWorld Bank\\...</td>\n",
       "      <td>10000+ Employees</td>\n",
       "      <td>Nonprofit Organization</td>\n",
       "      <td>N/A</td>\n",
       "      <td>N/A</td>\n",
       "      <td>N/A</td>\n",
       "      <td>$1 to $5 billion (USD)</td>\n",
       "    </tr>\n",
       "    <tr>\n",
       "      <th>...</th>\n",
       "      <td>...</td>\n",
       "      <td>...</td>\n",
       "      <td>...</td>\n",
       "      <td>...</td>\n",
       "      <td>...</td>\n",
       "      <td>...</td>\n",
       "      <td>...</td>\n",
       "      <td>...</td>\n",
       "      <td>...</td>\n",
       "      <td>...</td>\n",
       "      <td>...</td>\n",
       "      <td>...</td>\n",
       "      <td>...</td>\n",
       "      <td>...</td>\n",
       "      <td>...</td>\n",
       "      <td>...</td>\n",
       "      <td>...</td>\n",
       "    </tr>\n",
       "    <tr>\n",
       "      <th>2263</th>\n",
       "      <td>1007751227553</td>\n",
       "      <td>Glassdoor</td>\n",
       "      <td>2022-11-14</td>\n",
       "      <td>Junior Data Scientist-Remote</td>\n",
       "      <td>Sabre Systems Inc.\\n4.7</td>\n",
       "      <td>4.7</td>\n",
       "      <td>30d+</td>\n",
       "      <td>2022-10-15</td>\n",
       "      <td>N/A</td>\n",
       "      <td>https://www.glassdoor.com/partner/jobListing.h...</td>\n",
       "      <td>Responsibilities:\\nThe NAVAIR Digital Group le...</td>\n",
       "      <td>201 to 500 Employees</td>\n",
       "      <td>Company - Private</td>\n",
       "      <td>Aerospace &amp; Defense</td>\n",
       "      <td>1989</td>\n",
       "      <td>Aerospace &amp; Defense</td>\n",
       "      <td>$25 to $100 million (USD)</td>\n",
       "    </tr>\n",
       "    <tr>\n",
       "      <th>2264</th>\n",
       "      <td>1008263900986</td>\n",
       "      <td>Glassdoor</td>\n",
       "      <td>2022-11-14</td>\n",
       "      <td>Associate Data Scientist</td>\n",
       "      <td>Abbott Laboratories\\n3.8</td>\n",
       "      <td>3.8</td>\n",
       "      <td>6d</td>\n",
       "      <td>2022-11-08</td>\n",
       "      <td>$83K - $120K (Glassdoor est.)</td>\n",
       "      <td>https://www.glassdoor.com/partner/jobListing.h...</td>\n",
       "      <td>Abbott is a global healthcare leader that help...</td>\n",
       "      <td>10000+ Employees</td>\n",
       "      <td>Company - Public</td>\n",
       "      <td>Healthcare</td>\n",
       "      <td>1888</td>\n",
       "      <td>Health Care Services &amp; Hospitals</td>\n",
       "      <td>$10+ billion (USD)</td>\n",
       "    </tr>\n",
       "    <tr>\n",
       "      <th>2265</th>\n",
       "      <td>1008238407975</td>\n",
       "      <td>Glassdoor</td>\n",
       "      <td>2022-11-14</td>\n",
       "      <td>Data Scientist (100% Remote) PERM AMICA</td>\n",
       "      <td>Access to future</td>\n",
       "      <td>N/A</td>\n",
       "      <td>17d</td>\n",
       "      <td>2022-10-28</td>\n",
       "      <td>$110K - $115K (Employer est.)</td>\n",
       "      <td>https://www.glassdoor.com/partner/jobListing.h...</td>\n",
       "      <td>Number of openings: 1\\nSalary: $115k PERM (som...</td>\n",
       "      <td>Unknown</td>\n",
       "      <td>Company - Public</td>\n",
       "      <td>N/A</td>\n",
       "      <td>N/A</td>\n",
       "      <td>N/A</td>\n",
       "      <td>Unknown / Non-Applicable</td>\n",
       "    </tr>\n",
       "    <tr>\n",
       "      <th>2266</th>\n",
       "      <td>1008102598975</td>\n",
       "      <td>Glassdoor</td>\n",
       "      <td>2022-11-14</td>\n",
       "      <td>Data Scientist</td>\n",
       "      <td>CVS Health\\n3.1</td>\n",
       "      <td>3.1</td>\n",
       "      <td>30d+</td>\n",
       "      <td>2022-10-15</td>\n",
       "      <td>$60K - $129K (Employer est.)</td>\n",
       "      <td>https://www.glassdoor.com/partner/jobListing.h...</td>\n",
       "      <td>Description/Fundamental Components:\\n\\nDevelop...</td>\n",
       "      <td>10000+ Employees</td>\n",
       "      <td>Company - Public</td>\n",
       "      <td>Healthcare</td>\n",
       "      <td>1963</td>\n",
       "      <td>Health Care Services &amp; Hospitals</td>\n",
       "      <td>$10+ billion (USD)</td>\n",
       "    </tr>\n",
       "    <tr>\n",
       "      <th>2267</th>\n",
       "      <td>1008275070634</td>\n",
       "      <td>Glassdoor</td>\n",
       "      <td>2022-11-14</td>\n",
       "      <td>Data Scientist (Experimentation)</td>\n",
       "      <td>FocusKPI Inc.\\n3.3</td>\n",
       "      <td>3.3</td>\n",
       "      <td>2d</td>\n",
       "      <td>2022-11-12</td>\n",
       "      <td>$98K - $140K (Glassdoor est.)</td>\n",
       "      <td>https://www.glassdoor.com/partner/jobListing.h...</td>\n",
       "      <td>FocusKPI, Inc. is looking for a Data Scientist...</td>\n",
       "      <td>51 to 200 Employees</td>\n",
       "      <td>Company - Private</td>\n",
       "      <td>Media &amp; Communication</td>\n",
       "      <td>N/A</td>\n",
       "      <td>Advertising &amp; Public Relations</td>\n",
       "      <td>Less than $1 million (USD)</td>\n",
       "    </tr>\n",
       "  </tbody>\n",
       "</table>\n",
       "<p>2268 rows × 17 columns</p>\n",
       "</div>"
      ],
      "text/plain": [
       "                 0          1           2   \\\n",
       "0     1008266954603  Glassdoor  2022-11-09   \n",
       "1     1008266055464  Glassdoor  2022-11-09   \n",
       "2     1008259480518  Glassdoor  2022-11-09   \n",
       "3     1008266830132  Glassdoor  2022-11-09   \n",
       "4     1008253713007  Glassdoor  2022-11-09   \n",
       "...             ...        ...         ...   \n",
       "2263  1007751227553  Glassdoor  2022-11-14   \n",
       "2264  1008263900986  Glassdoor  2022-11-14   \n",
       "2265  1008238407975  Glassdoor  2022-11-14   \n",
       "2266  1008102598975  Glassdoor  2022-11-14   \n",
       "2267  1008275070634  Glassdoor  2022-11-14   \n",
       "\n",
       "                                              3                         4   \\\n",
       "0                                 Data Scientist  Creatura Consulting\\n5.0   \n",
       "1                    Jr. Data Scientist (Remote)                 RELX\\n3.9   \n",
       "2     Data Scientist- Coding Dojo Hiring Partner      CODING DOJO INC\\n3.9   \n",
       "3                        Data Scientist - REMOTE           John Deere\\n4.1   \n",
       "4                          Junior Data Scientist     World Bank Group\\n4.2   \n",
       "...                                          ...                       ...   \n",
       "2263                Junior Data Scientist-Remote   Sabre Systems Inc.\\n4.7   \n",
       "2264                    Associate Data Scientist  Abbott Laboratories\\n3.8   \n",
       "2265     Data Scientist (100% Remote) PERM AMICA          Access to future   \n",
       "2266                              Data Scientist           CVS Health\\n3.1   \n",
       "2267            Data Scientist (Experimentation)        FocusKPI Inc.\\n3.3   \n",
       "\n",
       "       5     6           7                                        8   \\\n",
       "0     5.0   24h  2022-10-16  $45.00 - $75.00 Per Hour(Employer est.)   \n",
       "1     3.9   24h  2022-10-16             $54K - $77K (Glassdoor est.)   \n",
       "2     3.9    4d  2022-11-05                                      N/A   \n",
       "3     4.1   24h  2022-10-16            $86K - $129K (Glassdoor est.)   \n",
       "4     N/A    6d  2022-11-03            $70K - $108K (Glassdoor est.)   \n",
       "...   ...   ...         ...                                      ...   \n",
       "2263  4.7  30d+  2022-10-15                                      N/A   \n",
       "2264  3.8    6d  2022-11-08            $83K - $120K (Glassdoor est.)   \n",
       "2265  N/A   17d  2022-10-28            $110K - $115K (Employer est.)   \n",
       "2266  3.1  30d+  2022-10-15             $60K - $129K (Employer est.)   \n",
       "2267  3.3    2d  2022-11-12            $98K - $140K (Glassdoor est.)   \n",
       "\n",
       "                                                     9   \\\n",
       "0     https://www.glassdoor.com/partner/jobListing.h...   \n",
       "1     https://www.glassdoor.com/partner/jobListing.h...   \n",
       "2     https://www.glassdoor.com/partner/jobListing.h...   \n",
       "3     https://www.glassdoor.com/partner/jobListing.h...   \n",
       "4     https://www.glassdoor.com/partner/jobListing.h...   \n",
       "...                                                 ...   \n",
       "2263  https://www.glassdoor.com/partner/jobListing.h...   \n",
       "2264  https://www.glassdoor.com/partner/jobListing.h...   \n",
       "2265  https://www.glassdoor.com/partner/jobListing.h...   \n",
       "2266  https://www.glassdoor.com/partner/jobListing.h...   \n",
       "2267  https://www.glassdoor.com/partner/jobListing.h...   \n",
       "\n",
       "                                                     10                    11  \\\n",
       "0     The ideal candidate's favorite words are learn...     1 to 50 Employees   \n",
       "1     This position can be home-based anywhere in th...      10000+ Employees   \n",
       "2     Title: Data Scientist\\nLocation: Remote\\nType:...   51 to 200 Employees   \n",
       "3     There are over 7 billion people on this planet...      10000+ Employees   \n",
       "4     Job #:\\nreq19774\\n\\nOrganization:\\nWorld Bank\\...      10000+ Employees   \n",
       "...                                                 ...                   ...   \n",
       "2263  Responsibilities:\\nThe NAVAIR Digital Group le...  201 to 500 Employees   \n",
       "2264  Abbott is a global healthcare leader that help...      10000+ Employees   \n",
       "2265  Number of openings: 1\\nSalary: $115k PERM (som...               Unknown   \n",
       "2266  Description/Fundamental Components:\\n\\nDevelop...      10000+ Employees   \n",
       "2267  FocusKPI, Inc. is looking for a Data Scientist...   51 to 200 Employees   \n",
       "\n",
       "                          12                      13    14  \\\n",
       "0          Company - Private                     N/A   N/A   \n",
       "1           Company - Public  Information Technology  1880   \n",
       "2          Company - Private               Education  2013   \n",
       "3           Company - Public           Manufacturing  1837   \n",
       "4     Nonprofit Organization                     N/A   N/A   \n",
       "...                      ...                     ...   ...   \n",
       "2263       Company - Private     Aerospace & Defense  1989   \n",
       "2264        Company - Public              Healthcare  1888   \n",
       "2265        Company - Public                     N/A   N/A   \n",
       "2266        Company - Public              Healthcare  1963   \n",
       "2267       Company - Private   Media & Communication   N/A   \n",
       "\n",
       "                                           15                          16  \n",
       "0                                         N/A    Unknown / Non-Applicable  \n",
       "1     Information Technology Support Services          $10+ billion (USD)  \n",
       "2               Education & Training Services     $5 to $25 million (USD)  \n",
       "3                     Machinery Manufacturing          $10+ billion (USD)  \n",
       "4                                         N/A      $1 to $5 billion (USD)  \n",
       "...                                       ...                         ...  \n",
       "2263                      Aerospace & Defense   $25 to $100 million (USD)  \n",
       "2264         Health Care Services & Hospitals          $10+ billion (USD)  \n",
       "2265                                      N/A    Unknown / Non-Applicable  \n",
       "2266         Health Care Services & Hospitals          $10+ billion (USD)  \n",
       "2267           Advertising & Public Relations  Less than $1 million (USD)  \n",
       "\n",
       "[2268 rows x 17 columns]"
      ]
     },
     "execution_count": 36,
     "metadata": {},
     "output_type": "execute_result"
    }
   ],
   "source": [
    "import pandas as pd\n",
    "data=pd.DataFrame(data_from_amazon())\n",
    "data"
   ]
  },
  {
   "cell_type": "code",
   "execution_count": 37,
   "id": "4b52ed21",
   "metadata": {},
   "outputs": [],
   "source": [
    "data.rename({0:'JobId',1:'Source',2:'CollectedDate',3:'JobTitle',4:'CompanyName',5:'RatingNumber',6:'PostedDate',7:'Posted_Date_N',8:'Salary',9:'jobType',10:'JobURL',11:'fullJobDescribtion',12:'Size',13:'Type_Of_Ownership',14:'Sector',15:'Founded',16:'Industry',17:'Revenue'},inplace=True,axis=1)"
   ]
  },
  {
   "cell_type": "code",
   "execution_count": 11,
   "id": "d59c6a9f",
   "metadata": {},
   "outputs": [],
   "source": [
    "data.head()"
   ]
  },
  {
   "cell_type": "code",
   "execution_count": 53,
   "id": "056dc728",
   "metadata": {},
   "outputs": [],
   "source": [
    "data.to_excel(\"orginal_data_from_glassdoor2.xlsx\",index=True)"
   ]
  }
 ],
 "metadata": {
  "kernelspec": {
   "display_name": "Python 3 (ipykernel)",
   "language": "python",
   "name": "python3"
  },
  "language_info": {
   "codemirror_mode": {
    "name": "ipython",
    "version": 3
   },
   "file_extension": ".py",
   "mimetype": "text/x-python",
   "name": "python",
   "nbconvert_exporter": "python",
   "pygments_lexer": "ipython3",
   "version": "3.7.1"
  }
 },
 "nbformat": 4,
 "nbformat_minor": 5
}
